{
 "cells": [
  {
   "cell_type": "code",
   "execution_count": 2,
   "id": "1af249e1",
   "metadata": {},
   "outputs": [],
   "source": [
    "!pip3 install -q -U transformers\n",
    "!pip3 install -q -U torch\n",
    "!pip3 install -q -U huggingface_hub\n",
    "!pip3 install -q -U dotenv"
   ]
  },
  {
   "cell_type": "code",
   "execution_count": 3,
   "id": "7dbd8e99",
   "metadata": {},
   "outputs": [
    {
     "name": "stderr",
     "output_type": "stream",
     "text": [
      "Note: Environment variable`HF_TOKEN` is set and is the current active token independently from the token you've just configured.\n"
     ]
    }
   ],
   "source": [
    "from huggingface_hub import login\n",
    "import os\n",
    "from dotenv import load_dotenv\n",
    "\n",
    "load_dotenv()  # looks for .env in current dir\n",
    "hf_token = os.getenv(\"HF_TOKEN\")\n",
    "login(token=hf_token)"
   ]
  },
  {
   "cell_type": "code",
   "execution_count": 9,
   "id": "2d4a68bb",
   "metadata": {},
   "outputs": [
    {
     "name": "stderr",
     "output_type": "stream",
     "text": [
      "Loading checkpoint shards: 100%|██████████| 2/2 [00:00<00:00, 10.04it/s]\n",
      "Device set to use mps\n"
     ]
    }
   ],
   "source": [
    "import torch\n",
    "from transformers import pipeline, AutoProcessor\n",
    "\n",
    "device = \"mps\" if torch.backends.mps.is_available() else \"cpu\"\n",
    "dtype  = torch.bfloat16  # bf16 on MPS can be flaky\n",
    "\n",
    "model_id = \"google/gemma-3-4b-it\"\n",
    "\n",
    "processor = AutoProcessor.from_pretrained(model_id, use_fast=True)\n",
    "pipe = pipeline(\n",
    "    task=\"image-text-to-text\",\n",
    "    model=model_id,\n",
    "    processor=processor,          # forces fast processor, no warning\n",
    "    torch_dtype=dtype,\n",
    "    device=device                 # works for CPU/\"mps\"/cuda in recent Transformers\n",
    ")"
   ]
  },
  {
   "cell_type": "code",
   "execution_count": 10,
   "id": "2b635922",
   "metadata": {},
   "outputs": [
    {
     "name": "stdout",
     "output_type": "stream",
     "text": [
      "Okay, here's a detailed description of the image I'm seeing:\n",
      "\n",
      "**Overall Impression:** The photo appears to be taken inside a modern, somewhat minimalist business space – likely a clinic, office, or perhaps a boutique. It has a clean and professional feel.\n",
      "\n",
      "**Key Elements:**\n",
      "\n",
      "*   **Ceiling:** The dominant feature is the ceiling. It’s a light gray color with a slightly textured, possibly acoustic, finish. There’s a noticeable slope or angle to it, giving the room a modern, architectural feel. There are recessed lighting fixtures evenly spaced across the ceiling.\n",
      "*   **Pendant\n"
     ]
    }
   ],
   "source": [
    "messages = [\n",
    "    {\n",
    "        \"role\": \"system\",\n",
    "        \"content\": [\n",
    "            {\"type\": \"text\", \"text\": (\n",
    "                \"You are a potential customer looking at Google review images. \"\n",
    "                # \"Always respond in two clearly labeled sections:\\n\"\n",
    "                # \"Answer: <short, factual yes/no/N/A>\\n\"\n",
    "                # \"Rationale: <explain based on visible features>\"\n",
    "            )}\n",
    "        ]\n",
    "    },\n",
    "    {\n",
    "        \"role\": \"user\",\n",
    "        \"content\": [\n",
    "            {\"type\": \"image\", \"url\": \"https://lh5.googleusercontent.com/p/AF1QipMBzN4BJV9YCObcw_ifNzFPm-u38hO3oimOA8Fb=w150-h150-k-no-p\"},\n",
    "            {\"type\": \"text\", \"text\": (\n",
    "                \"Describe the image in detail.\"\n",
    "            )}\n",
    "        ]\n",
    "    }\n",
    "]\n",
    "\n",
    "output = pipe(text=messages, max_new_tokens=128)\n",
    "print(output[0][\"generated_text\"][-1][\"content\"])"
   ]
  },
  {
   "cell_type": "code",
   "execution_count": null,
   "id": "078b8c1f",
   "metadata": {},
   "outputs": [],
   "source": []
  }
 ],
 "metadata": {
  "kernelspec": {
   "display_name": "Python 3",
   "language": "python",
   "name": "python3"
  },
  "language_info": {
   "codemirror_mode": {
    "name": "ipython",
    "version": 3
   },
   "file_extension": ".py",
   "mimetype": "text/x-python",
   "name": "python",
   "nbconvert_exporter": "python",
   "pygments_lexer": "ipython3",
   "version": "3.13.0"
  }
 },
 "nbformat": 4,
 "nbformat_minor": 5
}
