{
 "cells": [
  {
   "cell_type": "code",
   "execution_count": 2,
   "id": "ac55ae87",
   "metadata": {},
   "outputs": [
    {
     "name": "stdout",
     "output_type": "stream",
     "text": [
      "0         Always done right from wood stove to screens!\n",
      "1     A great company to work with. Their sales and ...\n",
      "2     Great place to do business with staff was grea...\n",
      "3     Awesome Customer service, quick response, and ...\n",
      "4     If you need a top quality job, by a group of p...\n",
      "5     These guys are the best. They showed up right ...\n",
      "6     Great customer service, friendly and professio...\n",
      "7     Two royal group employees saved me! I ran out ...\n",
      "8     First time visit, and I will go back. This sho...\n",
      "9          Love Carrs....always have very nice people!!\n",
      "10    Love this flower shop. Every time I've been th...\n",
      "11      Friendly, helpful staff. Great place for gifts.\n",
      "12    Very honest and helpful. Glad I went there. I ...\n",
      "13    I had them replace two broken studs on my righ...\n",
      "14    Brent is very friendly and always willing to h...\n",
      "15    Always friendly service. Honest and profession...\n",
      "16    I'm not sure why people rate this place poorly...\n",
      "17                              Gabriel does great work\n",
      "18                                   Good quality work.\n",
      "19    If you want to get ripped off, very dishonest ...\n",
      "Name: text, dtype: object\n"
     ]
    }
   ],
   "source": [
    "import pandas as pd\n",
    "\n",
    "# 1) Load as strings; don't auto-convert empty cells to NaN\n",
    "df = pd.read_csv(\n",
    "    \"vermont_merged_text_and_or_review.csv\",\n",
    "    keep_default_na=False,   # keep \"\" instead of NaN\n",
    "    na_filter=False          # faster + keeps empty strings\n",
    ")\n",
    "\n",
    "# Show first 10 rows with column names\n",
    "print(df[\"text\"].head(20))"
   ]
  }
 ],
 "metadata": {
  "kernelspec": {
   "display_name": "Python 3",
   "language": "python",
   "name": "python3"
  },
  "language_info": {
   "codemirror_mode": {
    "name": "ipython",
    "version": 3
   },
   "file_extension": ".py",
   "mimetype": "text/x-python",
   "name": "python",
   "nbconvert_exporter": "python",
   "pygments_lexer": "ipython3",
   "version": "3.13.0"
  }
 },
 "nbformat": 4,
 "nbformat_minor": 5
}
