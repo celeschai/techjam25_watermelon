import pandas as pd
import os
os.getcwd()


vt = pd.read_json('review-Vermont_10.json', lines = True)


print(vt.head())
print(vt.columns)


vt = vt.drop(['name], axis = 1)


vt_pics = vt[vt['pics'].notna()]


print(vt_pics.head())


print(vt_pics['pics'])


import pprint
pprint.pprint(vt_pics.loc[17, 'pics'])


def collapse_pics(pic_list):
    if not pic_list:
        return []  # empty list if no pics
    urls = []
    for pic_dict in pic_list:
        # each pic_dict has key 'url' whose value is a list
        urls.extend(pic_dict.get('url', []))
    return urls

vt['pics_collapsed'] = vt['pics'].apply(collapse_pics)

print(vt['pics_collapsed'].iloc[17])



