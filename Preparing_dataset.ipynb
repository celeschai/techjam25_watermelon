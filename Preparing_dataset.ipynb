{
 "cells": [
  {
   "cell_type": "code",
   "execution_count": 1,
   "id": "777713bb-b282-468d-970e-04942240967c",
   "metadata": {},
   "outputs": [],
   "source": [
    "import pandas as pd\n",
    "import requests\n",
    "import gzip\n",
    "import json\n",
    "import io"
   ]
  },
  {
   "cell_type": "markdown",
   "id": "bc108a25-afb5-404e-8607-fb302c539cae",
   "metadata": {},
   "source": [
    "Read the initial json files"
   ]
  },
  {
   "cell_type": "markdown",
   "id": "31cc0bba-eaae-47e4-8868-9bd3b8e749f9",
   "metadata": {},
   "source": [
    "Read Review Data"
   ]
  },
  {
   "cell_type": "code",
   "execution_count": 2,
   "id": "8d2aa71c-65b6-482b-b6a8-3e38afb8e20e",
   "metadata": {},
   "outputs": [],
   "source": [
    "url = 'https://mcauleylab.ucsd.edu/public_datasets/gdrive/googlelocal/review-Vermont_10.json.gz'\n",
    "\n",
    "response = requests.get(url, stream = True)\n",
    "response.raise_for_status() \n",
    "\n",
    "with gzip.GzipFile(fileobj = io.BytesIO(response.content), mode = 'rb') as gz_file:\n",
    "    data_list = [json.loads(line) for line in gz_file]\n",
    "\n",
    "vt = pd.DataFrame(data_list)"
   ]
  },
  {
   "cell_type": "code",
   "execution_count": 3,
   "id": "fa7cd6fc-8da6-41de-98e2-3ab8303f030f",
   "metadata": {},
   "outputs": [
    {
     "name": "stdout",
     "output_type": "stream",
     "text": [
      "(324725, 8)\n",
      "Index(['user_id', 'name', 'time', 'rating', 'text', 'pics', 'resp', 'gmap_id'], dtype='object')\n"
     ]
    }
   ],
   "source": [
    "print(vt.shape)\n",
    "print(vt.columns)\n",
    "# print(vt.head())"
   ]
  },
  {
   "cell_type": "markdown",
   "id": "d922bb77-72e2-466a-a7cc-a4d554e69c18",
   "metadata": {},
   "source": [
    "Read Metadata"
   ]
  },
  {
   "cell_type": "code",
   "execution_count": 4,
   "id": "3e151a00-4ca4-4bde-9b95-8a7c6f5b3ffa",
   "metadata": {},
   "outputs": [],
   "source": [
    "url_metadata = 'https://mcauleylab.ucsd.edu/public_datasets/gdrive/googlelocal/meta-Vermont.json.gz'\n",
    "\n",
    "response_metadata = requests.get(url_metadata, stream = True)\n",
    "response_metadata.raise_for_status() \n",
    "\n",
    "with gzip.GzipFile(fileobj = io.BytesIO(response_metadata.content), mode = 'rb') as gz_file:\n",
    "    data_list1 = [json.loads(line) for line in gz_file]\n",
    "\n",
    "vt_metadata = pd.DataFrame(data_list1)"
   ]
  },
  {
   "cell_type": "code",
   "execution_count": 5,
   "id": "d1824f28-8fd0-496a-8c2d-6bc1e8d31b96",
   "metadata": {},
   "outputs": [
    {
     "name": "stdout",
     "output_type": "stream",
     "text": [
      "(11291, 15)\n",
      "Index(['name', 'address', 'gmap_id', 'description', 'latitude', 'longitude',\n",
      "       'category', 'avg_rating', 'num_of_reviews', 'price', 'hours', 'MISC',\n",
      "       'state', 'relative_results', 'url'],\n",
      "      dtype='object')\n"
     ]
    }
   ],
   "source": [
    "print(vt_metadata.shape)\n",
    "print(vt_metadata.columns)\n",
    "# print(vt_metadata.head())"
   ]
  },
  {
   "cell_type": "markdown",
   "id": "71683f6e-2bce-4708-961c-fa73675ec170",
   "metadata": {},
   "source": [
    "Data Cleaning"
   ]
  },
  {
   "cell_type": "markdown",
   "id": "9ed24ef9-0d84-4199-8b77-6340413ee9bf",
   "metadata": {},
   "source": [
    "Keep columns:\n",
    "Data; 'user_id', 'time', 'rating', 'text', 'pics', 'resp', 'gmap_id'\n",
    "Metadata; 'name', 'gmap_id', 'description', 'category', 'url'\n",
    "\n",
    "Cleaning:\n",
    "Lower case\n",
    "Drop duplicates\n",
    ".str.replace(r'\\s+', ' ', regex=True)"
   ]
  },
  {
   "cell_type": "markdown",
   "id": "16d7a60a-5aec-4589-9128-3b6d660b834d",
   "metadata": {},
   "source": [
    "Review Data"
   ]
  },
  {
   "cell_type": "code",
   "execution_count": 6,
   "id": "326e17de-8126-4d56-aea5-b76dddc552b1",
   "metadata": {},
   "outputs": [],
   "source": [
    "vt = vt.drop('name', axis = 1)\n",
    "vt.columns = vt.columns.str.lower() \n",
    "vt['text'] = vt['text'].str.replace(r'\\s+', ' ', regex=True)\n",
    "vt = vt.drop_duplicates(subset = ['user_id', 'text', 'gmap_id', 'time'])"
   ]
  },
  {
   "cell_type": "code",
   "execution_count": 7,
   "id": "87d0f1eb-e7a9-4094-a959-2319b9e845c6",
   "metadata": {},
   "outputs": [],
   "source": [
    "def collapse_pics(pic_list):\n",
    "    if not pic_list:\n",
    "        return []  \n",
    "    urls = []\n",
    "    for pic_dict in pic_list:\n",
    "        urls.extend(pic_dict.get('url', []))\n",
    "    return urls\n",
    "\n",
    "vt['pics_collapsed'] = vt['pics'].apply(collapse_pics)\n",
    "vt = vt.drop('pics', axis = 1)"
   ]
  },
  {
   "cell_type": "code",
   "execution_count": null,
   "id": "38e6667d-398f-4016-a926-987e18d079d5",
   "metadata": {},
   "outputs": [],
   "source": [
    "import re\n",
    "import json\n",
    "\n",
    "def extract_texts(resp_entry):\n",
    "    if isinstance(resp_entry, dict):\n",
    "        # single response dict\n",
    "        return resp_entry.get(\"text\", \"\")\n",
    "    elif isinstance(resp_entry, list):\n",
    "        # list of response dicts\n",
    "        return \" \".join([d.get(\"text\", \"\") for d in resp_entry if isinstance(d, dict)])\n",
    "    elif isinstance(resp_entry, str):\n",
    "        # fallback: extract with regex if it's a string\n",
    "        texts = re.findall(r'\"text\":\\s*\"([^\"]*)\"', resp_entry)\n",
    "        return \" \".join(texts)\n",
    "    else:\n",
    "        return \"\"\n",
    "    \n",
    "vt[\"resp_collapsed\"] = vt[\"resp\"].apply(extract_texts)\n",
    "vt = vt.drop(\"resp\", axis=1)"
   ]
  },
  {
   "cell_type": "code",
   "execution_count": 9,
   "id": "8dbb1ee4-c426-46e1-8c2f-9a52ded07cf9",
   "metadata": {},
   "outputs": [
    {
     "name": "stdout",
     "output_type": "stream",
     "text": [
      "                 user_id           time  rating  \\\n",
      "0  118026874392842649478  1620085852324       5   \n",
      "1  101532740754036204131  1580309946474       5   \n",
      "2  115404122636203550540  1605195974445       5   \n",
      "3  104789336434407408181  1593005848256       5   \n",
      "4  108980665975608069965  1582059996120       5   \n",
      "\n",
      "                                                text  \\\n",
      "0      Always done right from wood stove to screens!   \n",
      "1  A great company to work with. Their sales and ...   \n",
      "2  Great place to do business with staff was grea...   \n",
      "3  Awesome Customer service, quick response, and ...   \n",
      "4  If you need a top quality job, by a group of p...   \n",
      "\n",
      "                                                resp  \\\n",
      "0  {'time': 1620087641504, 'text': 'Good Evening,...   \n",
      "1  {'time': 1580320228721, 'text': 'Good Afternoo...   \n",
      "2  {'time': 1605195166792, 'text': 'Hi Chad!\n",
      "\n",
      "Tha...   \n",
      "3  {'time': 1593376422014, 'text': 'Mark, thank y...   \n",
      "4  {'time': 1582063833737, 'text': 'Good Afternoo...   \n",
      "\n",
      "                                 gmap_id pics_collapsed  \\\n",
      "0  0x89e02445cb9db457:0x37f42bff4edf7a43             []   \n",
      "1  0x89e02445cb9db457:0x37f42bff4edf7a43             []   \n",
      "2  0x89e02445cb9db457:0x37f42bff4edf7a43             []   \n",
      "3  0x89e02445cb9db457:0x37f42bff4edf7a43             []   \n",
      "4  0x89e02445cb9db457:0x37f42bff4edf7a43             []   \n",
      "\n",
      "                                      resp_collapsed  \n",
      "0  Good Evening, Rebecca! Thanks SO much for the ...  \n",
      "1  Good Afternoon, Peter - Really appreciate the ...  \n",
      "2  Hi Chad!\\n\\nThank you so much for the 5-Star r...  \n",
      "3  Mark, thank you SO much! Really appreciate the...  \n",
      "4  Good Afternoon, Jeff\\n\\nThanks so much! We wor...  \n"
     ]
    }
   ],
   "source": [
    "print(vt.head())"
   ]
  },
  {
   "cell_type": "markdown",
   "id": "dbce18aa",
   "metadata": {},
   "source": [
    "Metadata "
   ]
  },
  {
   "cell_type": "code",
   "execution_count": 10,
   "id": "93279217-294d-4ffe-8670-a37f6576a9f7",
   "metadata": {},
   "outputs": [],
   "source": [
    "vt_metadata = vt_metadata.drop(['address', 'latitude', 'longitude', 'avg_rating', 'num_of_reviews', 'price', 'hours', 'MISC', 'state', 'relative_results'], axis = 1)\n",
    "vt_metadata.columns = vt_metadata.columns.str.lower() \n",
    "vt_metadata['description'] = vt_metadata['description'].str.replace(r'\\s+', ' ', regex=True)\n",
    "vt_metadata['category'] = vt_metadata['category'].str.replace(r'\\s+', ' ', regex=True)\n",
    "vt_metadata = vt_metadata.drop_duplicates(subset = ['name','gmap_id', 'gmap_id'])"
   ]
  },
  {
   "cell_type": "code",
   "execution_count": 11,
   "id": "5a6df133",
   "metadata": {},
   "outputs": [
    {
     "name": "stdout",
     "output_type": "stream",
     "text": [
      "                       name                                gmap_id  \\\n",
      "0               Royal Group  0x89e02445cb9db457:0x37f42bff4edf7a43   \n",
      "1  Foxglove Farm and Forest  0x4cb549e8877cf0d7:0xe8f003e6d73392ae   \n",
      "2              Carr's Gifts  0x4cb54a301f3518f7:0x39af4eda1efb9117   \n",
      "3                     Midas  0x89e024446398691f:0x4011d3a0f8636036   \n",
      "4             Keyser Energy  0x89e0247d160d7263:0x32e4f01896e33f3b   \n",
      "\n",
      "  description  category                                                url  \n",
      "0        None       NaN  https://www.google.com/maps/place//data=!4m2!3...  \n",
      "1        None       NaN  https://www.google.com/maps/place//data=!4m2!3...  \n",
      "2        None       NaN  https://www.google.com/maps/place//data=!4m2!3...  \n",
      "3        None       NaN  https://www.google.com/maps/place//data=!4m2!3...  \n",
      "4        None       NaN  https://www.google.com/maps/place//data=!4m2!3...  \n"
     ]
    }
   ],
   "source": [
    "print(vt_metadata.head())"
   ]
  },
  {
   "cell_type": "markdown",
   "id": "bd2e54e7",
   "metadata": {},
   "source": [
    "Convert Metadata into csv for scraping: \n",
    "- scrape our own data to fill in blanks for description\n",
    "- scrape our own data to fill in blanks for category"
   ]
  },
  {
   "cell_type": "code",
   "execution_count": 12,
   "id": "467fb5ce",
   "metadata": {},
   "outputs": [],
   "source": [
    "vt_metadata.to_csv('vt_metadata.csv')"
   ]
  },
  {
   "cell_type": "markdown",
   "id": "b162deef",
   "metadata": {},
   "source": [
    "Scraping Process ..."
   ]
  },
  {
   "cell_type": "markdown",
   "id": "5b4e22ca",
   "metadata": {},
   "source": [
    "Merge the Review data and metadata by gmap_id"
   ]
  },
  {
   "cell_type": "code",
   "execution_count": 14,
   "id": "6decc006",
   "metadata": {},
   "outputs": [
    {
     "name": "stdout",
     "output_type": "stream",
     "text": [
      "   review_id                user_id           time  rating  \\\n",
      "0          0  118026874392842649478  1620085852324       5   \n",
      "1          1  101532740754036204131  1580309946474       5   \n",
      "\n",
      "                                                text  \\\n",
      "0      Always done right from wood stove to screens!   \n",
      "1  A great company to work with. Their sales and ...   \n",
      "\n",
      "                                                resp pics_collapsed  \\\n",
      "0  {'time': 1620087641504, 'text': 'Good Evening,...             []   \n",
      "1  {'time': 1580320228721, 'text': 'Good Afternoo...             []   \n",
      "\n",
      "                                      resp_collapsed         name description  \\\n",
      "0  Good Evening, Rebecca! Thanks SO much for the ...  Royal Group        None   \n",
      "1  Good Afternoon, Peter - Really appreciate the ...  Royal Group        None   \n",
      "\n",
      "   category                                                url  \n",
      "0       NaN  https://www.google.com/maps/place//data=!4m2!3...  \n",
      "1       NaN  https://www.google.com/maps/place//data=!4m2!3...  \n"
     ]
    }
   ],
   "source": [
    "vt_merged = pd.merge(vt, vt_metadata, on = 'gmap_id', how = 'inner')\n",
    "vt_merged = vt_merged.drop('gmap_id', axis = 1)\n",
    "vt_merged['review_id'] = range(len(vt_merged))\n",
    "column = vt_merged.pop('review_id')\n",
    "vt_merged.insert(0, 'review_id', column)\n",
    "print(vt_merged.head(2))"
   ]
  },
  {
   "cell_type": "code",
   "execution_count": null,
   "id": "542120c6",
   "metadata": {},
   "outputs": [],
   "source": []
  }
 ],
 "metadata": {
  "kernelspec": {
   "display_name": "Python 3",
   "language": "python",
   "name": "python3"
  },
  "language_info": {
   "codemirror_mode": {
    "name": "ipython",
    "version": 3
   },
   "file_extension": ".py",
   "mimetype": "text/x-python",
   "name": "python",
   "nbconvert_exporter": "python",
   "pygments_lexer": "ipython3",
   "version": "3.13.6"
  }
 },
 "nbformat": 4,
 "nbformat_minor": 5
}
