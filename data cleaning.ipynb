{
 "cells": [
  {
   "cell_type": "code",
   "execution_count": 1,
   "id": "d4168d6c-867d-44f9-b088-bbf52ad15b27",
   "metadata": {},
   "outputs": [],
   "source": [
    "import pandas as pd\n",
    "import requests\n",
    "import gzip\n",
    "import json\n",
    "import io"
   ]
  },
  {
   "cell_type": "markdown",
   "id": "fe280b97-d554-46a0-9e5f-e7168183d47b",
   "metadata": {},
   "source": [
    "Read json file in"
   ]
  },
  {
   "cell_type": "code",
   "execution_count": 2,
   "id": "9f71c91e-0ac3-4c33-a057-a026fc0b697f",
   "metadata": {},
   "outputs": [],
   "source": [
    "url = 'https://mcauleylab.ucsd.edu/public_datasets/gdrive/googlelocal/review-Vermont_10.json.gz'\n",
    "\n",
    "response = requests.get(url, stream = True)\n",
    "response.raise_for_status() \n",
    "\n",
    "with gzip.GzipFile(fileobj = io.BytesIO(response.content), mode = 'rb') as gz_file:\n",
    "    data_list = [json.loads(line) for line in gz_file]\n",
    "\n",
    "vt = pd.DataFrame(data_list)"
   ]
  },
  {
   "cell_type": "code",
   "execution_count": 3,
   "id": "76868a58-1d1d-4296-b34e-3011707d4684",
   "metadata": {},
   "outputs": [
    {
     "name": "stdout",
     "output_type": "stream",
     "text": [
      "(324725, 8)\n",
      "Index(['user_id', 'name', 'time', 'rating', 'text', 'pics', 'resp', 'gmap_id'], dtype='object')\n"
     ]
    }
   ],
   "source": [
    "print(vt.shape)\n",
    "print(vt.columns)\n",
    "# print(vt.head())"
   ]
  },
  {
   "cell_type": "code",
   "execution_count": 4,
   "id": "5f56b0a7-6314-412f-8c3c-fb15d35969b2",
   "metadata": {},
   "outputs": [],
   "source": [
    "url_metadata = 'https://mcauleylab.ucsd.edu/public_datasets/gdrive/googlelocal/meta-Vermont.json.gz'\n",
    "\n",
    "response_metadata = requests.get(url_metadata, stream = True)\n",
    "response_metadata.raise_for_status() \n",
    "\n",
    "with gzip.GzipFile(fileobj = io.BytesIO(response_metadata.content), mode = 'rb') as gz_file:\n",
    "    data_list1 = [json.loads(line) for line in gz_file]\n",
    "\n",
    "vt_metadata = pd.DataFrame(data_list1)"
   ]
  },
  {
   "cell_type": "code",
   "execution_count": 5,
   "id": "c76c0ddc-240b-4b41-88a4-b2db37968f79",
   "metadata": {},
   "outputs": [
    {
     "name": "stdout",
     "output_type": "stream",
     "text": [
      "(11291, 15)\n",
      "Index(['name', 'address', 'gmap_id', 'description', 'latitude', 'longitude',\n",
      "       'category', 'avg_rating', 'num_of_reviews', 'price', 'hours', 'MISC',\n",
      "       'state', 'relative_results', 'url'],\n",
      "      dtype='object')\n"
     ]
    }
   ],
   "source": [
    "print(vt_metadata.shape)\n",
    "print(vt_metadata.columns)\n",
    "# print(vt_metadata.head())"
   ]
  },
  {
   "cell_type": "markdown",
   "id": "aea41666-b17b-4690-a732-994b6da62435",
   "metadata": {},
   "source": [
    "Data Cleaning"
   ]
  },
  {
   "cell_type": "markdown",
   "id": "daadf528-e785-433e-99ea-e9a988248aab",
   "metadata": {},
   "source": [
    "For business data\n",
    "Drop 'address', 'latitude', 'longitude', 'avg_rating', 'num_of_reviews', 'price', 'hours', 'MISC', 'state', 'relative_results' column, convert all text to lower case, drop duplicates (around 50 duplicates)"
   ]
  },
  {
   "cell_type": "code",
   "execution_count": 6,
   "id": "7e728236-2b1c-4c4a-ac6f-92666bd0b13d",
   "metadata": {},
   "outputs": [
    {
     "name": "stdout",
     "output_type": "stream",
     "text": [
      "(11291, 15)\n",
      "Index(['name', 'address', 'gmap_id', 'description', 'latitude', 'longitude',\n",
      "       'category', 'avg_rating', 'num_of_reviews', 'price', 'hours', 'MISC',\n",
      "       'state', 'relative_results', 'url'],\n",
      "      dtype='object')\n"
     ]
    }
   ],
   "source": [
    "print(vt_metadata.shape)\n",
    "print(vt_metadata.columns)\n",
    "vt_metadata = vt_metadata.drop(['address', 'latitude', 'longitude', 'avg_rating', 'num_of_reviews', 'price', 'hours', 'MISC', 'state', 'relative_results'], axis = 1)\n",
    "vt_metadata.columns = vt_metadata.columns.str.lower() \n",
    "vt_metadata['description'] = vt_metadata['description'].str.replace(r'\\s+', ' ', regex=True)\n",
    "vt_metadata['category'] = vt_metadata['category'].str.replace(r'\\s+', ' ', regex=True)\n",
    "vt_metadata = vt_metadata.drop_duplicates(subset = ['name','gmap_id', 'gmap_id'])"
   ]
  },
  {
   "cell_type": "markdown",
   "id": "7b04f539-d927-4cfa-adf1-de00630f6f1e",
   "metadata": {},
   "source": [
    "For Review data drop 'name' column, convert all text to lower case, drop duplicates (~3000 duplicates)"
   ]
  },
  {
   "cell_type": "code",
   "execution_count": 7,
   "id": "e6328b73-99b1-4b72-a3e9-31cd78cbfa1c",
   "metadata": {},
   "outputs": [],
   "source": [
    "vt = vt.drop(['name', 'resp'], axis = 1)\n",
    "vt.columns = vt.columns.str.lower() \n",
    "vt['text'] = vt['text'].str.replace(r'\\s+', ' ', regex=True)\n",
    "vt = vt.drop_duplicates(subset = ['user_id', 'text', 'gmap_id', 'time'])"
   ]
  },
  {
   "cell_type": "markdown",
   "id": "e0eb8cd7-0d1e-4612-9947-b944751cd347",
   "metadata": {},
   "source": [
    "Change the format of the 'pics' column, merge multiple dictionaries into one with list of pic urls"
   ]
  },
  {
   "cell_type": "code",
   "execution_count": 8,
   "id": "73c169c1-3c00-4628-94e6-800de5ab6fb6",
   "metadata": {},
   "outputs": [],
   "source": [
    "# vt_pics = vt[vt['pics'].notna()]\n",
    "# print(vt_pics.head())\n",
    "# print(vt_pics['pics'])\n",
    "# import pprint\n",
    "# pprint.pprint(vt_pics.loc[17, 'pics'])"
   ]
  },
  {
   "cell_type": "code",
   "execution_count": 9,
   "id": "60f2389d-163d-429c-9dc6-3129684918ed",
   "metadata": {},
   "outputs": [],
   "source": [
    "def collapse_pics(pic_list):\n",
    "    if not pic_list:\n",
    "        return []  \n",
    "    urls = []\n",
    "    for pic_dict in pic_list:\n",
    "        urls.extend(pic_dict.get('url', []))\n",
    "    return urls\n",
    "\n",
    "vt['pics_collapsed'] = vt['pics'].apply(collapse_pics)\n",
    "\n",
    "# print(vt['pics_collapsed'].iloc[17])"
   ]
  },
  {
   "cell_type": "markdown",
   "id": "61e5010c-6d0c-4b2a-a323-33f3901bc0cc",
   "metadata": {},
   "source": [
    "Merge by gmap id"
   ]
  },
  {
   "cell_type": "code",
   "execution_count": 10,
   "id": "e6e0d80e-ea89-442f-bb6a-66a0726a65cc",
   "metadata": {},
   "outputs": [],
   "source": [
    "vt_merged = pd.merge(vt, vt_metadata, on = 'gmap_id', how = 'inner')"
   ]
  },
  {
   "cell_type": "markdown",
   "id": "6b3d8b88-ab1c-4c0a-ba0e-4e01597912c8",
   "metadata": {},
   "source": [
    "Separate dataset into vt1 (rating only) and vt2 (everything else)"
   ]
  },
  {
   "cell_type": "code",
   "execution_count": 11,
   "id": "81d9c27b-949e-4d06-a925-9c19be424dc2",
   "metadata": {},
   "outputs": [
    {
     "name": "stdout",
     "output_type": "stream",
     "text": [
      "(145565, 10)\n",
      "(175918, 10)\n"
     ]
    }
   ],
   "source": [
    "vt1 = vt_merged[vt_merged['pics'].isna() & vt_merged['text'].isna()] # rating only\n",
    "vt2 = vt_merged[~vt_merged.index.isin(vt1.index)] # everything else\n",
    "vt1 = vt1.drop(['pics'], axis = 1)\n",
    "vt2 = vt2.drop(['pics'], axis = 1)\n",
    "print(vt1.shape)\n",
    "print(vt2.shape)"
   ]
  },
  {
   "cell_type": "code",
   "execution_count": 12,
   "id": "ba4ebd19-36e0-4b6d-b930-6b30648e18d1",
   "metadata": {},
   "outputs": [],
   "source": [
    "# vt1.to_csv('vermont_merged_rating only.csv')\n",
    "vt2.to_csv('vermont_merged_text_and_or_review.csv')\n",
    "# vt.to_csv('vermont.csv')\n",
    "# vt_merged.to_csv('vermont_merged.csv')\n",
    "# vt_metadata.to_csv('vermont_metadata.csv')"
   ]
  },
  {
   "cell_type": "markdown",
   "id": "af6fc724-8503-414e-8d99-994af47e6dfb",
   "metadata": {},
   "source": [
    "Detecting Advertisement from image"
   ]
  },
  {
   "cell_type": "code",
   "execution_count": 13,
   "id": "f6d87a27-baf5-4781-9957-8b6ede81e322",
   "metadata": {},
   "outputs": [],
   "source": [
    "!pip3 install -q -U transformers\n",
    "!pip3 install -q -U torch\n",
    "!pip3 install -q -U huggingface_hub\n",
    "!pip3 install -q -U dotenv"
   ]
  },
  {
   "cell_type": "code",
   "execution_count": 14,
   "id": "0a78f6fb-4e6c-48c3-a838-4d862d598147",
   "metadata": {},
   "outputs": [
    {
     "name": "stderr",
     "output_type": "stream",
     "text": [
      "Note: Environment variable`HF_TOKEN` is set and is the current active token independently from the token you've just configured.\n"
     ]
    }
   ],
   "source": [
    "from huggingface_hub import login\n",
    "import os\n",
    "from dotenv import load_dotenv\n",
    "\n",
    "hf_token = os.getenv(\"HF_TOKEN\")\n",
    "login(token=hf_token)"
   ]
  },
  {
   "cell_type": "code",
   "execution_count": 15,
   "id": "441f5b96-0621-4f09-9784-e8006c2862b0",
   "metadata": {},
   "outputs": [
    {
     "name": "stdout",
     "output_type": "stream",
     "text": [
      "Using device: mps\n"
     ]
    },
    {
     "data": {
      "application/vnd.jupyter.widget-view+json": {
       "model_id": "6dc69801cfe9440cba29260ec4c734be",
       "version_major": 2,
       "version_minor": 0
      },
      "text/plain": [
       "Loading checkpoint shards:   0%|          | 0/2 [00:00<?, ?it/s]"
      ]
     },
     "metadata": {},
     "output_type": "display_data"
    },
    {
     "name": "stderr",
     "output_type": "stream",
     "text": [
      "Using a slow image processor as `use_fast` is unset and a slow processor was saved with this model. `use_fast=True` will be the default behavior in v4.52, even if the model was saved with a slow processor. This will result in minor differences in outputs. You'll still be able to use a slow processor with `use_fast=False`.\n",
      "Device set to use mps\n"
     ]
    }
   ],
   "source": [
    "from transformers import pipeline\n",
    "import torch\n",
    "\n",
    "device = \"mps\" if torch.backends.mps.is_available() else \"cpu\"\n",
    "print(f\"Using device: {device}\")\n",
    "\n",
    "\n",
    "model_id = \"google/gemma-3-4b-it\"\n",
    "\n",
    "pipe = pipeline(\n",
    "    \"image-text-to-text\",\n",
    "    model=model_id,\n",
    "    device=device,          \n",
    "    torch_dtype=torch.bfloat16\n",
    ")"
   ]
  },
  {
   "cell_type": "code",
   "execution_count": 16,
   "id": "2f4b7a06-f6ea-4b88-9aa3-68ea01f95195",
   "metadata": {},
   "outputs": [
    {
     "name": "stdout",
     "output_type": "stream",
     "text": [
      "Okay, here’s a detailed description of the image I’m seeing:\n",
      "\n",
      "**Overall Impression:** The image shows the reception or waiting area of what appears to be a modern business or service location. It has a clean, somewhat minimalist aesthetic.\n",
      "\n",
      "**Key Elements:**\n",
      "\n",
      "*   **Ceiling:** The ceiling is a light grey with a slight textured finish. There’s a noticeable angled section, suggesting a vaulted or slightly raised ceiling. Several recessed lights are also visible.\n",
      "*   **Lighting:** The most striking feature is a set of four pendant lights hanging from the ceiling. They have a modern, geometric design with a\n"
     ]
    }
   ],
   "source": [
    "messages = [\n",
    "    {\n",
    "        \"role\": \"system\",\n",
    "        \"content\": [\n",
    "            {\"type\": \"text\", \"text\": (\n",
    "                \"You are a potential customer looking at Google review images. \"\n",
    "                # \"Always respond in two clearly labeled sections:\\n\"\n",
    "                # \"Answer: <short, factual yes/no/N/A>\\n\"\n",
    "                # \"Rationale: <explain based on visible features>\"\n",
    "            )}\n",
    "        ]\n",
    "    },\n",
    "    {\n",
    "        \"role\": \"user\",\n",
    "        \"content\": [\n",
    "            {\"type\": \"image\", \"url\": \"https://lh5.googleusercontent.com/p/AF1QipMBzN4BJV9YCObcw_ifNzFPm-u38hO3oimOA8Fb=w150-h150-k-no-p\"},\n",
    "            {\"type\": \"text\", \"text\": (\n",
    "                \"Describe the image in detail.\"\n",
    "            )}\n",
    "        ]\n",
    "    }\n",
    "]\n",
    "\n",
    "output = pipe(text=messages, max_new_tokens=128)\n",
    "print(output[0][\"generated_text\"][-1][\"content\"])"
   ]
  },
  {
   "cell_type": "code",
   "execution_count": 26,
   "id": "abdf0118-8ea7-4067-8296-8f94dbcfa56f",
   "metadata": {},
   "outputs": [
    {
     "name": "stdout",
     "output_type": "stream",
     "text": [
      "Index(['user_id', 'time', 'rating', 'text', 'gmap_id', 'pics_collapsed',\n",
      "       'name', 'description', 'category', 'url'],\n",
      "      dtype='object')\n",
      "                 user_id           time  rating  \\\n",
      "0  118026874392842649478  1620085852324       5   \n",
      "1  101532740754036204131  1580309946474       5   \n",
      "2  115404122636203550540  1605195974445       5   \n",
      "3  104789336434407408181  1593005848256       5   \n",
      "4  108980665975608069965  1582059996120       5   \n",
      "\n",
      "                                                text  \\\n",
      "0      Always done right from wood stove to screens!   \n",
      "1  A great company to work with. Their sales and ...   \n",
      "2  Great place to do business with staff was grea...   \n",
      "3  Awesome Customer service, quick response, and ...   \n",
      "4  If you need a top quality job, by a group of p...   \n",
      "\n",
      "                                 gmap_id pics_collapsed         name  \\\n",
      "0  0x89e02445cb9db457:0x37f42bff4edf7a43             []  Royal Group   \n",
      "1  0x89e02445cb9db457:0x37f42bff4edf7a43             []  Royal Group   \n",
      "2  0x89e02445cb9db457:0x37f42bff4edf7a43             []  Royal Group   \n",
      "3  0x89e02445cb9db457:0x37f42bff4edf7a43             []  Royal Group   \n",
      "4  0x89e02445cb9db457:0x37f42bff4edf7a43             []  Royal Group   \n",
      "\n",
      "  description  category                                                url  \n",
      "0         NaN       NaN  https://www.google.com/maps/place//data=!4m2!3...  \n",
      "1         NaN       NaN  https://www.google.com/maps/place//data=!4m2!3...  \n",
      "2         NaN       NaN  https://www.google.com/maps/place//data=!4m2!3...  \n",
      "3         NaN       NaN  https://www.google.com/maps/place//data=!4m2!3...  \n",
      "4         NaN       NaN  https://www.google.com/maps/place//data=!4m2!3...  \n"
     ]
    }
   ],
   "source": [
    "data = pd.read_csv('vermont_merged_text_and_or_review.csv')\n",
    "data = data.drop(data.columns[0], axis = 1)\n",
    "print(data.columns)\n",
    "print(data.head())"
   ]
  }
 ],
 "metadata": {
  "kernelspec": {
   "display_name": "Python 3 (ipykernel)",
   "language": "python",
   "name": "python3"
  },
  "language_info": {
   "codemirror_mode": {
    "name": "ipython",
    "version": 3
   },
   "file_extension": ".py",
   "mimetype": "text/x-python",
   "name": "python",
   "nbconvert_exporter": "python",
   "pygments_lexer": "ipython3",
   "version": "3.11.5"
  }
 },
 "nbformat": 4,
 "nbformat_minor": 5
}
