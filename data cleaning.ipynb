{
 "cells": [
  {
   "cell_type": "code",
   "execution_count": 1,
   "id": "d4168d6c-867d-44f9-b088-bbf52ad15b27",
   "metadata": {},
   "outputs": [],
   "source": [
    "import pandas as pd\n",
    "import requests\n",
    "import gzip\n",
    "import json\n",
    "import io"
   ]
  },
  {
   "cell_type": "markdown",
   "id": "fe280b97-d554-46a0-9e5f-e7168183d47b",
   "metadata": {},
   "source": [
    "Read json file in"
   ]
  },
  {
   "cell_type": "code",
   "execution_count": 4,
   "id": "b6826ea1-954a-4b4d-89b4-a131adb818a4",
   "metadata": {},
   "outputs": [],
   "source": [
    "url = 'https://mcauleylab.ucsd.edu/public_datasets/gdrive/googlelocal/review-Vermont_10.json.gz'\n",
    "\n",
    "response = requests.get(url, stream = True)\n",
    "response.raise_for_status() \n",
    "\n",
    "with gzip.GzipFile(fileobj = io.BytesIO(response.content), mode = 'rb') as gz_file:\n",
    "    data_list = [json.loads(line) for line in gz_file]\n",
    "\n",
    "vt = pd.DataFrame(data_list)"
   ]
  },
  {
   "cell_type": "code",
   "execution_count": 5,
   "id": "76868a58-1d1d-4296-b34e-3011707d4684",
   "metadata": {},
   "outputs": [
    {
     "name": "stdout",
     "output_type": "stream",
     "text": [
      "(324725, 8)\n",
      "Index(['user_id', 'name', 'time', 'rating', 'text', 'pics', 'resp', 'gmap_id'], dtype='object')\n",
      "                 user_id             name           time  rating  \\\n",
      "0  118026874392842649478    rebecca kerns  1620085852324       5   \n",
      "1  101532740754036204131    Peter DeForge  1580309946474       5   \n",
      "2  115404122636203550540    Chad Goulette  1605195974445       5   \n",
      "3  104789336434407408181  Mark LaFountain  1593005848256       5   \n",
      "4  108980665975608069965           Jeff R  1582059996120       5   \n",
      "\n",
      "                                                text  pics  \\\n",
      "0      Always done right from wood stove to screens!  None   \n",
      "1  A great company to work with.  Their sales and...  None   \n",
      "2  Great place to do business with staff was grea...  None   \n",
      "3  Awesome Customer service, quick response, and ...  None   \n",
      "4  If you need a top quality job, by a group of p...  None   \n",
      "\n",
      "                                                resp  \\\n",
      "0  {'time': 1620087641504, 'text': 'Good Evening,...   \n",
      "1  {'time': 1580320228721, 'text': 'Good Afternoo...   \n",
      "2  {'time': 1605195166792, 'text': 'Hi Chad!\n",
      "\n",
      "Tha...   \n",
      "3  {'time': 1593376422014, 'text': 'Mark, thank y...   \n",
      "4  {'time': 1582063833737, 'text': 'Good Afternoo...   \n",
      "\n",
      "                                 gmap_id  \n",
      "0  0x89e02445cb9db457:0x37f42bff4edf7a43  \n",
      "1  0x89e02445cb9db457:0x37f42bff4edf7a43  \n",
      "2  0x89e02445cb9db457:0x37f42bff4edf7a43  \n",
      "3  0x89e02445cb9db457:0x37f42bff4edf7a43  \n",
      "4  0x89e02445cb9db457:0x37f42bff4edf7a43  \n"
     ]
    }
   ],
   "source": [
    "print(vt.shape)\n",
    "print(vt.columns)\n",
    "print(vt.head())"
   ]
  },
  {
   "cell_type": "markdown",
   "id": "7b04f539-d927-4cfa-adf1-de00630f6f1e",
   "metadata": {},
   "source": [
    "Drop 'name' column, convert all text to lower case, drop duplicates (~3000 duplicates)"
   ]
  },
  {
   "cell_type": "code",
   "execution_count": 54,
   "id": "e6328b73-99b1-4b72-a3e9-31cd78cbfa1c",
   "metadata": {},
   "outputs": [
    {
     "name": "stdout",
     "output_type": "stream",
     "text": [
      "(321483, 7)\n"
     ]
    }
   ],
   "source": [
    "vt = vt.drop(['name'], axis = 1)\n",
    "vt.columns = vt.columns.str.lower() \n",
    "vt = vt.drop_duplicates(subset=['user_id', 'text', 'gmap_id'])\n",
    "print(vt.shape)"
   ]
  },
  {
   "cell_type": "markdown",
   "id": "e0eb8cd7-0d1e-4612-9947-b944751cd347",
   "metadata": {},
   "source": [
    "Change the format of the 'pics' column, merge multiple dictionaries into one with list of pic urls"
   ]
  },
  {
   "cell_type": "code",
   "execution_count": 58,
   "id": "60f2389d-163d-429c-9dc6-3129684918ed",
   "metadata": {},
   "outputs": [],
   "source": [
    "def collapse_pics(pic_list):\n",
    "    if not pic_list:\n",
    "        return []  \n",
    "    urls = []\n",
    "    for pic_dict in pic_list:\n",
    "        urls.extend(pic_dict.get('url', []))\n",
    "    return urls\n",
    "\n",
    "vt['pics_collapsed'] = vt['pics'].apply(collapse_pics)"
   ]
  },
  {
   "cell_type": "markdown",
   "id": "0c7852a3-3efe-433e-a8f4-0b847920085e",
   "metadata": {},
   "source": [
    "Create column for average star rating for each business"
   ]
  },
  {
   "cell_type": "code",
   "execution_count": 60,
   "id": "d9376076-5b9c-4053-bddb-af52f2085c02",
   "metadata": {},
   "outputs": [
    {
     "name": "stdout",
     "output_type": "stream",
     "text": [
      "        user_id           time  rating  \\\n",
      "0  1.180269e+20  1620085852324       5   \n",
      "1  1.015327e+20  1580309946474       5   \n",
      "2  1.154041e+20  1605195974445       5   \n",
      "3  1.047893e+20  1593005848256       5   \n",
      "4  1.089807e+20  1582059996120       5   \n",
      "\n",
      "                                                text  pics  \\\n",
      "0      Always done right from wood stove to screens!  None   \n",
      "1  A great company to work with.  Their sales and...  None   \n",
      "2  Great place to do business with staff was grea...  None   \n",
      "3  Awesome Customer service, quick response, and ...  None   \n",
      "4  If you need a top quality job, by a group of p...  None   \n",
      "\n",
      "                                                resp  \\\n",
      "0  {'time': 1620087641504, 'text': 'Good Evening,...   \n",
      "1  {'time': 1580320228721, 'text': 'Good Afternoo...   \n",
      "2  {'time': 1605195166792, 'text': 'Hi Chad!\n",
      "\n",
      "Tha...   \n",
      "3  {'time': 1593376422014, 'text': 'Mark, thank y...   \n",
      "4  {'time': 1582063833737, 'text': 'Good Afternoo...   \n",
      "\n",
      "                                 gmap_id pics_collapsed  average_rating  \n",
      "0  0x89e02445cb9db457:0x37f42bff4edf7a43             []        4.909091  \n",
      "1  0x89e02445cb9db457:0x37f42bff4edf7a43             []        4.909091  \n",
      "2  0x89e02445cb9db457:0x37f42bff4edf7a43             []        4.909091  \n",
      "3  0x89e02445cb9db457:0x37f42bff4edf7a43             []        4.909091  \n",
      "4  0x89e02445cb9db457:0x37f42bff4edf7a43             []        4.909091  \n"
     ]
    }
   ],
   "source": [
    "average_ratings = vt.groupby('gmap_id')['rating'].mean()\n",
    "vt['average_rating'] = vt['gmap_id'].map(average_ratings)\n",
    "print(vt.head())"
   ]
  },
  {
   "cell_type": "markdown",
   "id": "6b3d8b88-ab1c-4c0a-ba0e-4e01597912c8",
   "metadata": {},
   "source": [
    "Separate dataset into vt1 (rating only) and vt2 (everything else)"
   ]
  },
  {
   "cell_type": "code",
   "execution_count": 59,
   "id": "81d9c27b-949e-4d06-a925-9c19be424dc2",
   "metadata": {},
   "outputs": [
    {
     "name": "stdout",
     "output_type": "stream",
     "text": [
      "(145565, 8)\n",
      "(175918, 8)\n"
     ]
    }
   ],
   "source": [
    "vt1 = vt[vt['pics'].isna() & vt['text'].isna()] # rating only\n",
    "vt2 = vt[~vt.index.isin(vt1.index)] # everything else\n",
    "\n",
    "print(vt1.shape)\n",
    "print(vt2.shape)"
   ]
  },
  {
   "cell_type": "code",
   "execution_count": null,
   "id": "17f56dae-2ef8-46b1-8d17-fa94a60db81d",
   "metadata": {},
   "outputs": [],
   "source": []
  },
  {
   "cell_type": "markdown",
   "id": "e7e59c39-2474-4fd2-989b-7bf5b4cdd7bd",
   "metadata": {},
   "source": [
    "Data Exploration"
   ]
  },
  {
   "cell_type": "code",
   "execution_count": 6,
   "id": "7daf5d5c-f6e4-45d8-b927-cb02da78556a",
   "metadata": {},
   "outputs": [
    {
     "name": "stdout",
     "output_type": "stream",
     "text": [
      "                      user_id             name           time  rating  \\\n",
      "0       118026874392842649478    rebecca kerns  1620085852324       5   \n",
      "1       101532740754036204131    Peter DeForge  1580309946474       5   \n",
      "2       115404122636203550540    Chad Goulette  1605195974445       5   \n",
      "3       104789336434407408181  Mark LaFountain  1593005848256       5   \n",
      "4       108980665975608069965           Jeff R  1582059996120       5   \n",
      "...                       ...              ...            ...     ...   \n",
      "324720  102604405041956328019   Nicole Couture  1534560336677       5   \n",
      "324721  113667429629445112279      Holly Chase  1601130739739       5   \n",
      "324722  101031262113246567699  Jennie Drummind  1503368927511       5   \n",
      "324723  113511800890575185422     John Hawkins  1566750149101       5   \n",
      "324724  107697312145259650604            Mindy  1521208726615       5   \n",
      "\n",
      "                                                     text  pics  \\\n",
      "0           Always done right from wood stove to screens!  None   \n",
      "1       A great company to work with.  Their sales and...  None   \n",
      "2       Great place to do business with staff was grea...  None   \n",
      "3       Awesome Customer service, quick response, and ...  None   \n",
      "4       If you need a top quality job, by a group of p...  None   \n",
      "...                                                   ...   ...   \n",
      "324720                                               None  None   \n",
      "324721                                               None  None   \n",
      "324722                                               None  None   \n",
      "324723                                               None  None   \n",
      "324724                                               None  None   \n",
      "\n",
      "                                                     resp  \\\n",
      "0       {'time': 1620087641504, 'text': 'Good Evening,...   \n",
      "1       {'time': 1580320228721, 'text': 'Good Afternoo...   \n",
      "2       {'time': 1605195166792, 'text': 'Hi Chad!\n",
      "\n",
      "Tha...   \n",
      "3       {'time': 1593376422014, 'text': 'Mark, thank y...   \n",
      "4       {'time': 1582063833737, 'text': 'Good Afternoo...   \n",
      "...                                                   ...   \n",
      "324720  {'time': 1535421423802, 'text': 'Thank you for...   \n",
      "324721  {'time': 1601394881137, 'text': 'Holly, Thank ...   \n",
      "324722  {'time': 1503963258239, 'text': 'Jennie! Thank...   \n",
      "324723  {'time': 1566954272879, 'text': 'John, Thank y...   \n",
      "324724  {'time': 1521426846390, 'text': 'Thank you for...   \n",
      "\n",
      "                                      gmap_id  \n",
      "0       0x89e02445cb9db457:0x37f42bff4edf7a43  \n",
      "1       0x89e02445cb9db457:0x37f42bff4edf7a43  \n",
      "2       0x89e02445cb9db457:0x37f42bff4edf7a43  \n",
      "3       0x89e02445cb9db457:0x37f42bff4edf7a43  \n",
      "4       0x89e02445cb9db457:0x37f42bff4edf7a43  \n",
      "...                                       ...  \n",
      "324720  0x89e1c79c60aef325:0xbed8bfc41018f020  \n",
      "324721  0x89e1c79c60aef325:0xbed8bfc41018f020  \n",
      "324722  0x89e1c79c60aef325:0xbed8bfc41018f020  \n",
      "324723  0x89e1c79c60aef325:0xbed8bfc41018f020  \n",
      "324724  0x89e1c79c60aef325:0xbed8bfc41018f020  \n",
      "\n",
      "[324725 rows x 8 columns]\n"
     ]
    }
   ],
   "source": [
    "print(vt)"
   ]
  },
  {
   "cell_type": "code",
   "execution_count": null,
   "id": "1af9e1ac-63e9-414a-8b23-87daae55f6e5",
   "metadata": {},
   "outputs": [],
   "source": []
  }
 ],
 "metadata": {
  "kernelspec": {
   "display_name": "Python 3 (ipykernel)",
   "language": "python",
   "name": "python3"
  },
  "language_info": {
   "codemirror_mode": {
    "name": "ipython",
    "version": 3
   },
   "file_extension": ".py",
   "mimetype": "text/x-python",
   "name": "python",
   "nbconvert_exporter": "python",
   "pygments_lexer": "ipython3",
   "version": "3.12.7"
  }
 },
 "nbformat": 4,
 "nbformat_minor": 5
}
