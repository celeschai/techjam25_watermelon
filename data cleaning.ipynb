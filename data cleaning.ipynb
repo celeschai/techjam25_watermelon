{
 "cells": [
  {
   "cell_type": "code",
   "execution_count": 15,
   "id": "d4168d6c-867d-44f9-b088-bbf52ad15b27",
   "metadata": {},
   "outputs": [],
   "source": [
    "import pandas as pd\n",
    "import requests\n",
    "import gzip\n",
    "import json\n",
    "import io"
   ]
  },
  {
   "cell_type": "markdown",
   "id": "fe280b97-d554-46a0-9e5f-e7168183d47b",
   "metadata": {},
   "source": [
    "Read json file in"
   ]
  },
  {
   "cell_type": "code",
   "execution_count": 16,
   "id": "9f71c91e-0ac3-4c33-a057-a026fc0b697f",
   "metadata": {},
   "outputs": [],
   "source": [
    "url = 'https://mcauleylab.ucsd.edu/public_datasets/gdrive/googlelocal/review-Vermont_10.json.gz'\n",
    "\n",
    "response = requests.get(url, stream = True)\n",
    "response.raise_for_status() \n",
    "\n",
    "with gzip.GzipFile(fileobj = io.BytesIO(response.content), mode = 'rb') as gz_file:\n",
    "    data_list = [json.loads(line) for line in gz_file]\n",
    "\n",
    "vt = pd.DataFrame(data_list)"
   ]
  },
  {
   "cell_type": "code",
   "execution_count": 17,
   "id": "76868a58-1d1d-4296-b34e-3011707d4684",
   "metadata": {},
   "outputs": [
    {
     "name": "stdout",
     "output_type": "stream",
     "text": [
      "(324725, 8)\n",
      "Index(['user_id', 'name', 'time', 'rating', 'text', 'pics', 'resp', 'gmap_id'], dtype='object')\n"
     ]
    }
   ],
   "source": [
    "print(vt.shape)\n",
    "print(vt.columns)\n",
    "# print(vt.head())"
   ]
  },
  {
   "cell_type": "code",
   "execution_count": 18,
   "id": "5f56b0a7-6314-412f-8c3c-fb15d35969b2",
   "metadata": {},
   "outputs": [],
   "source": [
    "url_metadata = 'https://mcauleylab.ucsd.edu/public_datasets/gdrive/googlelocal/meta-Vermont.json.gz'\n",
    "\n",
    "response_metadata = requests.get(url_metadata, stream = True)\n",
    "response_metadata.raise_for_status() \n",
    "\n",
    "with gzip.GzipFile(fileobj = io.BytesIO(response_metadata.content), mode = 'rb') as gz_file:\n",
    "    data_list1 = [json.loads(line) for line in gz_file]\n",
    "\n",
    "vt_metadata = pd.DataFrame(data_list1)"
   ]
  },
  {
   "cell_type": "code",
   "execution_count": 19,
   "id": "c76c0ddc-240b-4b41-88a4-b2db37968f79",
   "metadata": {},
   "outputs": [
    {
     "name": "stdout",
     "output_type": "stream",
     "text": [
      "(11291, 15)\n",
      "Index(['name', 'address', 'gmap_id', 'description', 'latitude', 'longitude',\n",
      "       'category', 'avg_rating', 'num_of_reviews', 'price', 'hours', 'MISC',\n",
      "       'state', 'relative_results', 'url'],\n",
      "      dtype='object')\n"
     ]
    }
   ],
   "source": [
    "print(vt_metadata.shape)\n",
    "print(vt_metadata.columns)\n",
    "# print(vt_metadata.head())"
   ]
  },
  {
   "cell_type": "markdown",
   "id": "aea41666-b17b-4690-a732-994b6da62435",
   "metadata": {},
   "source": [
    "Data Cleaning"
   ]
  },
  {
   "cell_type": "markdown",
   "id": "daadf528-e785-433e-99ea-e9a988248aab",
   "metadata": {},
   "source": [
    "For business data\n",
    "Drop 'address', 'latitude', 'longitude', 'avg_rating', 'num_of_reviews', 'price', 'hours', 'MISC', 'state', 'relative_results' column, convert all text to lower case, drop duplicates (around 50 duplicates)"
   ]
  },
  {
   "cell_type": "code",
   "execution_count": 20,
   "id": "7e728236-2b1c-4c4a-ac6f-92666bd0b13d",
   "metadata": {},
   "outputs": [
    {
     "name": "stdout",
     "output_type": "stream",
     "text": [
      "(11291, 15)\n",
      "Index(['name', 'address', 'gmap_id', 'description', 'latitude', 'longitude',\n",
      "       'category', 'avg_rating', 'num_of_reviews', 'price', 'hours', 'MISC',\n",
      "       'state', 'relative_results', 'url'],\n",
      "      dtype='object')\n"
     ]
    }
   ],
   "source": [
    "print(vt_metadata.shape)\n",
    "print(vt_metadata.columns)\n",
    "vt_metadata = vt_metadata.drop(['address', 'latitude', 'longitude', 'avg_rating', 'num_of_reviews', 'price', 'hours', 'MISC', 'state', 'relative_results'], axis = 1)\n",
    "vt_metadata.columns = vt_metadata.columns.str.lower() \n",
    "vt_metadata['description'] = vt_metadata['description'].str.replace(r'\\s+', ' ', regex=True)\n",
    "vt_metadata['category'] = vt_metadata['category'].str.replace(r'\\s+', ' ', regex=True)\n",
    "vt_metadata = vt_metadata.drop_duplicates(subset = ['name','gmap_id', 'gmap_id'])"
   ]
  },
  {
   "cell_type": "markdown",
   "id": "7b04f539-d927-4cfa-adf1-de00630f6f1e",
   "metadata": {},
   "source": [
    "For Review data drop 'name' column, convert all text to lower case, drop duplicates (~3000 duplicates)"
   ]
  },
  {
   "cell_type": "code",
   "execution_count": 21,
   "id": "e6328b73-99b1-4b72-a3e9-31cd78cbfa1c",
   "metadata": {},
   "outputs": [],
   "source": [
    "vt = vt.drop(['name', 'resp'], axis = 1)\n",
    "vt.columns = vt.columns.str.lower() \n",
    "vt['text'] = vt['text'].str.replace(r'\\s+', ' ', regex=True)\n",
    "vt = vt.drop_duplicates(subset = ['user_id', 'text', 'gmap_id', 'time'])"
   ]
  },
  {
   "cell_type": "markdown",
   "id": "e0eb8cd7-0d1e-4612-9947-b944751cd347",
   "metadata": {},
   "source": [
    "Change the format of the 'pics' column, merge multiple dictionaries into one with list of pic urls"
   ]
  },
  {
   "cell_type": "code",
   "execution_count": 22,
   "id": "60f2389d-163d-429c-9dc6-3129684918ed",
   "metadata": {},
   "outputs": [],
   "source": [
    "def collapse_pics(pic_list):\n",
    "    if not pic_list:\n",
    "        return []  \n",
    "    urls = []\n",
    "    for pic_dict in pic_list:\n",
    "        urls.extend(pic_dict.get('url', []))\n",
    "    return urls\n",
    "\n",
    "vt['pics_collapsed'] = vt['pics'].apply(collapse_pics)"
   ]
  },
  {
   "cell_type": "markdown",
   "id": "61e5010c-6d0c-4b2a-a323-33f3901bc0cc",
   "metadata": {},
   "source": [
    "Merge by gmap id"
   ]
  },
  {
   "cell_type": "code",
   "execution_count": 23,
   "id": "e6e0d80e-ea89-442f-bb6a-66a0726a65cc",
   "metadata": {},
   "outputs": [
    {
     "name": "stdout",
     "output_type": "stream",
     "text": [
      "   review_id                user_id           time  rating  \\\n",
      "0          0  118026874392842649478  1620085852324       5   \n",
      "1          1  101532740754036204131  1580309946474       5   \n",
      "\n",
      "                                                text  pics  \\\n",
      "0      Always done right from wood stove to screens!  None   \n",
      "1  A great company to work with. Their sales and ...  None   \n",
      "\n",
      "                                 gmap_id pics_collapsed         name  \\\n",
      "0  0x89e02445cb9db457:0x37f42bff4edf7a43             []  Royal Group   \n",
      "1  0x89e02445cb9db457:0x37f42bff4edf7a43             []  Royal Group   \n",
      "\n",
      "  description  category                                                url  \n",
      "0        None       NaN  https://www.google.com/maps/place//data=!4m2!3...  \n",
      "1        None       NaN  https://www.google.com/maps/place//data=!4m2!3...  \n"
     ]
    }
   ],
   "source": [
    "vt_merged = pd.merge(vt, vt_metadata, on = 'gmap_id', how = 'inner')\n",
    "vt_merged['review_id'] = range(len(vt_merged))\n",
    "column = vt_merged.pop('review_id')\n",
    "vt_merged.insert(0, 'review_id', column)\n",
    "print(vt_merged.head(2))"
   ]
  },
  {
   "cell_type": "markdown",
   "id": "6b3d8b88-ab1c-4c0a-ba0e-4e01597912c8",
   "metadata": {},
   "source": [
    "Separate dataset into vt1 (rating only) and vt2 (everything else)"
   ]
  },
  {
   "cell_type": "code",
   "execution_count": 24,
   "id": "81d9c27b-949e-4d06-a925-9c19be424dc2",
   "metadata": {},
   "outputs": [
    {
     "name": "stdout",
     "output_type": "stream",
     "text": [
      "   review_id                user_id           time  rating  \\\n",
      "0          0  118026874392842649478  1620085852324       5   \n",
      "1          1  101532740754036204131  1580309946474       5   \n",
      "\n",
      "                                                text  \\\n",
      "0      Always done right from wood stove to screens!   \n",
      "1  A great company to work with. Their sales and ...   \n",
      "\n",
      "                                 gmap_id pics_collapsed         name  \\\n",
      "0  0x89e02445cb9db457:0x37f42bff4edf7a43             []  Royal Group   \n",
      "1  0x89e02445cb9db457:0x37f42bff4edf7a43             []  Royal Group   \n",
      "\n",
      "  description  category                                                url  \n",
      "0        None       NaN  https://www.google.com/maps/place//data=!4m2!3...  \n",
      "1        None       NaN  https://www.google.com/maps/place//data=!4m2!3...  \n",
      "    review_id                user_id           time  rating  \\\n",
      "17         17  101856865551768948430  1606162783440       1   \n",
      "78         78  107787438275893909028  1542050139179       5   \n",
      "\n",
      "                                                 text  \\\n",
      "17  I had them replace two broken studs on my righ...   \n",
      "78  Kingdom Recovery Center is a place for people ...   \n",
      "\n",
      "                                  gmap_id  \\\n",
      "17  0x89e024446398691f:0x4011d3a0f8636036   \n",
      "78  0x4cb446270577ed85:0x8b3dfc93cc4846a8   \n",
      "\n",
      "                                       pics_collapsed  \\\n",
      "17  [https://lh5.googleusercontent.com/p/AF1QipPQa...   \n",
      "78  [https://lh5.googleusercontent.com/p/AF1QipP6x...   \n",
      "\n",
      "                       name description  category  \\\n",
      "17                    Midas        None       NaN   \n",
      "78  Kingdom Recovery Center        None       NaN   \n",
      "\n",
      "                                                  url  \n",
      "17  https://www.google.com/maps/place//data=!4m2!3...  \n",
      "78  https://www.google.com/maps/place//data=!4m2!3...  \n"
     ]
    }
   ],
   "source": [
    "vt_text_merged = vt_merged[vt_merged['text'].notna()] # has text\n",
    "vt_pics_merged = vt_merged[vt_merged['pics'].notna()] # has pic\n",
    "\n",
    "vt_text_merged = vt_text_merged.drop(['pics'], axis = 1)\n",
    "vt_pics_merged = vt_pics_merged.drop(['pics'], axis = 1)\n",
    "\n",
    "print(vt_text_merged.head(2))\n",
    "print(vt_pics_merged.head(2))"
   ]
  },
  {
   "cell_type": "code",
   "execution_count": 25,
   "id": "ba4ebd19-36e0-4b6d-b930-6b30648e18d1",
   "metadata": {},
   "outputs": [],
   "source": [
    "vt_text_merged.to_csv('vermont_text_merged.csv')\n",
    "vt_pics_merged.to_csv('vermont_pics_merged.csv')"
   ]
  },
  {
   "cell_type": "code",
   "execution_count": 26,
   "id": "abdf0118-8ea7-4067-8296-8f94dbcfa56f",
   "metadata": {},
   "outputs": [
    {
     "name": "stdout",
     "output_type": "stream",
     "text": [
      "   review_id                user_id           time  rating  \\\n",
      "0          0  118026874392842649478  1620085852324       5   \n",
      "1          1  101532740754036204131  1580309946474       5   \n",
      "2          2  115404122636203550540  1605195974445       5   \n",
      "\n",
      "                                                text  \\\n",
      "0      Always done right from wood stove to screens!   \n",
      "1  A great company to work with. Their sales and ...   \n",
      "2  Great place to do business with staff was grea...   \n",
      "\n",
      "                                 gmap_id pics_collapsed         name  \\\n",
      "0  0x89e02445cb9db457:0x37f42bff4edf7a43             []  Royal Group   \n",
      "1  0x89e02445cb9db457:0x37f42bff4edf7a43             []  Royal Group   \n",
      "2  0x89e02445cb9db457:0x37f42bff4edf7a43             []  Royal Group   \n",
      "\n",
      "  description  category                                                url  \n",
      "0         NaN       NaN  https://www.google.com/maps/place//data=!4m2!3...  \n",
      "1         NaN       NaN  https://www.google.com/maps/place//data=!4m2!3...  \n",
      "2         NaN       NaN  https://www.google.com/maps/place//data=!4m2!3...  \n",
      "   review_id                user_id           time  rating  \\\n",
      "0         17  101856865551768948430  1606162783440       1   \n",
      "1         78  107787438275893909028  1542050139179       5   \n",
      "2         85  108564695687320799964  1518887224225       5   \n",
      "\n",
      "                                                text  \\\n",
      "0  I had them replace two broken studs on my righ...   \n",
      "1  Kingdom Recovery Center is a place for people ...   \n",
      "2                  Great place to ski and snow shoe.   \n",
      "\n",
      "                                 gmap_id  \\\n",
      "0  0x89e024446398691f:0x4011d3a0f8636036   \n",
      "1  0x4cb446270577ed85:0x8b3dfc93cc4846a8   \n",
      "2  0x4cb43730db4d1a1f:0x82fc64269bef0db3   \n",
      "\n",
      "                                      pics_collapsed                     name  \\\n",
      "0  ['https://lh5.googleusercontent.com/p/AF1QipPQ...                    Midas   \n",
      "1  ['https://lh5.googleusercontent.com/p/AF1QipP6...  Kingdom Recovery Center   \n",
      "2  ['https://lh5.googleusercontent.com/p/AF1QipPH...   Outing Club Skate Park   \n",
      "\n",
      "  description  category                                                url  \n",
      "0         NaN       NaN  https://www.google.com/maps/place//data=!4m2!3...  \n",
      "1         NaN       NaN  https://www.google.com/maps/place//data=!4m2!3...  \n",
      "2         NaN       NaN  https://www.google.com/maps/place//data=!4m2!3...  \n"
     ]
    }
   ],
   "source": [
    "text = pd.read_csv('vermont_text_merged.csv')\n",
    "pics = pd.read_csv('vermont_pics_merged.csv')\n",
    "\n",
    "text = text.drop(text.columns[0], axis = 1)\n",
    "pics = pics.drop(pics.columns[0], axis = 1)\n",
    "\n",
    "print(text.head(3))\n",
    "print(pics.head(3))"
   ]
  },
  {
   "cell_type": "markdown",
   "id": "af6fc724-8503-414e-8d99-994af47e6dfb",
   "metadata": {},
   "source": [
    "Detecting Advertisement from image"
   ]
  },
  {
   "cell_type": "code",
   "execution_count": 27,
   "id": "f6d87a27-baf5-4781-9957-8b6ede81e322",
   "metadata": {},
   "outputs": [],
   "source": [
    "!pip3 install -q -U transformers\n",
    "!pip3 install -q -U torch\n",
    "!pip3 install -q -U huggingface_hub\n",
    "!pip3 install -q -U dotenv"
   ]
  },
  {
   "cell_type": "code",
   "execution_count": 28,
   "id": "0a78f6fb-4e6c-48c3-a838-4d862d598147",
   "metadata": {},
   "outputs": [
    {
     "ename": "HTTPError",
     "evalue": "Invalid user token. The token from HF_TOKEN environment variable is invalid. Note that HF_TOKEN takes precedence over `hf auth login`.",
     "output_type": "error",
     "traceback": [
      "\u001b[31m---------------------------------------------------------------------------\u001b[39m",
      "\u001b[31mHTTPError\u001b[39m                                 Traceback (most recent call last)",
      "\u001b[36mFile \u001b[39m\u001b[32m/Library/Frameworks/Python.framework/Versions/3.13/lib/python3.13/site-packages/huggingface_hub/utils/_http.py:409\u001b[39m, in \u001b[36mhf_raise_for_status\u001b[39m\u001b[34m(response, endpoint_name)\u001b[39m\n\u001b[32m    408\u001b[39m \u001b[38;5;28;01mtry\u001b[39;00m:\n\u001b[32m--> \u001b[39m\u001b[32m409\u001b[39m     \u001b[43mresponse\u001b[49m\u001b[43m.\u001b[49m\u001b[43mraise_for_status\u001b[49m\u001b[43m(\u001b[49m\u001b[43m)\u001b[49m\n\u001b[32m    410\u001b[39m \u001b[38;5;28;01mexcept\u001b[39;00m HTTPError \u001b[38;5;28;01mas\u001b[39;00m e:\n",
      "\u001b[36mFile \u001b[39m\u001b[32m/Library/Frameworks/Python.framework/Versions/3.13/lib/python3.13/site-packages/requests/models.py:1026\u001b[39m, in \u001b[36mResponse.raise_for_status\u001b[39m\u001b[34m(self)\u001b[39m\n\u001b[32m   1025\u001b[39m \u001b[38;5;28;01mif\u001b[39;00m http_error_msg:\n\u001b[32m-> \u001b[39m\u001b[32m1026\u001b[39m     \u001b[38;5;28;01mraise\u001b[39;00m HTTPError(http_error_msg, response=\u001b[38;5;28mself\u001b[39m)\n",
      "\u001b[31mHTTPError\u001b[39m: 401 Client Error: Unauthorized for url: https://huggingface.co/api/whoami-v2",
      "\nThe above exception was the direct cause of the following exception:\n",
      "\u001b[31mHfHubHTTPError\u001b[39m                            Traceback (most recent call last)",
      "\u001b[36mFile \u001b[39m\u001b[32m/Library/Frameworks/Python.framework/Versions/3.13/lib/python3.13/site-packages/huggingface_hub/hf_api.py:1782\u001b[39m, in \u001b[36mHfApi.whoami\u001b[39m\u001b[34m(self, token)\u001b[39m\n\u001b[32m   1781\u001b[39m \u001b[38;5;28;01mtry\u001b[39;00m:\n\u001b[32m-> \u001b[39m\u001b[32m1782\u001b[39m     \u001b[43mhf_raise_for_status\u001b[49m\u001b[43m(\u001b[49m\u001b[43mr\u001b[49m\u001b[43m)\u001b[49m\n\u001b[32m   1783\u001b[39m \u001b[38;5;28;01mexcept\u001b[39;00m HTTPError \u001b[38;5;28;01mas\u001b[39;00m e:\n",
      "\u001b[36mFile \u001b[39m\u001b[32m/Library/Frameworks/Python.framework/Versions/3.13/lib/python3.13/site-packages/huggingface_hub/utils/_http.py:482\u001b[39m, in \u001b[36mhf_raise_for_status\u001b[39m\u001b[34m(response, endpoint_name)\u001b[39m\n\u001b[32m    480\u001b[39m \u001b[38;5;66;03m# Convert `HTTPError` into a `HfHubHTTPError` to display request information\u001b[39;00m\n\u001b[32m    481\u001b[39m \u001b[38;5;66;03m# as well (request id and/or server error message)\u001b[39;00m\n\u001b[32m--> \u001b[39m\u001b[32m482\u001b[39m \u001b[38;5;28;01mraise\u001b[39;00m _format(HfHubHTTPError, \u001b[38;5;28mstr\u001b[39m(e), response) \u001b[38;5;28;01mfrom\u001b[39;00m\u001b[38;5;250m \u001b[39m\u001b[34;01me\u001b[39;00m\n",
      "\u001b[31mHfHubHTTPError\u001b[39m: 401 Client Error: Unauthorized for url: https://huggingface.co/api/whoami-v2 (Request ID: Root=1-68b2acb4-756a477e7a39a67c6fd4f263;42f44405-ac28-470d-a489-3e1d2a7fbaa9)\n\nUser Access Token \"techjam25\" is expired",
      "\nThe above exception was the direct cause of the following exception:\n",
      "\u001b[31mHTTPError\u001b[39m                                 Traceback (most recent call last)",
      "\u001b[32m/var/folders/l5/zgn14k2x33v8hpzph3zxgpfr0000gn/T/ipykernel_70620/2439579197.py\u001b[39m in \u001b[36m?\u001b[39m\u001b[34m()\u001b[39m\n\u001b[32m      2\u001b[39m \u001b[38;5;28;01mimport\u001b[39;00m os\n\u001b[32m      3\u001b[39m \u001b[38;5;28;01mfrom\u001b[39;00m dotenv \u001b[38;5;28;01mimport\u001b[39;00m load_dotenv\n\u001b[32m      4\u001b[39m \n\u001b[32m      5\u001b[39m hf_token = os.getenv(\u001b[33m\"HF_TOKEN\"\u001b[39m)\n\u001b[32m----> \u001b[39m\u001b[32m6\u001b[39m login(token=hf_token)\n",
      "\u001b[32m/Library/Frameworks/Python.framework/Versions/3.13/lib/python3.13/site-packages/huggingface_hub/utils/_deprecation.py\u001b[39m in \u001b[36m?\u001b[39m\u001b[34m(*args, **kwargs)\u001b[39m\n\u001b[32m     97\u001b[39m                 )\n\u001b[32m     98\u001b[39m                 \u001b[38;5;28;01mif\u001b[39;00m custom_message \u001b[38;5;28;01mis\u001b[39;00m \u001b[38;5;28;01mnot\u001b[39;00m \u001b[38;5;28;01mNone\u001b[39;00m:\n\u001b[32m     99\u001b[39m                     message += \u001b[33m\"\\n\\n\"\u001b[39m + custom_message\n\u001b[32m    100\u001b[39m                 warnings.warn(message, FutureWarning)\n\u001b[32m--> \u001b[39m\u001b[32m101\u001b[39m             \u001b[38;5;28;01mreturn\u001b[39;00m f(*args, **kwargs)\n",
      "\u001b[32m/Library/Frameworks/Python.framework/Versions/3.13/lib/python3.13/site-packages/huggingface_hub/utils/_deprecation.py\u001b[39m in \u001b[36m?\u001b[39m\u001b[34m(*args, **kwargs)\u001b[39m\n\u001b[32m     27\u001b[39m         @wraps(f)\n\u001b[32m     28\u001b[39m         \u001b[38;5;28;01mdef\u001b[39;00m inner_f(*args, **kwargs):\n\u001b[32m     29\u001b[39m             extra_args = len(args) - len(all_args)\n\u001b[32m     30\u001b[39m             \u001b[38;5;28;01mif\u001b[39;00m extra_args <= \u001b[32m0\u001b[39m:\n\u001b[32m---> \u001b[39m\u001b[32m31\u001b[39m                 \u001b[38;5;28;01mreturn\u001b[39;00m f(*args, **kwargs)\n\u001b[32m     32\u001b[39m             \u001b[38;5;66;03m# extra_args > 0\u001b[39;00m\n\u001b[32m     33\u001b[39m             args_msg = [\n\u001b[32m     34\u001b[39m                 f\"{name}='{arg}'\" \u001b[38;5;28;01mif\u001b[39;00m isinstance(arg, str) \u001b[38;5;28;01melse\u001b[39;00m f\"{name}={arg}\"\n",
      "\u001b[32m/Library/Frameworks/Python.framework/Versions/3.13/lib/python3.13/site-packages/huggingface_hub/_login.py\u001b[39m in \u001b[36m?\u001b[39m\u001b[34m(token, add_to_git_credential, new_session, write_permission)\u001b[39m\n\u001b[32m    122\u001b[39m                 \u001b[33m\"`add_to_git_credential=True` in this function directly or \"\u001b[39m\n\u001b[32m    123\u001b[39m                 \u001b[33m\"`--add-to-git-credential` if using via `hf`CLI if \"\u001b[39m\n\u001b[32m    124\u001b[39m                 \u001b[33m\"you want to set the git credential as well.\"\u001b[39m\n\u001b[32m    125\u001b[39m             )\n\u001b[32m--> \u001b[39m\u001b[32m126\u001b[39m         _login(token, add_to_git_credential=add_to_git_credential)\n\u001b[32m    127\u001b[39m     \u001b[38;5;28;01melif\u001b[39;00m is_notebook():\n\u001b[32m    128\u001b[39m         notebook_login(new_session=new_session)\n\u001b[32m    129\u001b[39m     \u001b[38;5;28;01melse\u001b[39;00m:\n",
      "\u001b[32m/Library/Frameworks/Python.framework/Versions/3.13/lib/python3.13/site-packages/huggingface_hub/_login.py\u001b[39m in \u001b[36m?\u001b[39m\u001b[34m(token, add_to_git_credential)\u001b[39m\n\u001b[32m    400\u001b[39m \n\u001b[32m    401\u001b[39m     \u001b[38;5;28;01mif\u001b[39;00m token.startswith(\u001b[33m\"api_org\"\u001b[39m):\n\u001b[32m    402\u001b[39m         \u001b[38;5;28;01mraise\u001b[39;00m ValueError(\u001b[33m\"You must use your personal account token, not an organization token.\"\u001b[39m)\n\u001b[32m    403\u001b[39m \n\u001b[32m--> \u001b[39m\u001b[32m404\u001b[39m     token_info = whoami(token)\n\u001b[32m    405\u001b[39m     permission = token_info[\u001b[33m\"auth\"\u001b[39m][\u001b[33m\"accessToken\"\u001b[39m][\u001b[33m\"role\"\u001b[39m]\n\u001b[32m    406\u001b[39m     logger.info(f\"Token is valid (permission: {permission}).\")\n\u001b[32m    407\u001b[39m \n",
      "\u001b[32m/Library/Frameworks/Python.framework/Versions/3.13/lib/python3.13/site-packages/huggingface_hub/utils/_validators.py\u001b[39m in \u001b[36m?\u001b[39m\u001b[34m(*args, **kwargs)\u001b[39m\n\u001b[32m    110\u001b[39m \n\u001b[32m    111\u001b[39m         \u001b[38;5;28;01mif\u001b[39;00m check_use_auth_token:\n\u001b[32m    112\u001b[39m             kwargs = smoothly_deprecate_use_auth_token(fn_name=fn.__name__, has_token=has_token, kwargs=kwargs)\n\u001b[32m    113\u001b[39m \n\u001b[32m--> \u001b[39m\u001b[32m114\u001b[39m         \u001b[38;5;28;01mreturn\u001b[39;00m fn(*args, **kwargs)\n",
      "\u001b[32m/Library/Frameworks/Python.framework/Versions/3.13/lib/python3.13/site-packages/huggingface_hub/hf_api.py\u001b[39m in \u001b[36m?\u001b[39m\u001b[34m(self, token)\u001b[39m\n\u001b[32m   1792\u001b[39m                         \u001b[33m\"Note that HF_TOKEN takes precedence over `hf auth login`.\"\u001b[39m\n\u001b[32m   1793\u001b[39m                     )\n\u001b[32m   1794\u001b[39m                 \u001b[38;5;28;01melif\u001b[39;00m effective_token == _get_token_from_file():\n\u001b[32m   1795\u001b[39m                     error_message += \u001b[33m\" The token stored is invalid. Please run `hf auth login` to update it.\"\u001b[39m\n\u001b[32m-> \u001b[39m\u001b[32m1796\u001b[39m                 \u001b[38;5;28;01mraise\u001b[39;00m HTTPError(error_message, request=e.request, response=e.response) \u001b[38;5;28;01mfrom\u001b[39;00m e\n\u001b[32m   1797\u001b[39m             \u001b[38;5;28;01mraise\u001b[39;00m\n\u001b[32m   1798\u001b[39m         \u001b[38;5;28;01mreturn\u001b[39;00m r.json()\n",
      "\u001b[31mHTTPError\u001b[39m: Invalid user token. The token from HF_TOKEN environment variable is invalid. Note that HF_TOKEN takes precedence over `hf auth login`."
     ]
    }
   ],
   "source": [
    "from huggingface_hub import login\n",
    "import os\n",
    "from dotenv import load_dotenv\n",
    "\n",
    "hf_token = os.getenv(\"HF_TOKEN\")\n",
    "login(token=hf_token)"
   ]
  },
  {
   "cell_type": "code",
   "execution_count": null,
   "id": "441f5b96-0621-4f09-9784-e8006c2862b0",
   "metadata": {},
   "outputs": [
    {
     "name": "stdout",
     "output_type": "stream",
     "text": [
      "Using device: mps\n"
     ]
    },
    {
     "data": {
      "application/vnd.jupyter.widget-view+json": {
       "model_id": "2e4356039f184b7dbe6e4d34bbc49d9b",
       "version_major": 2,
       "version_minor": 0
      },
      "text/plain": [
       "Loading checkpoint shards:   0%|          | 0/2 [00:00<?, ?it/s]"
      ]
     },
     "metadata": {},
     "output_type": "display_data"
    },
    {
     "name": "stderr",
     "output_type": "stream",
     "text": [
      "Using a slow image processor as `use_fast` is unset and a slow processor was saved with this model. `use_fast=True` will be the default behavior in v4.52, even if the model was saved with a slow processor. This will result in minor differences in outputs. You'll still be able to use a slow processor with `use_fast=False`.\n",
      "Device set to use mps\n"
     ]
    }
   ],
   "source": [
    "from transformers import pipeline\n",
    "import torch\n",
    "\n",
    "device = \"mps\" if torch.backends.mps.is_available() else \"cpu\"\n",
    "print(f\"Using device: {device}\")\n",
    "\n",
    "model_id = \"google/gemma-3-4b-it\"\n",
    "\n",
    "pipe = pipeline(\n",
    "    \"image-text-to-text\",\n",
    "    model=model_id,\n",
    "    device=device,          \n",
    "    torch_dtype=torch.bfloat16\n",
    ")"
   ]
  },
  {
   "cell_type": "code",
   "execution_count": null,
   "id": "2f4b7a06-f6ea-4b88-9aa3-68ea01f95195",
   "metadata": {},
   "outputs": [
    {
     "name": "stdout",
     "output_type": "stream",
     "text": [
      "Okay, here's a detailed description of the image I’m seeing:\n",
      "\n",
      "**Overall Impression:** The image appears to be an interior shot of what looks like a reception or waiting area, possibly for a medical or wellness practice. It has a modern and somewhat minimalist aesthetic.\n",
      "\n",
      "**Key Elements:**\n",
      "\n",
      "*   **Ceiling:** The ceiling is a neutral gray, with a slightly textured or popcorn finish. There are recessed lighting fixtures evenly spaced across the ceiling.\n",
      "*   **Lighting:** There are four pendant lights hanging down from the ceiling. They have a distinctive design – a dark base with a light wooden or painted top.\n"
     ]
    }
   ],
   "source": [
    "messages = [\n",
    "    {\n",
    "        \"role\": \"system\",\n",
    "        \"content\": [\n",
    "            {\"type\": \"text\", \"text\": (\n",
    "                \"You are a potential customer looking at Google review images. \"\n",
    "                # \"Always respond in two clearly labeled sections:\\n\"\n",
    "                # \"Answer: <short, factual yes/no/N/A>\\n\"\n",
    "                # \"Rationale: <explain based on visible features>\"\n",
    "            )}\n",
    "        ]\n",
    "    },\n",
    "    {\n",
    "        \"role\": \"user\",\n",
    "        \"content\": [\n",
    "            {\"type\": \"image\", \"url\": \"https://lh5.googleusercontent.com/p/AF1QipMBzN4BJV9YCObcw_ifNzFPm-u38hO3oimOA8Fb=w150-h150-k-no-p\"},\n",
    "            {\"type\": \"text\", \"text\": (\n",
    "                \"Describe the image in detail.\"\n",
    "            )}\n",
    "        ]\n",
    "    }\n",
    "]\n",
    "\n",
    "output = pipe(text=messages, max_new_tokens=128)\n",
    "print(output[0][\"generated_text\"][-1][\"content\"])"
   ]
  },
  {
   "cell_type": "code",
   "execution_count": null,
   "id": "e1577a2d",
   "metadata": {},
   "outputs": [
    {
     "name": "stdout",
     "output_type": "stream",
     "text": [
      "Answer: Yes\n",
      "Rationale: The image contains text \"MONTHLY MUST SHARE PROMO CODES\" which is a promotional message encouraging sharing of discount codes. This strongly indicates that the image is an advertisement, likely for a sale or discount promotion.\n"
     ]
    }
   ],
   "source": [
    "advertisement_examples = [\n",
    "    \"Billboard with product name and price\",\n",
    "    \"Social media post promoting a sale\",\n",
    "    \"Banner showing a company logo with a slogan\",\n",
    "    \"Flyer with a discount coupon\"\n",
    "]\n",
    "\n",
    "messages = [\n",
    "    {\n",
    "        \"role\": \"system\",\n",
    "        \"content\": [\n",
    "            {\"type\": \"text\", \"text\": (\n",
    "                \"You are an AI assistant that classifies images as advertisements. \"\n",
    "                \"Always respond in two clearly labeled sections:\\n\"\n",
    "                \"Answer: <Yes/No/N/A>\\n\"\n",
    "                \"Rationale: <Explain based on visible features in the image>\\n\\n\"\n",
    "                f\"Examples of advertisements include: {', '.join(advertisement_examples)}\"\n",
    "            )}\n",
    "        ]\n",
    "    },\n",
    "    {\n",
    "        \"role\": \"user\",\n",
    "        \"content\": [\n",
    "            {\"type\": \"image\", \"url\": \"https://images.prismic.io/dive/ZqDG1R5LeNNTxcyj_Creative-Blogcover-.png?auto=format,compress\"},  \n",
    "            {\"type\": \"text\", \"text\": (\n",
    "                \"Is this image an advertisement? If it is not clear, say Answer: N/A.\"\n",
    "            )}\n",
    "        ]\n",
    "    }\n",
    "]\n",
    "\n",
    "output = pipe(text=messages, max_new_tokens=128)\n",
    "\n",
    "print(output[0][\"generated_text\"][-1][\"content\"])"
   ]
  },
  {
   "cell_type": "code",
   "execution_count": null,
   "id": "a7b34287",
   "metadata": {},
   "outputs": [
    {
     "name": "stdout",
     "output_type": "stream",
     "text": [
      "   review_id                user_id           time  rating  \\\n",
      "0         17  101856865551768948430  1606162783440       1   \n",
      "1         78  107787438275893909028  1542050139179       5   \n",
      "2         85  108564695687320799964  1518887224225       5   \n",
      "\n",
      "                                                text  \\\n",
      "0  I had them replace two broken studs on my righ...   \n",
      "1  Kingdom Recovery Center is a place for people ...   \n",
      "2                  Great place to ski and snow shoe.   \n",
      "\n",
      "                                 gmap_id  \\\n",
      "0  0x89e024446398691f:0x4011d3a0f8636036   \n",
      "1  0x4cb446270577ed85:0x8b3dfc93cc4846a8   \n",
      "2  0x4cb43730db4d1a1f:0x82fc64269bef0db3   \n",
      "\n",
      "                                      pics_collapsed                     name  \\\n",
      "0  ['https://lh5.googleusercontent.com/p/AF1QipPQ...                    Midas   \n",
      "1  ['https://lh5.googleusercontent.com/p/AF1QipP6...  Kingdom Recovery Center   \n",
      "2  ['https://lh5.googleusercontent.com/p/AF1QipPH...   Outing Club Skate Park   \n",
      "\n",
      "  description  category                                                url  \\\n",
      "0         NaN       NaN  https://www.google.com/maps/place//data=!4m2!3...   \n",
      "1         NaN       NaN  https://www.google.com/maps/place//data=!4m2!3...   \n",
      "2         NaN       NaN  https://www.google.com/maps/place//data=!4m2!3...   \n",
      "\n",
      "  Is_Advertisement Reasoning_for_Ad  \n",
      "0                                    \n",
      "1                                    \n",
      "2                                    \n"
     ]
    }
   ],
   "source": [
    "pics = pics.head(3)\n",
    "\n",
    "pics['Is_Advertisement'] = \"\"\n",
    "pics['Reasoning_for_Ad'] = \"\"\n",
    "\n",
    "print(pics)"
   ]
  },
  {
   "cell_type": "code",
   "execution_count": null,
   "id": "518b6ca0",
   "metadata": {},
   "outputs": [
    {
     "name": "stdout",
     "output_type": "stream",
     "text": [
      "                 user_id                                   Full_Description  \\\n",
      "0  101856865551768948430  The image shows a close-up of a rusty motorcyc...   \n",
      "1  107787438275893909028  The image shows a family holding a flag of Col...   \n",
      "2  108564695687320799964  The image shows a person skiing in a snowy lan...   \n",
      "\n",
      "  Is_Advertisement  \n",
      "0               No  \n",
      "1              Yes  \n",
      "2               No  \n"
     ]
    }
   ],
   "source": [
    "# Take first 3 reviews\n",
    "pics_test = pics.head(3).copy()\n",
    "\n",
    "# Add columns if missing\n",
    "for col in [\"Image_Description\", \"Is_Advertisement\"]:\n",
    "    if col not in pics.columns:\n",
    "        pics[col] = \"\"\n",
    "\n",
    "advertisement_examples = [\n",
    "    \"Billboard with product name and price\",\n",
    "    \"Social media post promoting a sale\",\n",
    "    \"Banner showing a company logo with a slogan\",\n",
    "    \"Flyer with a discount coupon\"\n",
    "]\n",
    "\n",
    "for idx, row in pics_test.iterrows():\n",
    "    pics_list = ast.literal_eval(row['pics_collapsed'])\n",
    "\n",
    "    answers = []\n",
    "    descriptions = []\n",
    "    \n",
    "    for image_url in pics_list:\n",
    "        messages = [\n",
    "            {\n",
    "                \"role\": \"system\",\n",
    "                \"content\": [\n",
    "                    {\"type\": \"text\", \"text\": (\n",
    "                        \"You are an AI assistant that classifies images as advertisements. \"\n",
    "                        \"Always respond in two clearly labeled sections:\\n\"\n",
    "                        \"Answer: <Yes/No/N/A>\\n\"\n",
    "                        \"Description: Two sentences to describe what’s happening in the photo, \"\n",
    "                        \"and hence the rationale.\\n\"\n",
    "                        f\"Examples of advertisements include: {', '.join(advertisement_examples)}\"\n",
    "                    )}\n",
    "                ]\n",
    "            },\n",
    "            {\n",
    "                \"role\": \"user\",\n",
    "                \"content\": [\n",
    "                    {\"type\": \"image\", \"url\": image_url},\n",
    "                    {\"type\": \"text\", \"text\": \"Is this image an advertisement? If unclear, say Answer: N/A.\"}\n",
    "                ]\n",
    "            }\n",
    "        ]\n",
    "\n",
    "        output = pipe(text=messages, max_new_tokens=128)\n",
    "        response = output[0][\"generated_text\"][-1][\"content\"]\n",
    "\n",
    "        # Default values\n",
    "        answer, rationale = \"N/A\", \"\"\n",
    "\n",
    "        for line in response.splitlines():\n",
    "            if line.startswith(\"Answer:\"):\n",
    "                answer = line.split(\":\", 1)[1].strip()\n",
    "            elif line.startswith(\"Description:\"):\n",
    "                rationale = line.split(\":\", 1)[1].strip()\n",
    "\n",
    "        answers.append(answer)\n",
    "        descriptions.append(rationale)\n",
    "\n",
    "    # Final decision rule\n",
    "    if \"Yes\" in answers:\n",
    "        final_answer = \"Yes\"\n",
    "    elif \"No\" in answers:\n",
    "        final_answer = \"No\"\n",
    "    else:\n",
    "        final_answer = \"N/A\"\n",
    "\n",
    "    pics.at[idx, 'Is_Advertisement'] = final_answer\n",
    "    pics.at[idx, 'Image_Description'] = \" | \".join(descriptions)\n",
    "\n",
    "print(pics[['user_id', 'Image_Description', 'Is_Advertisement']].head(3))"
   ]
  },
  {
   "cell_type": "code",
   "execution_count": null,
   "id": "7915bf07",
   "metadata": {},
   "outputs": [
    {
     "name": "stdout",
     "output_type": "stream",
     "text": [
      "Review 0:\n",
      "--- Image 1 ---\n",
      "- Setting: Outdoor, garage\n",
      "- Objects: Brake rotor, bolts, wheel hub, tire, concrete floor\n",
      "- Business type: N/A\n",
      "- Activities: Maintenance or repair\n",
      "- Text: N/A\n",
      "\n",
      "--- Image 2 ---\n",
      "- Setting: Indoor\n",
      "- Objects: Hand, bolt, metal, thread\n",
      "- Business type: N/A\n",
      "- Activities: N/A\n",
      "- Text: N/A\n",
      "================================================================================\n",
      "Review 1:\n",
      "--- Image 1 ---\n",
      "- Setting: Outdoor, roadside\n",
      "- Objects: Four people, a large flag, a van, a building, trees, a road, a utility pole\n",
      "- Business type: N/A\n",
      "- Activities: Group photo\n",
      "- Text: “FROM RECOVERY STATE”\n",
      "\n",
      "--- Image 2 ---\n",
      "- Setting: Indoor\n",
      "- Objects: Sign, purple fabric, logos (Recovery Support, Readdy, Phoenix Recovery, and Quantum Health)\n",
      "- Business type: N/A\n",
      "- Activities: N/A\n",
      "- Text: RECOVERY SUPPORT\n",
      "================================================================================\n",
      "Review 2:\n",
      "--- Image 1 ---\n",
      "- Setting: Outdoor, ski resort\n",
      "- Objects: Person, skis, snow, trees, buildings, ski lift\n",
      "- Business type: N/A\n",
      "- Activities: Skiing, taking a photo\n",
      "- Text: N/A\n",
      "\n",
      "--- Image 2 ---\n",
      "- Setting: Outdoor, snow-covered landscape\n",
      "- Objects: Snow, trees, sky, dark objects\n",
      "- Business type: N/A\n",
      "- Activities: N/A\n",
      "- Text: N/A\n",
      "================================================================================\n"
     ]
    }
   ],
   "source": [
    "# Use .loc to avoid SettingWithCopyWarning\n",
    "pics_test.loc[:, 'Key_Words'] = \"\"\n",
    "\n",
    "# Prompt template\n",
    "PROMPT = \"\"\"You are an image analyst. \n",
    "Describe this image in detail in the following structured format only:\n",
    "\n",
    "- Setting: <indoor/outdoor, type of place>\n",
    "- Objects: <things visible>\n",
    "- Business type: <restaurant, shop, etc., best guess or N/A>\n",
    "- Activities: <what is happening>\n",
    "- Text: <any text visible in the image or N/A>\n",
    "\n",
    "Do not include any extra commentary, questions, or greetings.  \n",
    "If unsure about a category, write 'N/A'.\n",
    "Here is the image: <image>\n",
    "\"\"\"\n",
    "\n",
    "# Loop through first 3 rows\n",
    "for idx, row in pics_test.iterrows():\n",
    "    pics_list = ast.literal_eval(row['pics_collapsed'])  # convert string to list\n",
    "    descriptions = []\n",
    "\n",
    "    for i, image_url in enumerate(pics_list, start=1):\n",
    "        messages = [\n",
    "            {\n",
    "                \"role\": \"system\",\n",
    "                \"content\": [\n",
    "                    {\"type\": \"text\", \"text\": PROMPT}\n",
    "                ]\n",
    "            },\n",
    "            {\n",
    "                \"role\": \"user\",\n",
    "                \"content\": [\n",
    "                    {\"type\": \"image\", \"url\": image_url},\n",
    "                    {\"type\": \"text\", \"text\": \"Describe the image in the structured format above.\"}\n",
    "                ]\n",
    "            }\n",
    "        ]\n",
    "\n",
    "        try:\n",
    "            output = pipe(text=messages, max_new_tokens=200)\n",
    "            desc = output[0][\"generated_text\"][-1][\"content\"]\n",
    "            descriptions.append(f\"--- Image {i} ---\\n{desc}\")\n",
    "        except Exception as e:\n",
    "            descriptions.append(f\"--- Image {i} ---\\nN/A (Error processing image: {e})\")\n",
    "\n",
    "    # Combine multiple images into a single string per review\n",
    "    pics_test.loc[idx, 'Key_Words'] = \"\\n\\n\".join(descriptions)\n",
    "\n",
    "# View results\n",
    "for idx, row in pics_test.iterrows():\n",
    "    print(f\"Review {idx}:\")\n",
    "    print(row['Key_Words'])\n",
    "    print(\"=\"*80)"
   ]
  },
  {
   "cell_type": "code",
   "execution_count": null,
   "id": "d95faa6d",
   "metadata": {},
   "outputs": [
    {
     "name": "stdout",
     "output_type": "stream",
     "text": [
      "                 user_id Full_Description  \\\n",
      "0  101856865551768948430                    \n",
      "1  107787438275893909028                    \n",
      "2  108564695687320799964                    \n",
      "\n",
      "                                           Key_Words Is_Advertisement  \n",
      "0  --- Image 1 ---\\n- Setting: Outdoor, garage\\n-...               No  \n",
      "1  --- Image 1 ---\\n- Setting: Outdoor, roadside\\...              Yes  \n",
      "2  --- Image 1 ---\\n- Setting: Outdoor, ski resor...               No  \n"
     ]
    }
   ],
   "source": [
    "print(pics_test[['user_id', 'Image_Description', 'Key_Words','Is_Advertisement']])"
   ]
  }
 ],
 "metadata": {
  "kernelspec": {
   "display_name": "Python 3",
   "language": "python",
   "name": "python3"
  },
  "language_info": {
   "codemirror_mode": {
    "name": "ipython",
    "version": 3
   },
   "file_extension": ".py",
   "mimetype": "text/x-python",
   "name": "python",
   "nbconvert_exporter": "python",
   "pygments_lexer": "ipython3",
   "version": "3.13.0"
  }
 },
 "nbformat": 4,
 "nbformat_minor": 5
}
