{
 "cells": [
  {
   "cell_type": "code",
   "execution_count": 2,
   "id": "d4168d6c-867d-44f9-b088-bbf52ad15b27",
   "metadata": {},
   "outputs": [],
   "source": [
    "import pandas as pd\n",
    "import requests\n",
    "import gzip\n",
    "import json\n",
    "import io"
   ]
  },
  {
   "cell_type": "markdown",
   "id": "fe280b97-d554-46a0-9e5f-e7168183d47b",
   "metadata": {},
   "source": [
    "Read json file in"
   ]
  },
  {
   "cell_type": "code",
   "execution_count": 3,
   "id": "9f71c91e-0ac3-4c33-a057-a026fc0b697f",
   "metadata": {},
   "outputs": [],
   "source": [
    "url = 'https://mcauleylab.ucsd.edu/public_datasets/gdrive/googlelocal/review-Vermont_10.json.gz'\n",
    "\n",
    "response = requests.get(url, stream = True)\n",
    "response.raise_for_status() \n",
    "\n",
    "with gzip.GzipFile(fileobj = io.BytesIO(response.content), mode = 'rb') as gz_file:\n",
    "    data_list = [json.loads(line) for line in gz_file]\n",
    "\n",
    "vt = pd.DataFrame(data_list)"
   ]
  },
  {
   "cell_type": "code",
   "execution_count": 4,
   "id": "76868a58-1d1d-4296-b34e-3011707d4684",
   "metadata": {},
   "outputs": [
    {
     "name": "stdout",
     "output_type": "stream",
     "text": [
      "(324725, 8)\n",
      "Index(['user_id', 'name', 'time', 'rating', 'text', 'pics', 'resp', 'gmap_id'], dtype='object')\n",
      "                 user_id             name           time  rating  \\\n",
      "0  118026874392842649478    rebecca kerns  1620085852324       5   \n",
      "1  101532740754036204131    Peter DeForge  1580309946474       5   \n",
      "2  115404122636203550540    Chad Goulette  1605195974445       5   \n",
      "3  104789336434407408181  Mark LaFountain  1593005848256       5   \n",
      "4  108980665975608069965           Jeff R  1582059996120       5   \n",
      "\n",
      "                                                text  pics  \\\n",
      "0      Always done right from wood stove to screens!  None   \n",
      "1  A great company to work with.  Their sales and...  None   \n",
      "2  Great place to do business with staff was grea...  None   \n",
      "3  Awesome Customer service, quick response, and ...  None   \n",
      "4  If you need a top quality job, by a group of p...  None   \n",
      "\n",
      "                                                resp  \\\n",
      "0  {'time': 1620087641504, 'text': 'Good Evening,...   \n",
      "1  {'time': 1580320228721, 'text': 'Good Afternoo...   \n",
      "2  {'time': 1605195166792, 'text': 'Hi Chad!\n",
      "\n",
      "Tha...   \n",
      "3  {'time': 1593376422014, 'text': 'Mark, thank y...   \n",
      "4  {'time': 1582063833737, 'text': 'Good Afternoo...   \n",
      "\n",
      "                                 gmap_id  \n",
      "0  0x89e02445cb9db457:0x37f42bff4edf7a43  \n",
      "1  0x89e02445cb9db457:0x37f42bff4edf7a43  \n",
      "2  0x89e02445cb9db457:0x37f42bff4edf7a43  \n",
      "3  0x89e02445cb9db457:0x37f42bff4edf7a43  \n",
      "4  0x89e02445cb9db457:0x37f42bff4edf7a43  \n"
     ]
    }
   ],
   "source": [
    "print(vt.shape)\n",
    "print(vt.columns)\n",
    "print(vt.head())"
   ]
  },
  {
   "cell_type": "code",
   "execution_count": null,
   "id": "5f56b0a7-6314-412f-8c3c-fb15d35969b2",
   "metadata": {},
   "outputs": [],
   "source": [
    "url_metadata = 'https://mcauleylab.ucsd.edu/public_datasets/gdrive/googlelocal/meta-Vermont.json.gz'\n",
    "\n",
    "response_meta = requests.get(url_metadata, stream = True)\n",
    "response_meta.raise_for_status() \n",
    "\n",
    "with gzip.GzipFile(fileobj = io.BytesIO(response_meta.content), mode = 'rb') as gz_file:\n",
    "    data_list1 = [json.loads(line) for line in gz_file]\n",
    "\n",
    "vt_business = pd.DataFrame(data_list1)"
   ]
  },
  {
   "cell_type": "code",
   "execution_count": 17,
   "id": "7e728236-2b1c-4c4a-ac6f-92666bd0b13d",
   "metadata": {},
   "outputs": [
    {
     "name": "stdout",
     "output_type": "stream",
     "text": [
      "                 user_id             name           time  rating  \\\n",
      "0  118026874392842649478    rebecca kerns  1620085852324       5   \n",
      "1  101532740754036204131    Peter DeForge  1580309946474       5   \n",
      "2  115404122636203550540    Chad Goulette  1605195974445       5   \n",
      "3  104789336434407408181  Mark LaFountain  1593005848256       5   \n",
      "4  108980665975608069965           Jeff R  1582059996120       5   \n",
      "\n",
      "                                                text  pics  \\\n",
      "0      Always done right from wood stove to screens!  None   \n",
      "1  A great company to work with.  Their sales and...  None   \n",
      "2  Great place to do business with staff was grea...  None   \n",
      "3  Awesome Customer service, quick response, and ...  None   \n",
      "4  If you need a top quality job, by a group of p...  None   \n",
      "\n",
      "                                                resp  \\\n",
      "0  {'time': 1620087641504, 'text': 'Good Evening,...   \n",
      "1  {'time': 1580320228721, 'text': 'Good Afternoo...   \n",
      "2  {'time': 1605195166792, 'text': 'Hi Chad!\n",
      "\n",
      "Tha...   \n",
      "3  {'time': 1593376422014, 'text': 'Mark, thank y...   \n",
      "4  {'time': 1582063833737, 'text': 'Good Afternoo...   \n",
      "\n",
      "                                 gmap_id  \n",
      "0  0x89e02445cb9db457:0x37f42bff4edf7a43  \n",
      "1  0x89e02445cb9db457:0x37f42bff4edf7a43  \n",
      "2  0x89e02445cb9db457:0x37f42bff4edf7a43  \n",
      "3  0x89e02445cb9db457:0x37f42bff4edf7a43  \n",
      "4  0x89e02445cb9db457:0x37f42bff4edf7a43  \n",
      "Index(['user_id', 'name', 'time', 'rating', 'text', 'pics', 'resp', 'gmap_id'], dtype='object')\n"
     ]
    }
   ],
   "source": [
    "print(vt_business.head())\n",
    "print(vt_business.columns)"
   ]
  },
  {
   "cell_type": "markdown",
   "id": "7b04f539-d927-4cfa-adf1-de00630f6f1e",
   "metadata": {},
   "source": [
    "Drop 'name' column, convert all text to lower case, drop duplicates (~3000 duplicates)"
   ]
  },
  {
   "cell_type": "code",
   "execution_count": 7,
   "id": "e6328b73-99b1-4b72-a3e9-31cd78cbfa1c",
   "metadata": {},
   "outputs": [
    {
     "name": "stdout",
     "output_type": "stream",
     "text": [
      "(321483, 7)\n"
     ]
    }
   ],
   "source": [
    "vt = vt.drop(['name'], axis = 1)\n",
    "vt.columns = vt.columns.str.lower() \n",
    "vt = vt.drop_duplicates(subset=['user_id', 'text', 'gmap_id'])\n",
    "print(vt.shape)"
   ]
  },
  {
   "cell_type": "markdown",
   "id": "e0eb8cd7-0d1e-4612-9947-b944751cd347",
   "metadata": {},
   "source": [
    "Change the format of the 'pics' column, merge multiple dictionaries into one with list of pic urls"
   ]
  },
  {
   "cell_type": "code",
   "execution_count": 8,
   "id": "73c169c1-3c00-4628-94e6-800de5ab6fb6",
   "metadata": {},
   "outputs": [],
   "source": [
    "# vt_pics = vt[vt['pics'].notna()]\n",
    "# print(vt_pics.head())\n",
    "# print(vt_pics['pics'])\n",
    "# import pprint\n",
    "# pprint.pprint(vt_pics.loc[17, 'pics'])"
   ]
  },
  {
   "cell_type": "code",
   "execution_count": 9,
   "id": "60f2389d-163d-429c-9dc6-3129684918ed",
   "metadata": {},
   "outputs": [],
   "source": [
    "def collapse_pics(pic_list):\n",
    "    if not pic_list:\n",
    "        return []  \n",
    "    urls = []\n",
    "    for pic_dict in pic_list:\n",
    "        urls.extend(pic_dict.get('url', []))\n",
    "    return urls\n",
    "\n",
    "vt['pics_collapsed'] = vt['pics'].apply(collapse_pics)\n",
    "\n",
    "# print(vt['pics_collapsed'].iloc[17])"
   ]
  },
  {
   "cell_type": "markdown",
   "id": "0c7852a3-3efe-433e-a8f4-0b847920085e",
   "metadata": {},
   "source": [
    "Average rating based on rating-only file"
   ]
  },
  {
   "cell_type": "code",
   "execution_count": 10,
   "id": "d9376076-5b9c-4053-bddb-af52f2085c02",
   "metadata": {},
   "outputs": [
    {
     "name": "stdout",
     "output_type": "stream",
     "text": [
      "                 user_id           time  rating  \\\n",
      "0  118026874392842649478  1620085852324       5   \n",
      "1  101532740754036204131  1580309946474       5   \n",
      "2  115404122636203550540  1605195974445       5   \n",
      "3  104789336434407408181  1593005848256       5   \n",
      "4  108980665975608069965  1582059996120       5   \n",
      "\n",
      "                                                text  pics  \\\n",
      "0      Always done right from wood stove to screens!  None   \n",
      "1  A great company to work with.  Their sales and...  None   \n",
      "2  Great place to do business with staff was grea...  None   \n",
      "3  Awesome Customer service, quick response, and ...  None   \n",
      "4  If you need a top quality job, by a group of p...  None   \n",
      "\n",
      "                                                resp  \\\n",
      "0  {'time': 1620087641504, 'text': 'Good Evening,...   \n",
      "1  {'time': 1580320228721, 'text': 'Good Afternoo...   \n",
      "2  {'time': 1605195166792, 'text': 'Hi Chad!\n",
      "\n",
      "Tha...   \n",
      "3  {'time': 1593376422014, 'text': 'Mark, thank y...   \n",
      "4  {'time': 1582063833737, 'text': 'Good Afternoo...   \n",
      "\n",
      "                                 gmap_id pics_collapsed  average_rating  \n",
      "0  0x89e02445cb9db457:0x37f42bff4edf7a43             []        4.909091  \n",
      "1  0x89e02445cb9db457:0x37f42bff4edf7a43             []        4.909091  \n",
      "2  0x89e02445cb9db457:0x37f42bff4edf7a43             []        4.909091  \n",
      "3  0x89e02445cb9db457:0x37f42bff4edf7a43             []        4.909091  \n",
      "4  0x89e02445cb9db457:0x37f42bff4edf7a43             []        4.909091  \n"
     ]
    }
   ],
   "source": [
    "average_ratings = vt.groupby('gmap_id')['rating'].mean()\n",
    "vt['average_rating'] = vt['gmap_id'].map(average_ratings)\n",
    "print(vt.head())"
   ]
  },
  {
   "cell_type": "markdown",
   "id": "6b3d8b88-ab1c-4c0a-ba0e-4e01597912c8",
   "metadata": {},
   "source": [
    "Separate dataset into vt1 (rating only) and vt2 (everything else)"
   ]
  },
  {
   "cell_type": "code",
   "execution_count": 11,
   "id": "81d9c27b-949e-4d06-a925-9c19be424dc2",
   "metadata": {},
   "outputs": [
    {
     "name": "stdout",
     "output_type": "stream",
     "text": [
      "(145565, 9)\n",
      "(175918, 9)\n"
     ]
    }
   ],
   "source": [
    "vt1 = vt[vt['pics'].isna() & vt['text'].isna()] # rating only\n",
    "vt2 = vt[~vt.index.isin(vt1.index)] # everything else\n",
    "\n",
    "print(vt1.shape)\n",
    "print(vt2.shape)"
   ]
  },
  {
   "cell_type": "markdown",
   "id": "e7e59c39-2474-4fd2-989b-7bf5b4cdd7bd",
   "metadata": {},
   "source": [
    "Data Exploration"
   ]
  }
 ],
 "metadata": {
  "kernelspec": {
   "display_name": "base",
   "language": "python",
   "name": "python3"
  },
  "language_info": {
   "codemirror_mode": {
    "name": "ipython",
    "version": 3
   },
   "file_extension": ".py",
   "mimetype": "text/x-python",
   "name": "python",
   "nbconvert_exporter": "python",
   "pygments_lexer": "ipython3",
   "version": "3.12.7"
  }
 },
 "nbformat": 4,
 "nbformat_minor": 5
}
