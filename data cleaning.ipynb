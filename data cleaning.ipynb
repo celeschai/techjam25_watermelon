{
 "cells": [
  {
   "cell_type": "markdown",
   "id": "af6fc724-8503-414e-8d99-994af47e6dfb",
   "metadata": {},
   "source": [
    "Detecting Advertisement from image"
   ]
  },
  {
   "cell_type": "code",
   "execution_count": 13,
   "id": "f6d87a27-baf5-4781-9957-8b6ede81e322",
   "metadata": {},
   "outputs": [],
   "source": [
    "!pip3 install -q -U transformers\n",
    "!pip3 install -q -U torch\n",
    "!pip3 install -q -U huggingface_hub\n",
    "!pip3 install -q -U dotenv"
   ]
  },
  {
   "cell_type": "code",
   "execution_count": 14,
   "id": "0a78f6fb-4e6c-48c3-a838-4d862d598147",
   "metadata": {},
   "outputs": [
    {
     "data": {
      "application/vnd.jupyter.widget-view+json": {
       "model_id": "7eb93cd40cdd48a8b40369e4fbf76ae3",
       "version_major": 2,
       "version_minor": 0
      },
      "text/plain": [
       "VBox(children=(HTML(value='<center> <img\\nsrc=https://huggingface.co/front/assets/huggingface_logo-noborder.sv…"
      ]
     },
     "metadata": {},
     "output_type": "display_data"
    }
   ],
   "source": [
    "from huggingface_hub import login\n",
    "import os\n",
    "from dotenv import load_dotenv\n",
    "\n",
    "hf_token = os.getenv(\"HF_TOKEN\")\n",
    "login(token=hf_token)"
   ]
  },
  {
   "cell_type": "code",
   "execution_count": 17,
   "id": "441f5b96-0621-4f09-9784-e8006c2862b0",
   "metadata": {},
   "outputs": [
    {
     "name": "stdout",
     "output_type": "stream",
     "text": [
      "Using device: mps\n"
     ]
    },
    {
     "data": {
      "application/vnd.jupyter.widget-view+json": {
       "model_id": "e143011bf1f847b5943fae368d97c8dc",
       "version_major": 2,
       "version_minor": 0
      },
      "text/plain": [
       "Loading checkpoint shards:   0%|          | 0/2 [00:00<?, ?it/s]"
      ]
     },
     "metadata": {},
     "output_type": "display_data"
    },
    {
     "name": "stderr",
     "output_type": "stream",
     "text": [
      "Device set to use mps\n"
     ]
    }
   ],
   "source": [
    "from transformers import pipeline\n",
    "import torch\n",
    "\n",
    "device = \"mps\" if torch.backends.mps.is_available() else \"cpu\"\n",
    "print(f\"Using device: {device}\")\n",
    "\n",
    "model_id = \"google/gemma-3-4b-it\"\n",
    "\n",
    "pipe = pipeline(\n",
    "    \"image-text-to-text\",\n",
    "    model=model_id,\n",
    "    device=device,          \n",
    "    torch_dtype=torch.bfloat16\n",
    ")"
   ]
  },
  {
   "cell_type": "code",
   "execution_count": 18,
   "id": "2f4b7a06-f6ea-4b88-9aa3-68ea01f95195",
   "metadata": {},
   "outputs": [
    {
     "name": "stdout",
     "output_type": "stream",
     "text": [
      "Okay, here's a detailed description of the image I’m seeing:\n",
      "\n",
      "**Overall Impression:** The image appears to be an interior shot of what looks like a reception or waiting area, possibly for a medical or wellness practice. It has a modern and somewhat minimalist aesthetic.\n",
      "\n",
      "**Key Elements:**\n",
      "\n",
      "*   **Ceiling:** The ceiling is a neutral gray, with a slightly textured or popcorn finish. There are recessed lighting fixtures evenly spaced across the ceiling.\n",
      "*   **Lighting:** There are four pendant lights hanging down from the ceiling. They have a distinctive design – a dark base with a light wooden or painted top.\n"
     ]
    }
   ],
   "source": [
    "messages = [\n",
    "    {\n",
    "        \"role\": \"system\",\n",
    "        \"content\": [\n",
    "            {\"type\": \"text\", \"text\": (\n",
    "                \"You are a potential customer looking at Google review images. \"\n",
    "                # \"Always respond in two clearly labeled sections:\\n\"\n",
    "                # \"Answer: <short, factual yes/no/N/A>\\n\"\n",
    "                # \"Rationale: <explain based on visible features>\"\n",
    "            )}\n",
    "        ]\n",
    "    },\n",
    "    {\n",
    "        \"role\": \"user\",\n",
    "        \"content\": [\n",
    "            {\"type\": \"image\", \"url\": \"https://lh5.googleusercontent.com/p/AF1QipMBzN4BJV9YCObcw_ifNzFPm-u38hO3oimOA8Fb=w150-h150-k-no-p\"},\n",
    "            {\"type\": \"text\", \"text\": (\n",
    "                \"Describe the image in detail.\"\n",
    "            )}\n",
    "        ]\n",
    "    }\n",
    "]\n",
    "\n",
    "output = pipe(text=messages, max_new_tokens=128)\n",
    "print(output[0][\"generated_text\"][-1][\"content\"])"
   ]
  },
  {
   "cell_type": "markdown",
   "id": "a04d827e-27b1-4576-aa94-4f9d501330ed",
   "metadata": {},
   "source": [
    "Image Analysis"
   ]
  },
  {
   "cell_type": "markdown",
   "id": "04a52fbb-db0a-4737-9e81-58ba1f23a38a",
   "metadata": {},
   "source": [
    "Created two columns via prompt engineering:\n",
    "- Full description of the image\n",
    "- Check if the image looks like an advertisement"
   ]
  },
  {
   "cell_type": "code",
   "execution_count": null,
   "id": "518b6ca0",
   "metadata": {},
   "outputs": [
    {
     "name": "stdout",
     "output_type": "stream",
     "text": [
      "                 user_id                                   Full_Description  \\\n",
      "0  101856865551768948430  The image shows a close-up of a rusty motorcyc...   \n",
      "1  107787438275893909028  The image shows a family holding a flag of Col...   \n",
      "2  108564695687320799964  The image shows a person skiing in a snowy lan...   \n",
      "\n",
      "  Is_Advertisement  \n",
      "0               No  \n",
      "1              Yes  \n",
      "2               No  \n"
     ]
    }
   ],
   "source": [
    "# Take first 3 reviews\n",
    "pics_test = pics.head(3).copy()\n",
    "\n",
    "for col in [\"Image_Description\", \"Is_Advertisement\"]:\n",
    "    if col not in pics.columns:\n",
    "        pics[col] = \"\"\n",
    "\n",
    "advertisement_examples = [\n",
    "    \"Billboard with product name and price\",\n",
    "    \"Social media post promoting a sale\",\n",
    "    \"Banner showing a company logo with a slogan\",\n",
    "    \"Flyer with a discount coupon\"\n",
    "]\n",
    "\n",
    "for idx, row in pics_test.iterrows():\n",
    "    pics_list = ast.literal_eval(row['pics_collapsed'])\n",
    "\n",
    "    answers = []\n",
    "    descriptions = []\n",
    "    \n",
    "    for image_url in pics_list:\n",
    "        messages = [\n",
    "            {\n",
    "                \"role\": \"system\",\n",
    "                \"content\": [\n",
    "                    {\"type\": \"text\", \"text\": (\n",
    "                        \"You are an AI assistant that classifies images as advertisements. \"\n",
    "                        \"Always respond in two clearly labeled sections:\\n\"\n",
    "                        \"Answer: <Yes/No/N/A>\\n\"\n",
    "                        \"Description: Two sentences to describe what’s happening in the photo, \"\n",
    "                        \"and hence the rationale.\\n\"\n",
    "                        f\"Examples of advertisements include: {', '.join(advertisement_examples)}\"\n",
    "                    )}\n",
    "                ]\n",
    "            },\n",
    "            {\n",
    "                \"role\": \"user\",\n",
    "                \"content\": [\n",
    "                    {\"type\": \"image\", \"url\": image_url},\n",
    "                    {\"type\": \"text\", \"text\": \"Is this image an advertisement? If unclear, say Answer: N/A.\"}\n",
    "                ]\n",
    "            }\n",
    "        ]\n",
    "\n",
    "        output = pipe(text=messages, max_new_tokens=128)\n",
    "        response = output[0][\"generated_text\"][-1][\"content\"]\n",
    "\n",
    "        # Default values\n",
    "        answer, rationale = \"N/A\", \"\"\n",
    "\n",
    "        for line in response.splitlines():\n",
    "            if line.startswith(\"Answer:\"):\n",
    "                answer = line.split(\":\", 1)[1].strip()\n",
    "            elif line.startswith(\"Description:\"):\n",
    "                rationale = line.split(\":\", 1)[1].strip()\n",
    "\n",
    "        answers.append(answer)\n",
    "        descriptions.append(rationale)\n",
    "\n",
    "    # Final decision rule\n",
    "    if \"Yes\" in answers:\n",
    "        final_answer = \"Yes\"\n",
    "    elif \"No\" in answers:\n",
    "        final_answer = \"No\"\n",
    "    else:\n",
    "        final_answer = \"N/A\"\n",
    "\n",
    "    pics.at[idx, 'Is_Advertisement'] = final_answer\n",
    "    pics.at[idx, 'Image_Description'] = \" | \".join(descriptions)\n",
    "\n",
    "print(pics[['user_id', 'Image_Description', 'Is_Advertisement']].head(3))"
   ]
  },
  {
   "cell_type": "markdown",
   "id": "df9e7407-72d2-4b91-aa9b-8a78e3e6cf29",
   "metadata": {},
   "source": [
    "Create column for key words for the image:\n",
    "- setting\n",
    "- objects\n",
    "- business type\n",
    "- activities\n",
    "- text"
   ]
  },
  {
   "cell_type": "code",
   "execution_count": 62,
   "id": "7915bf07",
   "metadata": {},
   "outputs": [
    {
     "name": "stdout",
     "output_type": "stream",
     "text": [
      "Review 0:\n",
      "--- Image 1 ---\n",
      "- Setting: Outdoor, garage\n",
      "- Objects: Brake rotor, bolts, wheel hub, tire, concrete floor\n",
      "- Business type: N/A\n",
      "- Activities: Maintenance or repair\n",
      "- Text: N/A\n",
      "\n",
      "--- Image 2 ---\n",
      "- Setting: Indoor\n",
      "- Objects: Hand, bolt, metal, thread\n",
      "- Business type: N/A\n",
      "- Activities: N/A\n",
      "- Text: N/A\n",
      "================================================================================\n",
      "Review 1:\n",
      "--- Image 1 ---\n",
      "- Setting: Outdoor, roadside\n",
      "- Objects: Four people, a large flag, a van, a building, trees, a road, a utility pole\n",
      "- Business type: N/A\n",
      "- Activities: Group photo\n",
      "- Text: “FROM RECOVERY STATE”\n",
      "\n",
      "--- Image 2 ---\n",
      "- Setting: Indoor\n",
      "- Objects: Sign, purple fabric, logos (Recovery Support, Readdy, Phoenix Recovery, and Quantum Health)\n",
      "- Business type: N/A\n",
      "- Activities: N/A\n",
      "- Text: RECOVERY SUPPORT\n",
      "================================================================================\n",
      "Review 2:\n",
      "--- Image 1 ---\n",
      "- Setting: Outdoor, ski resort\n",
      "- Objects: Person, skis, snow, trees, buildings, ski lift\n",
      "- Business type: N/A\n",
      "- Activities: Skiing, taking a photo\n",
      "- Text: N/A\n",
      "\n",
      "--- Image 2 ---\n",
      "- Setting: Outdoor, snow-covered landscape\n",
      "- Objects: Snow, trees, sky, dark objects\n",
      "- Business type: N/A\n",
      "- Activities: N/A\n",
      "- Text: N/A\n",
      "================================================================================\n"
     ]
    }
   ],
   "source": [
    "# Use .loc to avoid SettingWithCopyWarning\n",
    "pics_test.loc[:, 'Key_Words'] = \"\"\n",
    "\n",
    "# Prompt template\n",
    "PROMPT = \"\"\"You are an image analyst. \n",
    "Describe this image in detail in the following structured format only:\n",
    "\n",
    "- Setting: <indoor/outdoor, type of place>\n",
    "- Objects: <things visible>\n",
    "- Business type: <restaurant, shop, etc., best guess or N/A>\n",
    "- Activities: <what is happening>\n",
    "- Text: <any text visible in the image or N/A>\n",
    "\n",
    "Do not include any extra commentary, questions, or greetings.  \n",
    "If unsure about a category, write 'N/A'.\n",
    "Here is the image: <image>\n",
    "\"\"\"\n",
    "\n",
    "# Loop through first 3 rows\n",
    "for idx, row in pics_test.iterrows():\n",
    "    pics_list = ast.literal_eval(row['pics_collapsed'])  # convert string to list\n",
    "    descriptions = []\n",
    "\n",
    "    for i, image_url in enumerate(pics_list, start=1):\n",
    "        messages = [\n",
    "            {\n",
    "                \"role\": \"system\",\n",
    "                \"content\": [\n",
    "                    {\"type\": \"text\", \"text\": PROMPT}\n",
    "                ]\n",
    "            },\n",
    "            {\n",
    "                \"role\": \"user\",\n",
    "                \"content\": [\n",
    "                    {\"type\": \"image\", \"url\": image_url},\n",
    "                    {\"type\": \"text\", \"text\": \"Describe the image in the structured format above.\"}\n",
    "                ]\n",
    "            }\n",
    "        ]\n",
    "\n",
    "        try:\n",
    "            output = pipe(text=messages, max_new_tokens=200)\n",
    "            desc = output[0][\"generated_text\"][-1][\"content\"]\n",
    "            descriptions.append(f\"--- Image {i} ---\\n{desc}\")\n",
    "        except Exception as e:\n",
    "            descriptions.append(f\"--- Image {i} ---\\nN/A (Error processing image: {e})\")\n",
    "\n",
    "    # Combine multiple images into a single string per review\n",
    "    pics_test.loc[idx, 'Key_Words'] = \"\\n\\n\".join(descriptions)\n",
    "\n",
    "# View results\n",
    "for idx, row in pics_test.iterrows():\n",
    "    print(f\"Review {idx}:\")\n",
    "    print(row['Key_Words'])\n",
    "    print(\"=\"*80)"
   ]
  },
  {
   "cell_type": "code",
   "execution_count": null,
   "id": "d95faa6d",
   "metadata": {},
   "outputs": [
    {
     "name": "stdout",
     "output_type": "stream",
     "text": [
      "                 user_id Full_Description  \\\n",
      "0  101856865551768948430                    \n",
      "1  107787438275893909028                    \n",
      "2  108564695687320799964                    \n",
      "\n",
      "                                           Key_Words Is_Advertisement  \n",
      "0  --- Image 1 ---\\n- Setting: Outdoor, garage\\n-...               No  \n",
      "1  --- Image 1 ---\\n- Setting: Outdoor, roadside\\...              Yes  \n",
      "2  --- Image 1 ---\\n- Setting: Outdoor, ski resor...               No  \n"
     ]
    }
   ],
   "source": [
    "print(pics_test[['user_id', 'Image_Description', 'Key_Words','Is_Advertisement']])"
   ]
  },
  {
   "cell_type": "markdown",
   "id": "92dc3a8f-eb0f-4bec-b887-4b9d3c3c263f",
   "metadata": {},
   "source": [
    "Create a "
   ]
  },
  {
   "cell_type": "code",
   "execution_count": null,
   "id": "98947df7-984f-439b-a841-0f50f3b77cfb",
   "metadata": {},
   "outputs": [],
   "source": [
    "pics_test.loc[:, 'Key_Words'] = \"\"\n",
    "\n",
    "# Prompt template\n",
    "PROMPT = \"\"\"You are an image analyst. \n",
    "Describe this image in detail in the following structured format only:\n",
    "\n",
    "- Setting: <indoor/outdoor, type of place>\n",
    "- Objects: <things visible>\n",
    "- Business type: <restaurant, shop, etc., best guess or N/A>\n",
    "- Activities: <what is happening>\n",
    "- Text: <any text visible in the image or N/A>\n",
    "\n",
    "Do not include any extra commentary, questions, or greetings.  \n",
    "If unsure about a category, write 'N/A'.\n",
    "Here is the image: <image>\n",
    "\"\"\""
   ]
  }
 ],
 "metadata": {
  "kernelspec": {
   "display_name": "base",
   "language": "python",
   "name": "python3"
  },
  "language_info": {
   "codemirror_mode": {
    "name": "ipython",
    "version": 3
   },
   "file_extension": ".py",
   "mimetype": "text/x-python",
   "name": "python",
   "nbconvert_exporter": "python",
   "pygments_lexer": "ipython3",
   "version": "3.12.7"
  }
 },
 "nbformat": 4,
 "nbformat_minor": 5
}
