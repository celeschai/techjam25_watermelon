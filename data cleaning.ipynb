{
 "cells": [
  {
   "cell_type": "code",
   "execution_count": 2,
   "id": "d4168d6c-867d-44f9-b088-bbf52ad15b27",
   "metadata": {},
   "outputs": [
    {
     "data": {
      "text/plain": [
       "'/Users/louisechua/Documents/GitHub/techjam25_watermelon/Untitled'"
      ]
     },
     "execution_count": 2,
     "metadata": {},
     "output_type": "execute_result"
    }
   ],
   "source": [
    "import pandas as pd\n",
    "import os\n",
    "os.getcwd()"
   ]
  },
  {
   "cell_type": "code",
   "execution_count": 6,
   "id": "9f71c91e-0ac3-4c33-a057-a026fc0b697f",
   "metadata": {},
   "outputs": [],
   "source": [
    "vt = pd.read_json('review-Vermont_10.json', lines = True)"
   ]
  },
  {
   "cell_type": "code",
   "execution_count": 9,
   "id": "76868a58-1d1d-4296-b34e-3011707d4684",
   "metadata": {},
   "outputs": [
    {
     "name": "stdout",
     "output_type": "stream",
     "text": [
      "        user_id           time  rating  \\\n",
      "0  1.180269e+20  1620085852324       5   \n",
      "1  1.015327e+20  1580309946474       5   \n",
      "2  1.154041e+20  1605195974445       5   \n",
      "3  1.047893e+20  1593005848256       5   \n",
      "4  1.089807e+20  1582059996120       5   \n",
      "\n",
      "                                                text  pics  \\\n",
      "0      Always done right from wood stove to screens!  None   \n",
      "1  A great company to work with.  Their sales and...  None   \n",
      "2  Great place to do business with staff was grea...  None   \n",
      "3  Awesome Customer service, quick response, and ...  None   \n",
      "4  If you need a top quality job, by a group of p...  None   \n",
      "\n",
      "                                                resp  \\\n",
      "0  {'time': 1620087641504, 'text': 'Good Evening,...   \n",
      "1  {'time': 1580320228721, 'text': 'Good Afternoo...   \n",
      "2  {'time': 1605195166792, 'text': 'Hi Chad!\n",
      "\n",
      "Tha...   \n",
      "3  {'time': 1593376422014, 'text': 'Mark, thank y...   \n",
      "4  {'time': 1582063833737, 'text': 'Good Afternoo...   \n",
      "\n",
      "                                 gmap_id  \n",
      "0  0x89e02445cb9db457:0x37f42bff4edf7a43  \n",
      "1  0x89e02445cb9db457:0x37f42bff4edf7a43  \n",
      "2  0x89e02445cb9db457:0x37f42bff4edf7a43  \n",
      "3  0x89e02445cb9db457:0x37f42bff4edf7a43  \n",
      "4  0x89e02445cb9db457:0x37f42bff4edf7a43  \n",
      "Index(['user_id', 'time', 'rating', 'text', 'pics', 'resp', 'gmap_id'], dtype='object')\n"
     ]
    }
   ],
   "source": [
    "print(vt.head())\n",
    "print(vt.columns)"
   ]
  },
  {
   "cell_type": "code",
   "execution_count": 8,
   "id": "e6328b73-99b1-4b72-a3e9-31cd78cbfa1c",
   "metadata": {},
   "outputs": [],
   "source": [
    "vt = vt.drop(['name], axis = 1)"
   ]
  },
  {
   "cell_type": "code",
   "execution_count": 14,
   "id": "73c169c1-3c00-4628-94e6-800de5ab6fb6",
   "metadata": {},
   "outputs": [],
   "source": [
    "vt_pics = vt[vt['pics'].notna()]"
   ]
  },
  {
   "cell_type": "code",
   "execution_count": 15,
   "id": "db1730a6-dca9-4038-b2bb-4b2dadbebb08",
   "metadata": {},
   "outputs": [
    {
     "name": "stdout",
     "output_type": "stream",
     "text": [
      "          user_id           time  rating  \\\n",
      "17   1.018569e+20  1606162783440       1   \n",
      "78   1.077874e+20  1542050139179       5   \n",
      "85   1.085647e+20  1518887224225       5   \n",
      "97   1.089474e+20  1593308227561       5   \n",
      "105  1.039498e+20  1623279276514       5   \n",
      "\n",
      "                                                  text  \\\n",
      "17   I had them replace two broken studs on my righ...   \n",
      "78   Kingdom Recovery Center is a place for people ...   \n",
      "85                   Great place to ski and snow shoe.   \n",
      "97   Hard but rewarding, vertigo warning for the to...   \n",
      "105  Consistently hits the spot for a straightforwa...   \n",
      "\n",
      "                                                  pics  \\\n",
      "17   [{'url': ['https://lh5.googleusercontent.com/p...   \n",
      "78   [{'url': ['https://lh5.googleusercontent.com/p...   \n",
      "85   [{'url': ['https://lh5.googleusercontent.com/p...   \n",
      "97   [{'url': ['https://lh5.googleusercontent.com/p...   \n",
      "105  [{'url': ['https://lh5.googleusercontent.com/p...   \n",
      "\n",
      "                                                  resp  \\\n",
      "17   {'time': 1606226681412, 'text': 'Hi Henry our ...   \n",
      "78                                                None   \n",
      "85                                                None   \n",
      "97                                                None   \n",
      "105                                               None   \n",
      "\n",
      "                                   gmap_id  \n",
      "17   0x89e024446398691f:0x4011d3a0f8636036  \n",
      "78   0x4cb446270577ed85:0x8b3dfc93cc4846a8  \n",
      "85   0x4cb43730db4d1a1f:0x82fc64269bef0db3  \n",
      "97   0x4cb42a9f5df6385b:0x534ca42c250f0a05  \n",
      "105  0x4cca9d0401cd8345:0xfd0f1a365e865e14  \n"
     ]
    }
   ],
   "source": [
    "print(vt_pics.head())"
   ]
  },
  {
   "cell_type": "code",
   "execution_count": 17,
   "id": "ad959334-4273-4a95-8780-af69bd03d74c",
   "metadata": {},
   "outputs": [
    {
     "name": "stdout",
     "output_type": "stream",
     "text": [
      "17        [{'url': ['https://lh5.googleusercontent.com/p...\n",
      "78        [{'url': ['https://lh5.googleusercontent.com/p...\n",
      "85        [{'url': ['https://lh5.googleusercontent.com/p...\n",
      "97        [{'url': ['https://lh5.googleusercontent.com/p...\n",
      "105       [{'url': ['https://lh5.googleusercontent.com/p...\n",
      "                                ...                        \n",
      "324639    [{'url': ['https://lh5.googleusercontent.com/p...\n",
      "324640    [{'url': ['https://lh5.googleusercontent.com/p...\n",
      "324641    [{'url': ['https://lh5.googleusercontent.com/p...\n",
      "324642    [{'url': ['https://lh5.googleusercontent.com/p...\n",
      "324643    [{'url': ['https://lh5.googleusercontent.com/p...\n",
      "Name: pics, Length: 9651, dtype: object\n"
     ]
    }
   ],
   "source": [
    "print(vt_pics['pics'])"
   ]
  },
  {
   "cell_type": "code",
   "execution_count": 18,
   "id": "8f945ce1-0550-4710-8d0a-59131d3b07c7",
   "metadata": {},
   "outputs": [
    {
     "name": "stdout",
     "output_type": "stream",
     "text": [
      "[{'url': ['https://lh5.googleusercontent.com/p/AF1QipPQa7V_Ibv9GfDZQXPeNGV3W_dY-rRCJhTYieY9=w150-h150-k-no-p']},\n",
      " {'url': ['https://lh5.googleusercontent.com/p/AF1QipOX0LxkfikC3U2TFyXJaOB308ZAmCpJ7D0PFMdj=w150-h150-k-no-p']}]\n"
     ]
    }
   ],
   "source": [
    "import pprint\n",
    "pprint.pprint(vt_pics.loc[17, 'pics'])"
   ]
  },
  {
   "cell_type": "code",
   "execution_count": 19,
   "id": "60f2389d-163d-429c-9dc6-3129684918ed",
   "metadata": {},
   "outputs": [
    {
     "name": "stdout",
     "output_type": "stream",
     "text": [
      "['https://lh5.googleusercontent.com/p/AF1QipPQa7V_Ibv9GfDZQXPeNGV3W_dY-rRCJhTYieY9=w150-h150-k-no-p', 'https://lh5.googleusercontent.com/p/AF1QipOX0LxkfikC3U2TFyXJaOB308ZAmCpJ7D0PFMdj=w150-h150-k-no-p']\n"
     ]
    }
   ],
   "source": [
    "def collapse_pics(pic_list):\n",
    "    if not pic_list:\n",
    "        return []  \n",
    "    urls = []\n",
    "    for pic_dict in pic_list:\n",
    "        urls.extend(pic_dict.get('url', []))\n",
    "    return urls\n",
    "\n",
    "vt['pics_collapsed'] = vt['pics'].apply(collapse_pics)\n",
    "\n",
    "print(vt['pics_collapsed'].iloc[17])"
   ]
  },
  {
   "cell_type": "code",
   "execution_count": null,
   "id": "7996e38e-6303-4d6a-acf3-99a2610197e6",
   "metadata": {},
   "outputs": [],
   "source": []
  }
 ],
 "metadata": {
  "kernelspec": {
   "display_name": "Python 3 (ipykernel)",
   "language": "python",
   "name": "python3"
  },
  "language_info": {
   "codemirror_mode": {
    "name": "ipython",
    "version": 3
   },
   "file_extension": ".py",
   "mimetype": "text/x-python",
   "name": "python",
   "nbconvert_exporter": "python",
   "pygments_lexer": "ipython3",
   "version": "3.12.7"
  }
 },
 "nbformat": 4,
 "nbformat_minor": 5
}
