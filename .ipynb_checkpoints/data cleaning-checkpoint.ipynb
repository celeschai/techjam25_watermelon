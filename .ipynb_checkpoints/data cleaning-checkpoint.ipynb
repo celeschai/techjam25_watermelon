{
 "cells": [
  {
   "cell_type": "code",
   "execution_count": 15,
   "id": "d4168d6c-867d-44f9-b088-bbf52ad15b27",
   "metadata": {},
   "outputs": [],
   "source": [
    "import pandas as pd\n",
    "import requests\n",
    "import gzip\n",
    "import json\n",
    "import io"
   ]
  },
  {
   "cell_type": "markdown",
   "id": "fe280b97-d554-46a0-9e5f-e7168183d47b",
   "metadata": {},
   "source": [
    "Read json file in"
   ]
  },
  {
   "cell_type": "code",
   "execution_count": 16,
   "id": "9f71c91e-0ac3-4c33-a057-a026fc0b697f",
   "metadata": {},
   "outputs": [],
   "source": [
    "url = 'https://mcauleylab.ucsd.edu/public_datasets/gdrive/googlelocal/review-Vermont_10.json.gz'\n",
    "\n",
    "response = requests.get(url, stream = True)\n",
    "response.raise_for_status() \n",
    "\n",
    "with gzip.GzipFile(fileobj = io.BytesIO(response.content), mode = 'rb') as gz_file:\n",
    "    data_list = [json.loads(line) for line in gz_file]\n",
    "\n",
    "vt = pd.DataFrame(data_list)"
   ]
  },
  {
   "cell_type": "code",
   "execution_count": 17,
   "id": "76868a58-1d1d-4296-b34e-3011707d4684",
   "metadata": {},
   "outputs": [
    {
     "name": "stdout",
     "output_type": "stream",
     "text": [
      "(324725, 8)\n",
      "Index(['user_id', 'name', 'time', 'rating', 'text', 'pics', 'resp', 'gmap_id'], dtype='object')\n"
     ]
    }
   ],
   "source": [
    "print(vt.shape)\n",
    "print(vt.columns)\n",
    "# print(vt.head())"
   ]
  },
  {
   "cell_type": "code",
   "execution_count": 18,
   "id": "5f56b0a7-6314-412f-8c3c-fb15d35969b2",
   "metadata": {},
   "outputs": [],
   "source": [
    "url_metadata = 'https://mcauleylab.ucsd.edu/public_datasets/gdrive/googlelocal/meta-Vermont.json.gz'\n",
    "\n",
    "response_metadata = requests.get(url_metadata, stream = True)\n",
    "response_metadata.raise_for_status() \n",
    "\n",
    "with gzip.GzipFile(fileobj = io.BytesIO(response_metadata.content), mode = 'rb') as gz_file:\n",
    "    data_list1 = [json.loads(line) for line in gz_file]\n",
    "\n",
    "vt_metadata = pd.DataFrame(data_list1)"
   ]
  },
  {
   "cell_type": "code",
   "execution_count": 19,
   "id": "c76c0ddc-240b-4b41-88a4-b2db37968f79",
   "metadata": {},
   "outputs": [
    {
     "name": "stdout",
     "output_type": "stream",
     "text": [
      "(11291, 15)\n",
      "Index(['name', 'address', 'gmap_id', 'description', 'latitude', 'longitude',\n",
      "       'category', 'avg_rating', 'num_of_reviews', 'price', 'hours', 'MISC',\n",
      "       'state', 'relative_results', 'url'],\n",
      "      dtype='object')\n"
     ]
    }
   ],
   "source": [
    "print(vt_metadata.shape)\n",
    "print(vt_metadata.columns)\n",
    "# print(vt_metadata.head())"
   ]
  },
  {
   "cell_type": "markdown",
   "id": "aea41666-b17b-4690-a732-994b6da62435",
   "metadata": {},
   "source": [
    "Data Cleaning"
   ]
  },
  {
   "cell_type": "markdown",
   "id": "daadf528-e785-433e-99ea-e9a988248aab",
   "metadata": {},
   "source": [
    "For business data\n",
    "Drop 'address', 'latitude', 'longitude', 'avg_rating', 'num_of_reviews', 'price', 'hours', 'MISC', 'state', 'relative_results' column, convert all text to lower case, drop duplicates (around 50 duplicates)"
   ]
  },
  {
   "cell_type": "code",
   "execution_count": 20,
   "id": "7e728236-2b1c-4c4a-ac6f-92666bd0b13d",
   "metadata": {},
   "outputs": [
    {
     "name": "stdout",
     "output_type": "stream",
     "text": [
      "(11291, 15)\n",
      "Index(['name', 'address', 'gmap_id', 'description', 'latitude', 'longitude',\n",
      "       'category', 'avg_rating', 'num_of_reviews', 'price', 'hours', 'MISC',\n",
      "       'state', 'relative_results', 'url'],\n",
      "      dtype='object')\n"
     ]
    }
   ],
   "source": [
    "print(vt_metadata.shape)\n",
    "print(vt_metadata.columns)\n",
    "vt_metadata = vt_metadata.drop(['address', 'latitude', 'longitude', 'avg_rating', 'num_of_reviews', 'price', 'hours', 'MISC', 'state', 'relative_results'], axis = 1)\n",
    "vt_metadata.columns = vt_metadata.columns.str.lower() \n",
    "vt_metadata['description'] = vt_metadata['description'].str.replace(r'\\s+', ' ', regex=True)\n",
    "vt_metadata['category'] = vt_metadata['category'].str.replace(r'\\s+', ' ', regex=True)\n",
    "vt_metadata = vt_metadata.drop_duplicates(subset = ['name','gmap_id', 'gmap_id'])"
   ]
  },
  {
   "cell_type": "markdown",
   "id": "7b04f539-d927-4cfa-adf1-de00630f6f1e",
   "metadata": {},
   "source": [
    "For Review data drop 'name' column, convert all text to lower case, drop duplicates (~3000 duplicates)"
   ]
  },
  {
   "cell_type": "code",
   "execution_count": 9,
   "id": "e6328b73-99b1-4b72-a3e9-31cd78cbfa1c",
   "metadata": {},
   "outputs": [],
   "source": [
    "vt = vt.drop(['name', 'resp'], axis = 1)\n",
    "vt.columns = vt.columns.str.lower() \n",
    "vt['text'] = vt['text'].str.replace(r'\\s+', ' ', regex=True)\n",
    "vt = vt.drop_duplicates(subset = ['user_id', 'text', 'gmap_id', 'time'])"
   ]
  },
  {
   "cell_type": "markdown",
   "id": "e0eb8cd7-0d1e-4612-9947-b944751cd347",
   "metadata": {},
   "source": [
    "Change the format of the 'pics' column, merge multiple dictionaries into one with list of pic urls"
   ]
  },
  {
   "cell_type": "code",
   "execution_count": 21,
   "id": "73c169c1-3c00-4628-94e6-800de5ab6fb6",
   "metadata": {},
   "outputs": [],
   "source": [
    "# vt_pics = vt[vt['pics'].notna()]\n",
    "# print(vt_pics.head())\n",
    "# print(vt_pics['pics'])\n",
    "# import pprint\n",
    "# pprint.pprint(vt_pics.loc[17, 'pics'])"
   ]
  },
  {
   "cell_type": "code",
   "execution_count": 22,
   "id": "60f2389d-163d-429c-9dc6-3129684918ed",
   "metadata": {},
   "outputs": [],
   "source": [
    "def collapse_pics(pic_list):\n",
    "    if not pic_list:\n",
    "        return []  \n",
    "    urls = []\n",
    "    for pic_dict in pic_list:\n",
    "        urls.extend(pic_dict.get('url', []))\n",
    "    return urls\n",
    "\n",
    "vt['pics_collapsed'] = vt['pics'].apply(collapse_pics)\n",
    "\n",
    "# print(vt['pics_collapsed'].iloc[17])"
   ]
  },
  {
   "cell_type": "markdown",
   "id": "61e5010c-6d0c-4b2a-a323-33f3901bc0cc",
   "metadata": {},
   "source": [
    "Merge by gmap id"
   ]
  },
  {
   "cell_type": "code",
   "execution_count": 23,
   "id": "e6e0d80e-ea89-442f-bb6a-66a0726a65cc",
   "metadata": {},
   "outputs": [],
   "source": [
    "vt_merged = pd.merge(vt, vt_metadata, on = 'gmap_id', how = 'inner')"
   ]
  },
  {
   "cell_type": "markdown",
   "id": "6b3d8b88-ab1c-4c0a-ba0e-4e01597912c8",
   "metadata": {},
   "source": [
    "Separate dataset into vt1 (rating only) and vt2 (everything else)"
   ]
  },
  {
   "cell_type": "code",
   "execution_count": 24,
   "id": "81d9c27b-949e-4d06-a925-9c19be424dc2",
   "metadata": {},
   "outputs": [
    {
     "name": "stdout",
     "output_type": "stream",
     "text": [
      "(145637, 12)\n",
      "(179088, 12)\n"
     ]
    }
   ],
   "source": [
    "vt1 = vt_merged[vt_merged['pics'].isna() & vt_merged['text'].isna()] # rating only\n",
    "vt2 = vt_merged[~vt_merged.index.isin(vt1.index)] # everything else\n",
    "vt1 = vt1.drop(['pics'], axis = 1)\n",
    "vt2 = vt2.drop(['pics'], axis = 1)\n",
    "print(vt1.shape)\n",
    "print(vt2.shape)"
   ]
  },
  {
   "cell_type": "code",
   "execution_count": 25,
   "id": "ba4ebd19-36e0-4b6d-b930-6b30648e18d1",
   "metadata": {},
   "outputs": [],
   "source": [
    "# vt1.to_csv('vermont_merged_rating only.csv')\n",
    "vt2.to_csv('vermont_merged_text_and_or_review.csv')\n",
    "# vt.to_csv('vermont.csv')\n",
    "# vt_merged.to_csv('vermont_merged.csv')\n",
    "# vt_metadata.to_csv('vermont_metadata.csv')"
   ]
  },
  {
   "cell_type": "code",
   "execution_count": null,
   "id": "f6d87a27-baf5-4781-9957-8b6ede81e322",
   "metadata": {},
   "outputs": [],
   "source": []
  },
  {
   "cell_type": "code",
   "execution_count": null,
   "id": "9a8e81f5-101b-4002-b2ec-d330e14d1e85",
   "metadata": {},
   "outputs": [],
   "source": []
  }
 ],
 "metadata": {
  "kernelspec": {
   "display_name": "Python 3 (ipykernel)",
   "language": "python",
   "name": "python3"
  },
  "language_info": {
   "codemirror_mode": {
    "name": "ipython",
    "version": 3
   },
   "file_extension": ".py",
   "mimetype": "text/x-python",
   "name": "python",
   "nbconvert_exporter": "python",
   "pygments_lexer": "ipython3",
   "version": "3.11.5"
  }
 },
 "nbformat": 4,
 "nbformat_minor": 5
}
