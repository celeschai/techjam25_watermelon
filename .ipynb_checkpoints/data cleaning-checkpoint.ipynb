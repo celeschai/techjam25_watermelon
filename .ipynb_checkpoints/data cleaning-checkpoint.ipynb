{
 "cells": [
  {
   "cell_type": "code",
   "execution_count": 12,
   "id": "d4168d6c-867d-44f9-b088-bbf52ad15b27",
   "metadata": {},
   "outputs": [],
   "source": [
    "import pandas as pd\n",
    "import requests\n",
    "import gzip\n",
    "import json\n",
    "import io"
   ]
  },
  {
   "cell_type": "markdown",
   "id": "fe280b97-d554-46a0-9e5f-e7168183d47b",
   "metadata": {},
   "source": [
    "Read json file in"
   ]
  },
  {
   "cell_type": "code",
   "execution_count": 13,
   "id": "9f71c91e-0ac3-4c33-a057-a026fc0b697f",
   "metadata": {},
   "outputs": [],
   "source": [
    "url = 'https://mcauleylab.ucsd.edu/public_datasets/gdrive/googlelocal/review-Vermont_10.json.gz'\n",
    "response = requests.get(url, stream = True)\n",
    "response.raise_for_status() \n",
    "\n",
    "with gzip.GzipFile(fileobj = io.BytesIO(response.content), mode = 'rb') as gz_file:\n",
    "    data_list = [json.loads(line) for line in gz_file]\n",
    "\n",
    "vt = pd.DataFrame(data_list)"
   ]
  },
  {
   "cell_type": "code",
   "execution_count": 14,
   "id": "76868a58-1d1d-4296-b34e-3011707d4684",
   "metadata": {},
   "outputs": [
    {
     "name": "stdout",
     "output_type": "stream",
     "text": [
      "(324725, 8)\n",
      "Index(['user_id', 'name', 'time', 'rating', 'text', 'pics', 'resp', 'gmap_id'], dtype='object')\n",
      "                 user_id             name           time  rating  \\\n",
      "0  118026874392842649478    rebecca kerns  1620085852324       5   \n",
      "1  101532740754036204131    Peter DeForge  1580309946474       5   \n",
      "2  115404122636203550540    Chad Goulette  1605195974445       5   \n",
      "3  104789336434407408181  Mark LaFountain  1593005848256       5   \n",
      "4  108980665975608069965           Jeff R  1582059996120       5   \n",
      "\n",
      "                                                text  pics  \\\n",
      "0      Always done right from wood stove to screens!  None   \n",
      "1  A great company to work with.  Their sales and...  None   \n",
      "2  Great place to do business with staff was grea...  None   \n",
      "3  Awesome Customer service, quick response, and ...  None   \n",
      "4  If you need a top quality job, by a group of p...  None   \n",
      "\n",
      "                                                resp  \\\n",
      "0  {'time': 1620087641504, 'text': 'Good Evening,...   \n",
      "1  {'time': 1580320228721, 'text': 'Good Afternoo...   \n",
      "2  {'time': 1605195166792, 'text': 'Hi Chad!\n",
      "\n",
      "Tha...   \n",
      "3  {'time': 1593376422014, 'text': 'Mark, thank y...   \n",
      "4  {'time': 1582063833737, 'text': 'Good Afternoo...   \n",
      "\n",
      "                                 gmap_id  \n",
      "0  0x89e02445cb9db457:0x37f42bff4edf7a43  \n",
      "1  0x89e02445cb9db457:0x37f42bff4edf7a43  \n",
      "2  0x89e02445cb9db457:0x37f42bff4edf7a43  \n",
      "3  0x89e02445cb9db457:0x37f42bff4edf7a43  \n",
      "4  0x89e02445cb9db457:0x37f42bff4edf7a43  \n"
     ]
    }
   ],
   "source": [
    "print(vt.shape)\n",
    "print(vt.columns)\n",
    "print(vt.head())"
   ]
  },
  {
   "cell_type": "code",
   "execution_count": 45,
   "id": "5f56b0a7-6314-412f-8c3c-fb15d35969b2",
   "metadata": {},
   "outputs": [],
   "source": [
    "url_metadata = 'https://mcauleylab.ucsd.edu/public_datasets/gdrive/googlelocal/meta-Vermont.json.gz'\n",
    "\n",
    "response_meta = requests.get(url_metadata, stream = True)\n",
    "response_meta.raise_for_status() \n",
    "\n",
    "with gzip.GzipFile(fileobj = io.BytesIO(response_meta.content), mode = 'rb') as gz_file:\n",
    "    data_list1 = [json.loads(line) for line in gz_file]\n",
    "\n",
    "vt_business = pd.DataFrame(data_list1)"
   ]
  },
  {
   "cell_type": "code",
   "execution_count": 46,
   "id": "7e728236-2b1c-4c4a-ac6f-92666bd0b13d",
   "metadata": {},
   "outputs": [
    {
     "name": "stdout",
     "output_type": "stream",
     "text": [
      "                       name  \\\n",
      "0               Royal Group   \n",
      "1  Foxglove Farm and Forest   \n",
      "2              Carr's Gifts   \n",
      "3                     Midas   \n",
      "4             Keyser Energy   \n",
      "\n",
      "                                             address  \\\n",
      "0  Royal Group, 150 Woodstock Ave, Rutland, VT 05701   \n",
      "1  Foxglove Farm and Forest, 777 Delorm Rd, Leice...   \n",
      "2      Carr's Gifts, 21 Center St, Brandon, VT 05733   \n",
      "3  Midas, 207 US Route 4 E, Woodstock Ave, Rutlan...   \n",
      "4  Keyser Energy, 77 Grove St Suite G102, Rutland...   \n",
      "\n",
      "                                 gmap_id description   latitude  longitude  \\\n",
      "0  0x89e02445cb9db457:0x37f42bff4edf7a43        None  43.615537 -72.960497   \n",
      "1  0x4cb549e8877cf0d7:0xe8f003e6d73392ae        None  43.855743 -73.088180   \n",
      "2  0x4cb54a301f3518f7:0x39af4eda1efb9117        None  43.799002 -73.088269   \n",
      "3  0x89e024446398691f:0x4011d3a0f8636036        None  43.623157 -72.953303   \n",
      "4  0x89e0247d160d7263:0x32e4f01896e33f3b        None  43.611359 -72.981580   \n",
      "\n",
      "                                            category  avg_rating  \\\n",
      "0  [Security system supplier, Fire protection equ...         4.9   \n",
      "1                  [Indoor lodging, Farm, Gift shop]         5.0   \n",
      "2                                        [Gift shop]         4.9   \n",
      "3  [Auto repair shop, Brake shop, Muffler shop, O...         4.3   \n",
      "4  [Heating oil supplier, Air conditioning contra...         4.7   \n",
      "\n",
      "   num_of_reviews price                                              hours  \\\n",
      "0             148  None  [[Thursday, 8AM–5PM], [Friday, 8AM–5PM], [Satu...   \n",
      "1               3  None                                               None   \n",
      "2              13  None  [[Wednesday, 10AM–5PM], [Thursday, 10AM–5PM], ...   \n",
      "3              48  None  [[Wednesday, 7:30AM–5PM], [Thursday, 7:30AM–5P...   \n",
      "4              68  None  [[Wednesday, 8AM–4:30PM], [Thursday, 8AM–4:30P...   \n",
      "\n",
      "                                                MISC  \\\n",
      "0  {'Accessibility': ['Wheelchair accessible entr...   \n",
      "1                                               None   \n",
      "2  {'Service options': ['In-store shopping', 'Del...   \n",
      "3  {'Accessibility': ['Wheelchair accessible entr...   \n",
      "4                                               None   \n",
      "\n",
      "                       state  \\\n",
      "0         Closed ⋅ Opens 8AM   \n",
      "1                       None   \n",
      "2    Closed ⋅ Opens 10AM Thu   \n",
      "3  Closed ⋅ Opens 7:30AM Thu   \n",
      "4     Closed ⋅ Opens 8AM Thu   \n",
      "\n",
      "                                    relative_results  \\\n",
      "0  [0x89e0245c4c5c7d2d:0x97bca40a0223d767, 0x89e0...   \n",
      "1                                               None   \n",
      "2  [0x4cb54b57c4f3123b:0x3d4e844c93c72568, 0x4cb5...   \n",
      "3  [0x89e02489914d34f9:0x31610a8d324af00d, 0x89e0...   \n",
      "4  [0x89e0248f040ed50d:0x20f29a9817069602, 0x89e0...   \n",
      "\n",
      "                                                 url  \n",
      "0  https://www.google.com/maps/place//data=!4m2!3...  \n",
      "1  https://www.google.com/maps/place//data=!4m2!3...  \n",
      "2  https://www.google.com/maps/place//data=!4m2!3...  \n",
      "3  https://www.google.com/maps/place//data=!4m2!3...  \n",
      "4  https://www.google.com/maps/place//data=!4m2!3...  \n"
     ]
    }
   ],
   "source": [
    "print(vt_business.head())"
   ]
  },
  {
   "cell_type": "markdown",
   "id": "a1391ad5-4a9c-4822-ac64-0f2ed2961906",
   "metadata": {},
   "source": [
    "For business data\n",
    "Drop 'address', 'latitude', 'longitude', 'avg_rating', 'num_of_reviews', 'price', 'hours', 'MISC', 'state', 'relative_results' column, convert all text to lower case, drop duplicates (around 50 duplicates)"
   ]
  },
  {
   "cell_type": "code",
   "execution_count": 47,
   "id": "6b61c81e-0d3a-4996-9af1-e56771d37291",
   "metadata": {},
   "outputs": [
    {
     "name": "stdout",
     "output_type": "stream",
     "text": [
      "                       name                                gmap_id  \\\n",
      "0               Royal Group  0x89e02445cb9db457:0x37f42bff4edf7a43   \n",
      "1  Foxglove Farm and Forest  0x4cb549e8877cf0d7:0xe8f003e6d73392ae   \n",
      "2              Carr's Gifts  0x4cb54a301f3518f7:0x39af4eda1efb9117   \n",
      "3                     Midas  0x89e024446398691f:0x4011d3a0f8636036   \n",
      "4             Keyser Energy  0x89e0247d160d7263:0x32e4f01896e33f3b   \n",
      "\n",
      "  description                                           category  \\\n",
      "0        None  [Security system supplier, Fire protection equ...   \n",
      "1        None                  [Indoor lodging, Farm, Gift shop]   \n",
      "2        None                                        [Gift shop]   \n",
      "3        None  [Auto repair shop, Brake shop, Muffler shop, O...   \n",
      "4        None  [Heating oil supplier, Air conditioning contra...   \n",
      "\n",
      "                                                 url  \n",
      "0  https://www.google.com/maps/place//data=!4m2!3...  \n",
      "1  https://www.google.com/maps/place//data=!4m2!3...  \n",
      "2  https://www.google.com/maps/place//data=!4m2!3...  \n",
      "3  https://www.google.com/maps/place//data=!4m2!3...  \n",
      "4  https://www.google.com/maps/place//data=!4m2!3...  \n",
      "(11291, 5)\n"
     ]
    }
   ],
   "source": [
    "vt_business = vt_business.drop(['address', 'latitude', 'longitude', 'avg_rating', 'num_of_reviews', 'price', 'hours', 'MISC', 'state', 'relative_results'], axis = 1)\n",
    "vt_business.columns = vt_business.columns.str.lower()\n",
    "print(vt_business.head())\n",
    "print(vt_business.shape)"
   ]
  },
  {
   "cell_type": "code",
   "execution_count": 48,
   "id": "1e1a8fbc-e80a-4a75-a2d7-8e5766eb49af",
   "metadata": {},
   "outputs": [
    {
     "name": "stdout",
     "output_type": "stream",
     "text": [
      "(11243, 5)\n"
     ]
    }
   ],
   "source": [
    "vt_business = vt_business.drop_duplicates(subset=['name','gmap_id'])\n",
    "print(vt_business.shape)"
   ]
  },
  {
   "cell_type": "markdown",
   "id": "7b04f539-d927-4cfa-adf1-de00630f6f1e",
   "metadata": {},
   "source": [
    "For Review data\n",
    "Drop 'name' column, convert all text to lower case, drop duplicates (~3000 duplicates)"
   ]
  },
  {
   "cell_type": "code",
   "execution_count": 17,
   "id": "e6328b73-99b1-4b72-a3e9-31cd78cbfa1c",
   "metadata": {},
   "outputs": [
    {
     "name": "stdout",
     "output_type": "stream",
     "text": [
      "(321483, 7)\n"
     ]
    }
   ],
   "source": [
    "vt = vt.drop(['name'], axis = 1)\n",
    "vt.columns = vt.columns.str.lower() \n",
    "vt = vt.drop_duplicates(subset=['user_id', 'text', 'gmap_id'])\n",
    "print(vt.shape)"
   ]
  },
  {
   "cell_type": "markdown",
   "id": "e0eb8cd7-0d1e-4612-9947-b944751cd347",
   "metadata": {},
   "source": [
    "Change the format of the 'pics' column, merge multiple dictionaries into one with list of pic urls"
   ]
  },
  {
   "cell_type": "code",
   "execution_count": 55,
   "id": "73c169c1-3c00-4628-94e6-800de5ab6fb6",
   "metadata": {},
   "outputs": [],
   "source": [
    "# vt_pics = vt[vt['pics'].notna()]\n",
    "# print(vt_pics.head())\n",
    "# print(vt_pics['pics'])\n",
    "# import pprint\n",
    "# pprint.pprint(vt_pics.loc[17, 'pics'])"
   ]
  },
  {
   "cell_type": "code",
   "execution_count": 58,
   "id": "60f2389d-163d-429c-9dc6-3129684918ed",
   "metadata": {},
   "outputs": [],
   "source": [
    "def collapse_pics(pic_list):\n",
    "    if not pic_list:\n",
    "        return []  \n",
    "    urls = []\n",
    "    for pic_dict in pic_list:\n",
    "        urls.extend(pic_dict.get('url', []))\n",
    "    return urls\n",
    "\n",
    "vt['pics_collapsed'] = vt['pics'].apply(collapse_pics)\n",
    "\n",
    "# print(vt['pics_collapsed'].iloc[17])"
   ]
  },
  {
   "cell_type": "markdown",
   "id": "0c7852a3-3efe-433e-a8f4-0b847920085e",
   "metadata": {},
   "source": [
    "Average rating based on rating-only file"
   ]
  },
  {
   "cell_type": "code",
   "execution_count": null,
   "id": "d9376076-5b9c-4053-bddb-af52f2085c02",
   "metadata": {},
   "outputs": [
    {
     "name": "stdout",
     "output_type": "stream",
     "text": [
      "rating                                  1   2   3   4    5   average\n",
      "gmap_id                                                             \n",
      "0x4054251f453dde0d:0x6fb60c932a35686    0   0   1   6   12  4.578947\n",
      "0x405426dbc2683d73:0x5540daa9269c9598   1   1   1   6   18  4.444444\n",
      "0x4056961885a0f575:0x9a02c2199f695127   0   2   0   4   17  4.565217\n",
      "0x40569854833a734b:0xa0aa4d4cc55b5ac   12  10  38  99  113  4.069853\n",
      "0x405726108eb74aa1:0x7acdaadaff59d35c   5   0   1   5   34  4.400000\n"
     ]
    }
   ],
   "source": [
    "average_ratings = vt.groupby('gmap_id')['rating'].mean()\n",
    "vt['average_rating'] = vt['gmap_id'].map(average_ratings)\n",
    "print(vt.head())"
   ]
  },
  {
   "cell_type": "markdown",
   "id": "6b3d8b88-ab1c-4c0a-ba0e-4e01597912c8",
   "metadata": {},
   "source": [
    "Separate dataset into vt1 (rating only) and vt2 (everything else)"
   ]
  },
  {
   "cell_type": "code",
   "execution_count": null,
   "id": "81d9c27b-949e-4d06-a925-9c19be424dc2",
   "metadata": {},
   "outputs": [
    {
     "name": "stdout",
     "output_type": "stream",
     "text": [
      "(145565, 8)\n",
      "(175918, 8)\n"
     ]
    }
   ],
   "source": [
    "vt1 = vt[vt['pics'].isna() & vt['text'].isna()] # rating only\n",
    "vt2 = vt[~vt.index.isin(vt1.index)] # everything else\n",
    "\n",
    "print(vt1.shape)\n",
    "print(vt2.shape)"
   ]
  },
  {
   "cell_type": "markdown",
   "id": "e7e59c39-2474-4fd2-989b-7bf5b4cdd7bd",
   "metadata": {},
   "source": [
    "Data Exploration"
   ]
  }
 ],
 "metadata": {
  "kernelspec": {
   "display_name": "Python 3 (ipykernel)",
   "language": "python",
   "name": "python3"
  },
  "language_info": {
   "codemirror_mode": {
    "name": "ipython",
    "version": 3
   },
   "file_extension": ".py",
   "mimetype": "text/x-python",
   "name": "python",
   "nbconvert_exporter": "python",
   "pygments_lexer": "ipython3",
   "version": "3.11.5"
  }
 },
 "nbformat": 4,
 "nbformat_minor": 5
}
