{
 "cells": [
  {
   "cell_type": "code",
   "execution_count": 16,
   "id": "d4168d6c-867d-44f9-b088-bbf52ad15b27",
   "metadata": {},
   "outputs": [],
   "source": [
    "import pandas as pd\n",
    "# import os\n",
    "# os.getcwd()"
   ]
  },
  {
   "cell_type": "markdown",
   "id": "fe280b97-d554-46a0-9e5f-e7168183d47b",
   "metadata": {},
   "source": [
    "Read File"
   ]
  },
  {
   "cell_type": "code",
   "execution_count": 17,
   "id": "9f71c91e-0ac3-4c33-a057-a026fc0b697f",
   "metadata": {},
   "outputs": [],
   "source": [
    "vt = pd.read_json('review-Vermont_10.json', lines = True)"
   ]
  },
  {
   "cell_type": "code",
   "execution_count": 18,
   "id": "76868a58-1d1d-4296-b34e-3011707d4684",
   "metadata": {},
   "outputs": [
    {
     "name": "stdout",
     "output_type": "stream",
     "text": [
      "        user_id             name           time  rating  \\\n",
      "0  1.180269e+20    rebecca kerns  1620085852324       5   \n",
      "1  1.015327e+20    Peter DeForge  1580309946474       5   \n",
      "2  1.154041e+20    Chad Goulette  1605195974445       5   \n",
      "3  1.047893e+20  Mark LaFountain  1593005848256       5   \n",
      "4  1.089807e+20           Jeff R  1582059996120       5   \n",
      "\n",
      "                                                text  pics  \\\n",
      "0      Always done right from wood stove to screens!  None   \n",
      "1  A great company to work with.  Their sales and...  None   \n",
      "2  Great place to do business with staff was grea...  None   \n",
      "3  Awesome Customer service, quick response, and ...  None   \n",
      "4  If you need a top quality job, by a group of p...  None   \n",
      "\n",
      "                                                resp  \\\n",
      "0  {'time': 1620087641504, 'text': 'Good Evening,...   \n",
      "1  {'time': 1580320228721, 'text': 'Good Afternoo...   \n",
      "2  {'time': 1605195166792, 'text': 'Hi Chad!\n",
      "\n",
      "Tha...   \n",
      "3  {'time': 1593376422014, 'text': 'Mark, thank y...   \n",
      "4  {'time': 1582063833737, 'text': 'Good Afternoo...   \n",
      "\n",
      "                                 gmap_id  \n",
      "0  0x89e02445cb9db457:0x37f42bff4edf7a43  \n",
      "1  0x89e02445cb9db457:0x37f42bff4edf7a43  \n",
      "2  0x89e02445cb9db457:0x37f42bff4edf7a43  \n",
      "3  0x89e02445cb9db457:0x37f42bff4edf7a43  \n",
      "4  0x89e02445cb9db457:0x37f42bff4edf7a43  \n",
      "Index(['user_id', 'name', 'time', 'rating', 'text', 'pics', 'resp', 'gmap_id'], dtype='object')\n"
     ]
    }
   ],
   "source": [
    "print(vt.head())\n",
    "print(vt.columns)"
   ]
  },
  {
   "cell_type": "code",
   "execution_count": 19,
   "id": "e6328b73-99b1-4b72-a3e9-31cd78cbfa1c",
   "metadata": {},
   "outputs": [],
   "source": [
    "vt = vt.drop(['name'], axis = 1)"
   ]
  },
  {
   "cell_type": "markdown",
   "id": "e0eb8cd7-0d1e-4612-9947-b944751cd347",
   "metadata": {},
   "source": [
    "Changing the format of the pic column;\n",
    "merging multiple dictionaries into one dictionary with the list of pictures"
   ]
  },
  {
   "cell_type": "code",
   "execution_count": 20,
   "id": "73c169c1-3c00-4628-94e6-800de5ab6fb6",
   "metadata": {},
   "outputs": [],
   "source": [
    "# vt_pics = vt[vt['pics'].notna()]\n",
    "# print(vt_pics.head())\n",
    "# print(vt_pics['pics'])\n",
    "# import pprint\n",
    "# pprint.pprint(vt_pics.loc[17, 'pics'])"
   ]
  },
  {
   "cell_type": "code",
   "execution_count": 21,
   "id": "60f2389d-163d-429c-9dc6-3129684918ed",
   "metadata": {},
   "outputs": [],
   "source": [
    "def collapse_pics(pic_list):\n",
    "    if not pic_list:\n",
    "        return []  \n",
    "    urls = []\n",
    "    for pic_dict in pic_list:\n",
    "        urls.extend(pic_dict.get('url', []))\n",
    "    return urls\n",
    "\n",
    "vt['pics_collapsed'] = vt['pics'].apply(collapse_pics)\n",
    "\n",
    "# print(vt['pics_collapsed'].iloc[17])"
   ]
  },
  {
   "cell_type": "code",
   "execution_count": 22,
   "id": "81d9c27b-949e-4d06-a925-9c19be424dc2",
   "metadata": {},
   "outputs": [
    {
     "name": "stdout",
     "output_type": "stream",
     "text": [
      "Index(['user_id', 'time', 'rating', 'text', 'pics', 'resp', 'gmap_id',\n",
      "       'pics_collapsed'],\n",
      "      dtype='object')\n",
      "         user_id           time  rating  text  pics  \\\n",
      "8   1.042706e+20  1599152110607       5  None  None   \n",
      "9   1.091829e+20  1620905207124       5  None  None   \n",
      "10  1.007102e+20  1597762055857       4  None  None   \n",
      "15  1.136587e+20  1520354731256       5  None  None   \n",
      "28  1.007585e+20  1572109422483       4  None  None   \n",
      "\n",
      "                                                 resp  \\\n",
      "8   {'time': 1599156610358, 'text': 'Thank you for...   \n",
      "9   {'time': 1620905931528, 'text': 'Abba! Thanks ...   \n",
      "10  {'time': 1597766455222, 'text': 'Hi David. Tha...   \n",
      "15                                               None   \n",
      "28                                               None   \n",
      "\n",
      "                                  gmap_id pics_collapsed  \n",
      "8   0x89e02445cb9db457:0x37f42bff4edf7a43             []  \n",
      "9   0x89e02445cb9db457:0x37f42bff4edf7a43             []  \n",
      "10  0x89e02445cb9db457:0x37f42bff4edf7a43             []  \n",
      "15  0x4cb54a301f3518f7:0x39af4eda1efb9117             []  \n",
      "28  0x89e024446398691f:0x4011d3a0f8636036             []  \n",
      "        user_id           time  rating  \\\n",
      "0  1.180269e+20  1620085852324       5   \n",
      "1  1.015327e+20  1580309946474       5   \n",
      "2  1.154041e+20  1605195974445       5   \n",
      "3  1.047893e+20  1593005848256       5   \n",
      "4  1.089807e+20  1582059996120       5   \n",
      "\n",
      "                                                text  pics  \\\n",
      "0      Always done right from wood stove to screens!  None   \n",
      "1  A great company to work with.  Their sales and...  None   \n",
      "2  Great place to do business with staff was grea...  None   \n",
      "3  Awesome Customer service, quick response, and ...  None   \n",
      "4  If you need a top quality job, by a group of p...  None   \n",
      "\n",
      "                                                resp  \\\n",
      "0  {'time': 1620087641504, 'text': 'Good Evening,...   \n",
      "1  {'time': 1580320228721, 'text': 'Good Afternoo...   \n",
      "2  {'time': 1605195166792, 'text': 'Hi Chad!\n",
      "\n",
      "Tha...   \n",
      "3  {'time': 1593376422014, 'text': 'Mark, thank y...   \n",
      "4  {'time': 1582063833737, 'text': 'Good Afternoo...   \n",
      "\n",
      "                                 gmap_id pics_collapsed  \n",
      "0  0x89e02445cb9db457:0x37f42bff4edf7a43             []  \n",
      "1  0x89e02445cb9db457:0x37f42bff4edf7a43             []  \n",
      "2  0x89e02445cb9db457:0x37f42bff4edf7a43             []  \n",
      "3  0x89e02445cb9db457:0x37f42bff4edf7a43             []  \n",
      "4  0x89e02445cb9db457:0x37f42bff4edf7a43             []  \n"
     ]
    }
   ],
   "source": [
    "print(vt.columns)\n",
    "vt1 = vt[vt['pics'].isna() & vt['text'].isna()]\n",
    "index_to_exclude = vt1.index\n",
    "vt2 = vt[~vt.index.isin(index_to_exclude)]\n",
    "\n",
    "print(vt1.head())\n",
    "print(vt2.head())"
   ]
  },
  {
   "cell_type": "markdown",
   "id": "0c7852a3-3efe-433e-a8f4-0b847920085e",
   "metadata": {},
   "source": [
    "Average rating based on rating-only file"
   ]
  },
  {
   "cell_type": "code",
   "execution_count": 32,
   "id": "d9376076-5b9c-4053-bddb-af52f2085c02",
   "metadata": {},
   "outputs": [
    {
     "name": "stdout",
     "output_type": "stream",
     "text": [
      "rating                                  1   2   3   4    5   average\n",
      "gmap_id                                                             \n",
      "0x4054251f453dde0d:0x6fb60c932a35686    0   0   1   6   12  4.578947\n",
      "0x405426dbc2683d73:0x5540daa9269c9598   1   1   1   6   18  4.444444\n",
      "0x4056961885a0f575:0x9a02c2199f695127   0   2   0   4   17  4.565217\n",
      "0x40569854833a734b:0xa0aa4d4cc55b5ac   12  10  38  99  113  4.069853\n",
      "0x405726108eb74aa1:0x7acdaadaff59d35c   5   0   1   5   34  4.400000\n"
     ]
    }
   ],
   "source": [
    "rating_counts = vt.groupby(['gmap_id', 'rating']).size().unstack(fill_value=0)\n",
    "rating_counts['average'] = vt.groupby('gmap_id')['rating'].mean()\n",
    "rating_counts = rating_counts[[1, 2, 3, 4, 5, 'average']]\n",
    "print(rating_counts.head())"
   ]
  },
  {
   "cell_type": "markdown",
   "id": "76d8ddb6-2882-49a9-af5d-3560a7fe53f0",
   "metadata": {},
   "source": [
    "Data Exploration - Data distribution Map"
   ]
  },
  {
   "cell_type": "code",
   "execution_count": 8,
   "id": "7996e38e-6303-4d6a-acf3-99a2610197e6",
   "metadata": {},
   "outputs": [
    {
     "name": "stdout",
     "output_type": "stream",
     "text": [
      "Collecting folium\n",
      "  Downloading folium-0.20.0-py2.py3-none-any.whl.metadata (4.2 kB)\n",
      "Collecting branca>=0.6.0 (from folium)\n",
      "  Downloading branca-0.8.1-py3-none-any.whl.metadata (1.5 kB)\n",
      "Requirement already satisfied: jinja2>=2.9 in /opt/anaconda3/lib/python3.12/site-packages (from folium) (3.1.4)\n",
      "Requirement already satisfied: numpy in /opt/anaconda3/lib/python3.12/site-packages (from folium) (1.26.4)\n",
      "Requirement already satisfied: requests in /opt/anaconda3/lib/python3.12/site-packages (from folium) (2.32.3)\n",
      "Requirement already satisfied: xyzservices in /opt/anaconda3/lib/python3.12/site-packages (from folium) (2022.9.0)\n",
      "Requirement already satisfied: MarkupSafe>=2.0 in /opt/anaconda3/lib/python3.12/site-packages (from jinja2>=2.9->folium) (2.1.3)\n",
      "Requirement already satisfied: charset-normalizer<4,>=2 in /opt/anaconda3/lib/python3.12/site-packages (from requests->folium) (3.3.2)\n",
      "Requirement already satisfied: idna<4,>=2.5 in /opt/anaconda3/lib/python3.12/site-packages (from requests->folium) (3.7)\n",
      "Requirement already satisfied: urllib3<3,>=1.21.1 in /opt/anaconda3/lib/python3.12/site-packages (from requests->folium) (2.2.3)\n",
      "Requirement already satisfied: certifi>=2017.4.17 in /opt/anaconda3/lib/python3.12/site-packages (from requests->folium) (2024.8.30)\n",
      "Downloading folium-0.20.0-py2.py3-none-any.whl (113 kB)\n",
      "Downloading branca-0.8.1-py3-none-any.whl (26 kB)\n",
      "Installing collected packages: branca, folium\n",
      "Successfully installed branca-0.8.1 folium-0.20.0\n"
     ]
    }
   ],
   "source": [
    "!pip install folium\n",
    "import folium\n",
    "from folium.plugins import HeatMap\n",
    "import pandas as pd"
   ]
  },
  {
   "cell_type": "markdown",
   "id": "e7e59c39-2474-4fd2-989b-7bf5b4cdd7bd",
   "metadata": {},
   "source": [
    "Data Exploration"
   ]
  }
 ],
 "metadata": {
  "kernelspec": {
   "display_name": "Python 3 (ipykernel)",
   "language": "python",
   "name": "python3"
  },
  "language_info": {
   "codemirror_mode": {
    "name": "ipython",
    "version": 3
   },
   "file_extension": ".py",
   "mimetype": "text/x-python",
   "name": "python",
   "nbconvert_exporter": "python",
   "pygments_lexer": "ipython3",
   "version": "3.11.5"
  }
 },
 "nbformat": 4,
 "nbformat_minor": 5
}
