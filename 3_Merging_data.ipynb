{
 "cells": [
  {
   "cell_type": "markdown",
   "id": "f30a4f2a-60a2-4a1e-b602-e1e15fd2816c",
   "metadata": {},
   "source": [
    "Merge the reviews and metadata dataframes by common key 'gmap_id', save as vt_merged and drop 'gmap_id' column. Insert new column called 'review_id' such that each review has a unique id."
   ]
  },
  {
   "cell_type": "code",
   "execution_count": 1,
   "id": "2d40916d-029a-40f6-b799-713fa1eb4393",
   "metadata": {},
   "outputs": [],
   "source": [
    "import pandas as pd"
   ]
  },
  {
   "cell_type": "code",
   "execution_count": 2,
   "id": "5ea13d3e-244b-4e80-8e9e-c3bb5649de2b",
   "metadata": {},
   "outputs": [],
   "source": [
    "vt_metadata = pd.read_csv('2_vt_metadata_scraped.csv')\n",
    "vt = pd.read_csv('3_vt_review.csv')"
   ]
  },
  {
   "cell_type": "code",
   "execution_count": 3,
   "id": "c7418faa-09dc-4d32-a26e-d99bf561d92a",
   "metadata": {},
   "outputs": [],
   "source": [
    "vt_merged = pd.merge(vt, vt_metadata, on = 'gmap_id', how = 'inner')\n",
    "vt_merged = vt_merged.drop('gmap_id', axis = 1)\n",
    "vt_merged['review_id'] = range(len(vt_merged))\n",
    "column = vt_merged.pop('review_id')\n",
    "vt_merged.insert(0, 'review_id', column)"
   ]
  },
  {
   "cell_type": "markdown",
   "id": "e6b42803-277f-4f6b-8e12-c293c820f862",
   "metadata": {},
   "source": [
    "Add new columns for violation of policies:"
   ]
  },
  {
   "cell_type": "code",
   "execution_count": 4,
   "id": "a13af165-60e7-4ab4-8508-334acfefde6b",
   "metadata": {},
   "outputs": [],
   "source": [
    "vt_merged['is_image_ad'] = None\n",
    "vt_merged['is_image_ad'] = vt_merged['is_image_ad'].astype(bool)\n",
    "\n",
    "vt_merged['is_image_irrelevant'] = None\n",
    "vt_merged['is_image_irrelevant'] = vt_merged['is_image_irrelevant'].astype(bool)\n",
    "\n",
    "vt_merged['is_text_ad'] = None\n",
    "vt_merged['is_text_ad'] = vt_merged['is_text_ad'].astype(bool)\n",
    "\n",
    "vt_merged['is_text_irrelevant'] = None\n",
    "vt_merged['is_text_irrelevant'] = vt_merged['is_text_irrelevant'].astype(bool)\n",
    "\n",
    "vt_merged['is_text_rant'] = None\n",
    "vt_merged['is_text_rant'] = vt_merged['is_text_rant'].astype(bool)\n",
    "\n",
    "vt_merged[\"is_review_ad\"] = vt_merged[\"is_text_ad\"] | vt_merged[\"is_image_ad\"]\n",
    "\n",
    "vt_merged['is_review_irrelevant'] = vt_merged[\"is_image_irrelevant\"] | vt_merged[\"is_text_irrelevant\"]"
   ]
  },
  {
   "cell_type": "markdown",
   "id": "724e6453-8296-4f9b-a749-795c720ed992",
   "metadata": {},
   "source": [
    "Add new columns for quality check:\n",
    "- is the review helpful;\n",
    "not_helpful: review was relevant but does not add info to the reader\n",
    "helpful: provides some helpful information to make decisions about the visit\n",
    "very_helpful: gives crucial or new information that can significantly impact visit decisions\n",
    "- is the review sensible;"
   ]
  },
  {
   "cell_type": "code",
   "execution_count": 5,
   "id": "70c4bf06-c5e5-4d56-a250-0d4e7443e6cb",
   "metadata": {},
   "outputs": [],
   "source": [
    "categories = [\"not helpful\", \"helpful\", \"very helpful\"]\n",
    "vt_merged[\"helpfulness\"] = pd.Categorical(\n",
    "    values=[\"\"] * len(vt_merged), \n",
    "    categories=categories,\n",
    "    ordered=True\n",
    ")\n",
    "\n",
    "vt_merged['sensibility'] = None\n",
    "vt_merged['sensibility'] = vt_merged['sensibility'].astype(bool)"
   ]
  },
  {
   "cell_type": "code",
   "execution_count": 6,
   "id": "5980eb2a-9d28-4c9f-9964-6342eeb63ede",
   "metadata": {},
   "outputs": [
    {
     "name": "stdout",
     "output_type": "stream",
     "text": [
      "Index(['review_id', 'Unnamed: 0', 'user_id', 'time', 'rating', 'text',\n",
      "       'pics_collapsed', 'resp_collapsed', 'unnamed: 0', 'name', 'description',\n",
      "       'category', 'url', 'image', 'is_image_ad', 'is_image_irrelevant',\n",
      "       'is_text_ad', 'is_text_irrelevant', 'is_text_rant', 'is_review_ad',\n",
      "       'is_review_irrelevant', 'helpfulness', 'sensibility'],\n",
      "      dtype='object')\n"
     ]
    }
   ],
   "source": [
    "print(vt_merged.columns)\n",
    "# print(vt_merged.head)"
   ]
  },
  {
   "cell_type": "code",
   "execution_count": 7,
   "id": "fd7d6dd2-3c61-4812-af27-75e7889b11f6",
   "metadata": {},
   "outputs": [
    {
     "name": "stdout",
     "output_type": "stream",
     "text": [
      "Index(['review_id', 'user_id', 'time', 'rating', 'text', 'pics_collapsed',\n",
      "       'resp_collapsed', 'name', 'description', 'category', 'url', 'image',\n",
      "       'is_image_ad', 'is_image_irrelevant', 'is_text_ad',\n",
      "       'is_text_irrelevant', 'is_text_rant', 'is_review_ad',\n",
      "       'is_review_irrelevant', 'helpfulness', 'sensibility'],\n",
      "      dtype='object')\n",
      "<bound method NDFrame.head of         review_id                user_id           time  rating  \\\n",
      "0               0  118026874392842649478  1620085852324       5   \n",
      "1               1  101532740754036204131  1580309946474       5   \n",
      "2               2  115404122636203550540  1605195974445       5   \n",
      "3               3  104789336434407408181  1593005848256       5   \n",
      "4               4  108980665975608069965  1582059996120       5   \n",
      "...           ...                    ...            ...     ...   \n",
      "321478     321478  102604405041956328019  1534560336677       5   \n",
      "321479     321479  113667429629445112279  1601130739739       5   \n",
      "321480     321480  101031262113246567699  1503368927511       5   \n",
      "321481     321481  113511800890575185422  1566750149101       5   \n",
      "321482     321482  107697312145259650604  1521208726615       5   \n",
      "\n",
      "                                                     text pics_collapsed  \\\n",
      "0           Always done right from wood stove to screens!             []   \n",
      "1       A great company to work with. Their sales and ...             []   \n",
      "2       Great place to do business with staff was grea...             []   \n",
      "3       Awesome Customer service, quick response, and ...             []   \n",
      "4       If you need a top quality job, by a group of p...             []   \n",
      "...                                                   ...            ...   \n",
      "321478                                                NaN             []   \n",
      "321479                                                NaN             []   \n",
      "321480                                                NaN             []   \n",
      "321481                                                NaN             []   \n",
      "321482                                                NaN             []   \n",
      "\n",
      "                                           resp_collapsed  \\\n",
      "0       Good Evening, Rebecca! Thanks SO much for the ...   \n",
      "1       Good Afternoon, Peter - Really appreciate the ...   \n",
      "2       Hi Chad!\\n\\nThank you so much for the 5-Star r...   \n",
      "3       Mark, thank you SO much! Really appreciate the...   \n",
      "4       Good Afternoon, Jeff\\n\\nThanks so much! We wor...   \n",
      "...                                                   ...   \n",
      "321478       Thank you for your review! We appreciate it!   \n",
      "321479  Holly, Thank you for your review! We appreciat...   \n",
      "321480  Jennie! Thank you for the 5 star review!! We r...   \n",
      "321481  John, Thank you for your review! We appreciate...   \n",
      "321482                         Thank you for your review!   \n",
      "\n",
      "                          name description  \\\n",
      "0                  Royal Group         NaN   \n",
      "1                  Royal Group         NaN   \n",
      "2                  Royal Group         NaN   \n",
      "3                  Royal Group         NaN   \n",
      "4                  Royal Group         NaN   \n",
      "...                        ...         ...   \n",
      "321478  Wellwood Orchards Inc.         NaN   \n",
      "321479  Wellwood Orchards Inc.         NaN   \n",
      "321480  Wellwood Orchards Inc.         NaN   \n",
      "321481  Wellwood Orchards Inc.         NaN   \n",
      "321482  Wellwood Orchards Inc.         NaN   \n",
      "\n",
      "                                                 category  ...  \\\n",
      "0       ['Security system supplier', 'Fire protection ...  ...   \n",
      "1       ['Security system supplier', 'Fire protection ...  ...   \n",
      "2       ['Security system supplier', 'Fire protection ...  ...   \n",
      "3       ['Security system supplier', 'Fire protection ...  ...   \n",
      "4       ['Security system supplier', 'Fire protection ...  ...   \n",
      "...                                                   ...  ...   \n",
      "321478                                ['Orchard', 'Farm']  ...   \n",
      "321479                                ['Orchard', 'Farm']  ...   \n",
      "321480                                ['Orchard', 'Farm']  ...   \n",
      "321481                                ['Orchard', 'Farm']  ...   \n",
      "321482                                ['Orchard', 'Farm']  ...   \n",
      "\n",
      "                                                    image is_image_ad  \\\n",
      "0       https://lh3.googleusercontent.com/p/AF1QipOX6x...       False   \n",
      "1       https://lh3.googleusercontent.com/p/AF1QipOX6x...       False   \n",
      "2       https://lh3.googleusercontent.com/p/AF1QipOX6x...       False   \n",
      "3       https://lh3.googleusercontent.com/p/AF1QipOX6x...       False   \n",
      "4       https://lh3.googleusercontent.com/p/AF1QipOX6x...       False   \n",
      "...                                                   ...         ...   \n",
      "321478  https://lh3.googleusercontent.com/p/AF1QipNuaz...       False   \n",
      "321479  https://lh3.googleusercontent.com/p/AF1QipNuaz...       False   \n",
      "321480  https://lh3.googleusercontent.com/p/AF1QipNuaz...       False   \n",
      "321481  https://lh3.googleusercontent.com/p/AF1QipNuaz...       False   \n",
      "321482  https://lh3.googleusercontent.com/p/AF1QipNuaz...       False   \n",
      "\n",
      "        is_image_irrelevant  is_text_ad  is_text_irrelevant  is_text_rant  \\\n",
      "0                     False       False               False         False   \n",
      "1                     False       False               False         False   \n",
      "2                     False       False               False         False   \n",
      "3                     False       False               False         False   \n",
      "4                     False       False               False         False   \n",
      "...                     ...         ...                 ...           ...   \n",
      "321478                False       False               False         False   \n",
      "321479                False       False               False         False   \n",
      "321480                False       False               False         False   \n",
      "321481                False       False               False         False   \n",
      "321482                False       False               False         False   \n",
      "\n",
      "        is_review_ad  is_review_irrelevant  helpfulness sensibility  \n",
      "0              False                 False          NaN       False  \n",
      "1              False                 False          NaN       False  \n",
      "2              False                 False          NaN       False  \n",
      "3              False                 False          NaN       False  \n",
      "4              False                 False          NaN       False  \n",
      "...              ...                   ...          ...         ...  \n",
      "321478         False                 False          NaN       False  \n",
      "321479         False                 False          NaN       False  \n",
      "321480         False                 False          NaN       False  \n",
      "321481         False                 False          NaN       False  \n",
      "321482         False                 False          NaN       False  \n",
      "\n",
      "[321483 rows x 21 columns]>\n"
     ]
    }
   ],
   "source": [
    "vt_merged = vt_merged.drop(columns=[\"Unnamed: 0\", \"unnamed: 0\"])\n",
    "print(vt_merged.columns)\n",
    "# print(vt_merged.head)"
   ]
  },
  {
   "cell_type": "markdown",
   "id": "b558eef7-e8ba-44c8-8d62-67c6e7fa633c",
   "metadata": {},
   "source": [
    "Splitting the dataframe into two:\n",
    "- rating only reviews (i.e. no text and no pics)\n",
    "- everything else = with text OR image"
   ]
  },
  {
   "cell_type": "code",
   "execution_count": 8,
   "id": "3a28d808-0226-46be-a870-a7d5d898f343",
   "metadata": {},
   "outputs": [
    {
     "name": "stdout",
     "output_type": "stream",
     "text": [
      "Rating-only shape: (145565, 21)\n",
      "With image or review shape: (175918, 21)\n"
     ]
    }
   ],
   "source": [
    "vt_rating_only = vt_merged[\n",
    "    vt_merged[\"text\"].isna() & (vt_merged[\"pics_collapsed\"] == \"[]\")\n",
    "]\n",
    "\n",
    "vt_with_image_or_review = vt_merged.drop(vt_rating_only.index)\n",
    "\n",
    "print(\"Rating-only shape:\", vt_rating_only.shape)\n",
    "print(\"With image or review shape:\", vt_with_image_or_review.shape)\n"
   ]
  },
  {
   "cell_type": "markdown",
   "id": "69cbd999-dfbc-4b8d-893d-9027f0e4d3aa",
   "metadata": {},
   "source": [
    "We assume that rating alone does not provide enough of a justification to show why it would violate any of the three policies. Hence we only focus on looking at the data frame containing pictures or reviews."
   ]
  },
  {
   "cell_type": "code",
   "execution_count": 9,
   "id": "e9c0d483-3856-47ed-b849-4b3e11b500d0",
   "metadata": {},
   "outputs": [],
   "source": [
    "vt_with_image_or_review.to_csv('vt_merged.csv')"
   ]
  },
  {
   "cell_type": "code",
   "execution_count": null,
   "id": "6cd852d0-146f-42e2-87cb-f78701f3838f",
   "metadata": {},
   "outputs": [],
   "source": []
  }
 ],
 "metadata": {
  "kernelspec": {
   "display_name": "Python 3 (ipykernel)",
   "language": "python",
   "name": "python3"
  },
  "language_info": {
   "codemirror_mode": {
    "name": "ipython",
    "version": 3
   },
   "file_extension": ".py",
   "mimetype": "text/x-python",
   "name": "python",
   "nbconvert_exporter": "python",
   "pygments_lexer": "ipython3",
   "version": "3.11.5"
  }
 },
 "nbformat": 4,
 "nbformat_minor": 5
}
