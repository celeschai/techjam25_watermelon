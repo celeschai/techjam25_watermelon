{
 "cells": [
  {
   "cell_type": "markdown",
   "id": "f30a4f2a-60a2-4a1e-b602-e1e15fd2816c",
   "metadata": {},
   "source": [
    "Merge the reviews and metadata dataframes by common key 'gmap_id', save as vt_merged and drop 'gmap_id' column. Insert new column called 'review_id' such that each review has a unique id."
   ]
  },
  {
   "cell_type": "code",
   "execution_count": 1,
   "id": "2d40916d-029a-40f6-b799-713fa1eb4393",
   "metadata": {},
   "outputs": [],
   "source": [
    "import pandas as pd"
   ]
  },
  {
   "cell_type": "code",
   "execution_count": 2,
   "id": "5ea13d3e-244b-4e80-8e9e-c3bb5649de2b",
   "metadata": {},
   "outputs": [],
   "source": [
    "vt_metadata = pd.read_csv('2_vt_metadata_scraped.csv')\n",
    "vt = pd.read_csv('3_vt_review.csv')"
   ]
  },
  {
   "cell_type": "code",
   "execution_count": 3,
   "id": "c7418faa-09dc-4d32-a26e-d99bf561d92a",
   "metadata": {},
   "outputs": [],
   "source": [
    "vt_merged = pd.merge(vt, vt_metadata, on = 'gmap_id', how = 'inner')\n",
    "vt_merged = vt_merged.drop('gmap_id', axis = 1)\n",
    "vt_merged['review_id'] = range(len(vt_merged))\n",
    "column = vt_merged.pop('review_id')\n",
    "vt_merged.insert(0, 'review_id', column)"
   ]
  },
  {
   "cell_type": "markdown",
   "id": "e6b42803-277f-4f6b-8e12-c293c820f862",
   "metadata": {},
   "source": [
    "Add new columns for violation of policies:"
   ]
  },
  {
   "cell_type": "code",
   "execution_count": 4,
   "id": "a13af165-60e7-4ab4-8508-334acfefde6b",
   "metadata": {},
   "outputs": [],
   "source": [
    "vt_merged['is_image_ad'] = None\n",
    "vt_merged['is_image_ad'] = vt_merged['is_image_ad'].astype(bool)\n",
    "\n",
    "vt_merged['is_image_irrelevant'] = None\n",
    "vt_merged['is_image_irrelevant'] = vt_merged['is_image_irrelevant'].astype(bool)\n",
    "\n",
    "vt_merged['is_text_ad'] = None\n",
    "vt_merged['is_text_ad'] = vt_merged['is_text_ad'].astype(bool)\n",
    "\n",
    "vt_merged['is_text_irrelevant'] = None\n",
    "vt_merged['is_text_irrelevant'] = vt_merged['is_text_irrelevant'].astype(bool)\n",
    "\n",
    "vt_merged['is_text_rant'] = None\n",
    "vt_merged['is_text_rant'] = vt_merged['is_text_rant'].astype(bool)\n",
    "\n",
    "vt_merged[\"is_review_ad\"] = vt_merged[\"is_text_ad\"] | vt_merged[\"is_image_ad\"]\n",
    "\n",
    "vt_merged['is_review_irrelevant'] = vt_merged[\"is_image_irrelevant\"] | vt_merged[\"is_text_irrelevant\"]"
   ]
  },
  {
   "cell_type": "markdown",
   "id": "724e6453-8296-4f9b-a749-795c720ed992",
   "metadata": {},
   "source": [
    "Add new columns for quality check:\n",
    "- is the review helpful;\n",
    "not_helpful: review was relevant but does not add info to the reader\n",
    "helpful: provides some helpful information to make decisions about the visit\n",
    "very_helpful: gives crucial or new information that can significantly impact visit decisions\n",
    "- is the review sensible;"
   ]
  },
  {
   "cell_type": "code",
   "execution_count": 5,
   "id": "70c4bf06-c5e5-4d56-a250-0d4e7443e6cb",
   "metadata": {},
   "outputs": [],
   "source": [
    "categories = [\"not helpful\", \"helpful\", \"very helpful\"]\n",
    "vt_merged[\"helpfulness\"] = pd.Categorical(\n",
    "    values=[\"\"] * len(vt_merged), \n",
    "    categories=categories,\n",
    "    ordered=True\n",
    ")\n",
    "\n",
    "vt_merged['sensibility'] = None\n",
    "vt_merged['sensibility'] = vt_merged['sensibility'].astype(bool)"
   ]
  },
  {
   "cell_type": "code",
   "execution_count": 6,
   "id": "5980eb2a-9d28-4c9f-9964-6342eeb63ede",
   "metadata": {},
   "outputs": [
    {
     "name": "stdout",
     "output_type": "stream",
     "text": [
      "Index(['review_id', 'Unnamed: 0', 'user_id', 'time', 'rating', 'text',\n",
      "       'pics_collapsed', 'resp_collapsed', 'unnamed: 0', 'name', 'description',\n",
      "       'category', 'url', 'image', 'is_image_ad', 'is_image_irrelevant',\n",
      "       'is_text_ad', 'is_text_irrelevant', 'is_text_rant', 'is_review_ad',\n",
      "       'is_review_irrelevant', 'helpfulness', 'sensibility'],\n",
      "      dtype='object')\n"
     ]
    }
   ],
   "source": [
    "print(vt_merged.columns)\n",
    "# print(vt_merged.head)"
   ]
  },
  {
   "cell_type": "code",
   "execution_count": 7,
   "id": "fd7d6dd2-3c61-4812-af27-75e7889b11f6",
   "metadata": {},
   "outputs": [
    {
     "name": "stdout",
     "output_type": "stream",
     "text": [
      "Index(['review_id', 'user_id', 'time', 'rating', 'text', 'pics_collapsed',\n",
      "       'resp_collapsed', 'name', 'description', 'category', 'url', 'image',\n",
      "       'is_image_ad', 'is_image_irrelevant', 'is_text_ad',\n",
      "       'is_text_irrelevant', 'is_text_rant', 'is_review_ad',\n",
      "       'is_review_irrelevant', 'helpfulness', 'sensibility'],\n",
      "      dtype='object')\n"
     ]
    }
   ],
   "source": [
    "vt_merged = vt_merged.drop(columns=[\"Unnamed: 0\", \"unnamed: 0\"])\n",
    "print(vt_merged.columns)\n",
    "# print(vt_merged.head)"
   ]
  },
  {
   "cell_type": "markdown",
   "id": "b558eef7-e8ba-44c8-8d62-67c6e7fa633c",
   "metadata": {},
   "source": [
    "Splitting the dataframe into two:\n",
    "- rating only reviews (i.e. no text and no pics)\n",
    "- everything else = with text OR image"
   ]
  },
  {
   "cell_type": "code",
   "execution_count": 8,
   "id": "3a28d808-0226-46be-a870-a7d5d898f343",
   "metadata": {},
   "outputs": [
    {
     "name": "stdout",
     "output_type": "stream",
     "text": [
      "Rating-only shape: (145565, 21)\n",
      "With image or review shape: (175918, 21)\n"
     ]
    }
   ],
   "source": [
    "vt_rating_only = vt_merged[\n",
    "    vt_merged[\"text\"].isna() & (vt_merged[\"pics_collapsed\"] == \"[]\")\n",
    "]\n",
    "\n",
    "vt_with_image_or_review = vt_merged.drop(vt_rating_only.index)\n",
    "\n",
    "print(\"Rating-only shape:\", vt_rating_only.shape)\n",
    "print(\"With image or review shape:\", vt_with_image_or_review.shape)\n"
   ]
  },
  {
   "cell_type": "markdown",
   "id": "69cbd999-dfbc-4b8d-893d-9027f0e4d3aa",
   "metadata": {},
   "source": [
    "We assume that rating alone does not provide enough of a justification to show why it would violate any of the three policies. Hence we only focus on looking at the data frame containing pictures or reviews."
   ]
  },
  {
   "cell_type": "code",
   "execution_count": 9,
   "id": "e9c0d483-3856-47ed-b849-4b3e11b500d0",
   "metadata": {},
   "outputs": [],
   "source": [
    "vt_with_image_or_review.to_csv('vt_merged.csv')"
   ]
  },
  {
   "cell_type": "code",
   "execution_count": null,
   "id": "6cd852d0-146f-42e2-87cb-f78701f3838f",
   "metadata": {},
   "outputs": [],
   "source": []
  }
 ],
 "metadata": {
  "kernelspec": {
   "display_name": "Python 3",
   "language": "python",
   "name": "python3"
  },
  "language_info": {
   "codemirror_mode": {
    "name": "ipython",
    "version": 3
   },
   "file_extension": ".py",
   "mimetype": "text/x-python",
   "name": "python",
   "nbconvert_exporter": "python",
   "pygments_lexer": "ipython3",
   "version": "3.13.0"
  }
 },
 "nbformat": 4,
 "nbformat_minor": 5
}
